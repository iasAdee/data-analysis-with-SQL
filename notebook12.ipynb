{
 "cells": [
  {
   "cell_type": "markdown",
   "id": "aa2069c8-f454-4802-b9a8-e85d0b106c32",
   "metadata": {
    "id": "aa2069c8-f454-4802-b9a8-e85d0b106c32"
   },
   "source": [
    "## GROUP 15 FINAL PROJECT"
   ]
  },
  {
   "cell_type": "markdown",
   "id": "2f8b0c63-5a85-4ba4-9c3c-060e9c313250",
   "metadata": {
    "id": "2f8b0c63-5a85-4ba4-9c3c-060e9c313250"
   },
   "source": [
    "#### Identify and describe your dataset"
   ]
  },
  {
   "cell_type": "markdown",
   "id": "8bf3997b-fbc1-4f05-8bf6-88d376929442",
   "metadata": {},
   "source": [
    "The dataset, sourced from the website https://data.lacity.org/Public-Safety/Crime-Data-from-2020-to-Present/2nrs-mtv8/about_data, compiles crime data in the city of Los Angeles from 2020 to the present, offering a comprehensive record of public safety incidents. With a substantial dataset of 854,000 records, each row captures details of specific crimes, while the 28 columns provide a wealth of information including incident dates, locations, crime types, victim demographics, and investigative status. This dataset serves as a valuable resource for analyzing and understanding the dynamics of criminal activity in Los Angeles over the specified timeframe"
   ]
  },
  {
   "cell_type": "markdown",
   "id": "fb5c2e6a-92a0-4f1e-ab9b-2dfcae26517f",
   "metadata": {},
   "source": [
    "#### Dataset Overview: Crime Incident Data\n",
    "\n",
    "DR_NO: Unique report number assigned to each crime incident.\n",
    "\n",
    "Date Rptd: Date when the crime was officially reported.\n",
    "\n",
    "DATE OCC: Date of the actual occurrence of the crime.\n",
    "\n",
    "TIME OCC: Time when the crime took place.\n",
    "\n",
    "AREA: Numeric code indicating the geographic area where the incident occurred.\n",
    "\n",
    "AREA NAME: Name of the geographic area where the incident occurred.\n",
    "\n",
    "Rpt Dist No: Report district number associated with the incident.\n",
    "\n",
    "Part 1-2: Classification of the crime as either Part 1 or Part 2.\n",
    "\n",
    "Crm Cd: Code representing the type of crime.\n",
    "\n",
    "Crm Cd Desc: Description of the crime.\n",
    "\n",
    "Mocodes: Modus operandi codes providing details about the method used in the crime.\n",
    "\n",
    "Vict Age: Age of the victim involved in the incident.\n",
    "\n",
    "Vict Sex: Gender of the victim.\n",
    "\n",
    "Vict Descent: Descent or ethnicity of the victim.\n",
    "\n",
    "Premis Cd: Code indicating the type of premises where the incident occurred.\n",
    "\n",
    "Premis Desc: Description of the premises.\n",
    "\n",
    "Weapon Used Cd: Code indicating the weapon used in the crime.\n",
    "\n",
    "Weapon Desc: Description of the weapon used.\n",
    "\n",
    "Status: Current status of the crime report.\n",
    "\n",
    "Status Desc: Description of the status of the crime report.\n",
    "\n",
    "Crm Cd 1-4: Additional crime codes associated with the incident.\n",
    "\n",
    "LOCATION: General location where the incident occurred.\n",
    "\n",
    "Cross Street: Information about the cross street related to the incident.\n",
    "\n",
    "LAT: Latitude coordinates of the incident location.\n",
    "\n",
    "LON: Longitude coordinates of the incident location."
   ]
  },
  {
   "cell_type": "markdown",
   "id": "14ad2c1f-aeea-4a5b-8a93-c6688af16f0c",
   "metadata": {},
   "source": [
    "#### Why is important and what appeals to you about it\n",
    "\n",
    "The importance of a dataset often lies in its relevance to a specific research question or analytical goal. If the dataset covers a wide range of crime incidents in Los Angeles from 2020 to the present, it could be crucial for studying crime patterns, identifying trends, and informing public safety strategies.\n",
    "\n",
    "Datasets that provide a comprehensive view of a phenomenon, such as crime incidents, are valuable. The dataset you are using covers a significant time span (from 2020 to the present) and includes a large number of records (854k), making it potentially rich in information for various analyses.\n",
    "\n",
    "A dataset's appeal often stems from the diversity of variables it includes. Your crime dataset contains 28 columns, covering aspects like date and time of occurrence, location, crime types, victim demographics, and more. This diversity allows for a nuanced exploration of crime-related factors.\n",
    "\n",
    "Given that the dataset is specific to the city of Los Angeles, it is geographically focused. This can be advantageous for local policymakers, law enforcement agencies, and researchers seeking insights into crime dynamics within that particular region.\n"
   ]
  },
  {
   "cell_type": "markdown",
   "id": "f8642f80-d1ac-45a6-9da9-0830a5d42393",
   "metadata": {},
   "source": [
    "#### Is this dataset suitable for dimensional modeling and analytical analysis?\n",
    "\n",
    "\n",
    "The crime dataset is suitable for dimensional modeling and analytical analysis due to its structured format and granular data. With key dimensions like time and location, along with fact and dimension tables, the dataset allows for comprehensive exploration of crime patterns. The inclusion of temporal information supports the creation of a time dimension for time-based analysis. Overall, these characteristics make the dataset well-suited for in-depth analytical investigations into crime trends and patterns."
   ]
  },
  {
   "cell_type": "code",
   "execution_count": 1,
   "id": "a4f62b45-514f-498d-bbda-fbdad2fc0a3d",
   "metadata": {
    "id": "a4f62b45-514f-498d-bbda-fbdad2fc0a3d",
    "outputId": "1813b628-3332-48a2-b2be-c0bf71ad2316"
   },
   "outputs": [],
   "source": [
    "!pip freeze | grep -E 'ipython-sql|psycopg2'"
   ]
  },
  {
   "cell_type": "code",
   "execution_count": 2,
   "id": "4cc65b2f-e396-45b6-9c24-90c0ca1e70a4",
   "metadata": {
    "id": "4cc65b2f-e396-45b6-9c24-90c0ca1e70a4",
    "outputId": "b89a612d-17ba-4f43-b17a-5de16c6607cf"
   },
   "outputs": [
    {
     "name": "stdout",
     "output_type": "stream",
     "text": [
      "zsh:1: command not found: dropdb\r\n"
     ]
    }
   ],
   "source": [
    "!dropdb -U student group15final"
   ]
  },
  {
   "cell_type": "code",
   "execution_count": 91,
   "id": "61c9a485-04b9-4c0b-8445-27e99bdb395f",
   "metadata": {
    "id": "61c9a485-04b9-4c0b-8445-27e99bdb395f",
    "outputId": "774d15ea-f934-45a6-9674-429c51adefd6"
   },
   "outputs": [
    {
     "name": "stdout",
     "output_type": "stream",
     "text": [
      "createdb: error: database creation failed: ERROR:  database \"group15final\" already exists\n"
     ]
    }
   ],
   "source": [
    "!createdb -U student group15final"
   ]
  },
  {
   "cell_type": "code",
   "execution_count": 92,
   "id": "8938cc8b-5366-457b-a269-64ccc856d6f1",
   "metadata": {
    "id": "8938cc8b-5366-457b-a269-64ccc856d6f1"
   },
   "outputs": [
    {
     "name": "stdout",
     "output_type": "stream",
     "text": [
      "The sql extension is already loaded. To reload it, use:\n",
      "  %reload_ext sql\n"
     ]
    }
   ],
   "source": [
    "%load_ext sql"
   ]
  },
  {
   "cell_type": "code",
   "execution_count": 93,
   "id": "9c443096-eb6e-4285-aa20-a2a2653c985d",
   "metadata": {
    "id": "9c443096-eb6e-4285-aa20-a2a2653c985d"
   },
   "outputs": [],
   "source": [
    "%sql postgresql://student@/group15final"
   ]
  },
  {
   "cell_type": "code",
   "execution_count": 6,
   "id": "d5f7a94d-9146-430c-901f-a6342ef8a2ab",
   "metadata": {
    "tags": []
   },
   "outputs": [
    {
     "name": "stdout",
     "output_type": "stream",
     "text": [
      "Archive:  Crime_Data_from_2020_to_Present.zip\n",
      "  inflating: Crime_Data_from_2020_to_Present.csv  \n"
     ]
    }
   ],
   "source": [
    "!unzip -o Crime_Data_from_2020_to_Present.zip"
   ]
  },
  {
   "cell_type": "code",
   "execution_count": 7,
   "id": "3b693326-b973-4d3a-98f2-9437b1fb4eae",
   "metadata": {
    "id": "3b693326-b973-4d3a-98f2-9437b1fb4eae",
    "outputId": "305476c7-d0ad-4bd9-ce46-21dc3b8260a4"
   },
   "outputs": [
    {
     "name": "stdout",
     "output_type": "stream",
     "text": [
      "Archive:  Crime_Data_from_2020_to_Present.zip\n",
      "  inflating: Crime_Data_from_2020_to_Present.csv  \n"
     ]
    }
   ],
   "source": [
    "!unzip -o Crime_Data_from_2020_to_Present"
   ]
  },
  {
   "cell_type": "code",
   "execution_count": 94,
   "id": "7811687f-a8d2-46cf-8f1e-8da984111477",
   "metadata": {
    "id": "7811687f-a8d2-46cf-8f1e-8da984111477",
    "outputId": "84d6cb76-f79b-4e03-9213-d0d9b5bff1ea"
   },
   "outputs": [
    {
     "name": "stdout",
     "output_type": "stream",
     "text": [
      "mv: cannot stat 'Crime_Data_from_2020_to_Present.csv': No such file or directory\n"
     ]
    }
   ],
   "source": [
    "!mv Crime_Data_from_2020_to_Present.csv crimeData.csv"
   ]
  },
  {
   "cell_type": "markdown",
   "id": "3ac5bd6b-8525-4b26-9bc8-a8ce9008624b",
   "metadata": {},
   "source": [
    "To get the counts and returns the total number of lines in the \"crimeData.csv\""
   ]
  },
  {
   "cell_type": "code",
   "execution_count": 6,
   "id": "6ae77447-938f-4f6e-8846-c640eb8ef3e4",
   "metadata": {
    "id": "6ae77447-938f-4f6e-8846-c640eb8ef3e4",
    "outputId": "824c8e7f-e7f4-4dd8-c797-cb1e2a2cf795"
   },
   "outputs": [
    {
     "name": "stdout",
     "output_type": "stream",
     "text": [
      "843515 crimeData.csv\n"
     ]
    }
   ],
   "source": [
    "!wc -l crimeData.csv"
   ]
  },
  {
   "cell_type": "markdown",
   "id": "0dead3de-07ce-42e9-ac5f-9d42939eb8c9",
   "metadata": {},
   "source": [
    "To display the all column names and their corresponding indices in the \"crimeData.csv\" file"
   ]
  },
  {
   "cell_type": "code",
   "execution_count": 7,
   "id": "bad4670a-2d4f-440e-8f16-db2f11a5fff3",
   "metadata": {
    "id": "bad4670a-2d4f-440e-8f16-db2f11a5fff3",
    "outputId": "0c17f8d2-0f9d-434d-ad0f-c5c468264f4d"
   },
   "outputs": [
    {
     "name": "stdout",
     "output_type": "stream",
     "text": [
      "  1: DR_NO\n",
      "  2: Date Rptd\n",
      "  3: DATE OCC\n",
      "  4: TIME OCC\n",
      "  5: AREA\n",
      "  6: AREA NAME\n",
      "  7: Rpt Dist No\n",
      "  8: Part 1-2\n",
      "  9: Crm Cd\n",
      " 10: Crm Cd Desc\n",
      " 11: Mocodes\n",
      " 12: Vict Age\n",
      " 13: Vict Sex\n",
      " 14: Vict Descent\n",
      " 15: Premis Cd\n",
      " 16: Premis Desc\n",
      " 17: Weapon Used Cd\n",
      " 18: Weapon Desc\n",
      " 19: Status\n",
      " 20: Status Desc\n",
      " 21: Crm Cd 1\n",
      " 22: Crm Cd 2\n",
      " 23: Crm Cd 3\n",
      " 24: Crm Cd 4\n",
      " 25: LOCATION\n",
      " 26: Cross Street\n",
      " 27: LAT\n",
      " 28: LON\n"
     ]
    }
   ],
   "source": [
    "!csvcut -n crimeData.csv"
   ]
  },
  {
   "cell_type": "markdown",
   "id": "c2af0c98-dba5-4d4d-8bf6-22032765dca9",
   "metadata": {},
   "source": [
    "Selecting only the relevant columns for analytics, the command extracts specific data from the \"crimeData.csv\" file and saves the refined dataset to a new file named \"Crime_data.csv.\""
   ]
  },
  {
   "cell_type": "code",
   "execution_count": 8,
   "id": "77f660c6-7567-4745-9de2-58f11a7b5c76",
   "metadata": {
    "id": "77f660c6-7567-4745-9de2-58f11a7b5c76"
   },
   "outputs": [],
   "source": [
    "!csvcut -c 1,2,3,4,5,6,7,9,10,12,13,14,15,16,17,18,19,20,25,26,27,28  crimeData.csv > Crime_data.csv"
   ]
  },
  {
   "cell_type": "markdown",
   "id": "9f27a421-92f1-468a-8863-f2027f4545df",
   "metadata": {},
   "source": [
    "Exploring the dataset, checking data quality, and obtaining key information about the data's structure and characteristics."
   ]
  },
  {
   "cell_type": "code",
   "execution_count": 9,
   "id": "a779c715-d1fa-4ff7-b940-ce5ffa66ad8d",
   "metadata": {
    "id": "a779c715-d1fa-4ff7-b940-ce5ffa66ad8d",
    "outputId": "05157d43-8f17-4497-fe05-0d95abc5ceed"
   },
   "outputs": [
    {
     "name": "stdout",
     "output_type": "stream",
     "text": [
      "  1. \"DR_NO\"\n",
      "\n",
      "\tType of data:          Number\n",
      "\tContains null values:  False\n",
      "\tUnique values:         9999\n",
      "\tSmallest value:        10304468\n",
      "\tLargest value:         222108906\n",
      "\tSum:                   2011509973880\n",
      "\tMean:                  201171114.499\n",
      "\tMedian:                200509281\n",
      "\tStDev:                 3442026.547\n",
      "\tMost common values:    10304468 (1x)\n",
      "\t                       190101086 (1x)\n",
      "\t                       200110444 (1x)\n",
      "\t                       191501505 (1x)\n",
      "\t                       191921269 (1x)\n",
      "\n",
      "  2. \"Date Rptd\"\n",
      "\n",
      "\tType of data:          DateTime\n",
      "\tContains null values:  False\n",
      "\tUnique values:         557\n",
      "\tSmallest value:        2020-01-01 00:00:00\n",
      "\tLargest value:         2022-08-20 00:00:00\n",
      "\tMost common values:    2020-01-16 00:00:00 (161x)\n",
      "\t                       2020-01-30 00:00:00 (151x)\n",
      "\t                       2020-01-27 00:00:00 (135x)\n",
      "\t                       2020-01-28 00:00:00 (135x)\n",
      "\t                       2020-01-25 00:00:00 (130x)\n",
      "\n",
      "  3. \"DATE OCC\"\n",
      "\n",
      "\tType of data:          DateTime\n",
      "\tContains null values:  False\n",
      "\tUnique values:         366\n",
      "\tSmallest value:        2020-01-01 00:00:00\n",
      "\tLargest value:         2020-12-31 00:00:00\n",
      "\tMost common values:    2020-01-01 00:00:00 (153x)\n",
      "\t                       2020-01-16 00:00:00 (141x)\n",
      "\t                       2020-01-17 00:00:00 (139x)\n",
      "\t                       2020-01-19 00:00:00 (138x)\n",
      "\t                       2020-01-24 00:00:00 (138x)\n",
      "\n",
      "  4. \"TIME OCC\"\n",
      "\n",
      "\tType of data:          Number\n",
      "\tContains null values:  False\n",
      "\tUnique values:         660\n",
      "\tSmallest value:        1\n",
      "\tLargest value:         2359\n",
      "\tSum:                   13655955\n",
      "\tMean:                  1365.732\n",
      "\tMedian:                1500\n",
      "\tStDev:                 648.683\n",
      "\tMost common values:    1800 (352x)\n",
      "\t                       2000 (347x)\n",
      "\t                       1200 (334x)\n",
      "\t                       1900 (312x)\n",
      "\t                       1700 (300x)\n",
      "\n",
      "  5. \"AREA\"\n",
      "\n",
      "\tType of data:          Number\n",
      "\tContains null values:  False\n",
      "\tUnique values:         21\n",
      "\tSmallest value:        1\n",
      "\tLargest value:         21\n",
      "\tSum:                   66720\n",
      "\tMean:                  6.673\n",
      "\tMedian:                5\n",
      "\tStDev:                 5.133\n",
      "\tMost common values:    1 (1345x)\n",
      "\t                       3 (1170x)\n",
      "\t                       5 (1054x)\n",
      "\t                       2 (969x)\n",
      "\t                       4 (855x)\n",
      "\n",
      "  6. \"AREA NAME\"\n",
      "\n",
      "\tType of data:          Text\n",
      "\tContains null values:  False\n",
      "\tUnique values:         21\n",
      "\tLongest value:         11 characters\n",
      "\tMost common values:    Central (1345x)\n",
      "\t                       Southwest (1170x)\n",
      "\t                       Harbor (1054x)\n",
      "\t                       Rampart (969x)\n",
      "\t                       Hollenbeck (855x)\n",
      "\n",
      "  7. \"Rpt Dist No\"\n",
      "\n",
      "\tType of data:          Number\n",
      "\tContains null values:  False\n",
      "\tUnique values:         1032\n",
      "\tSmallest value:        101\n",
      "\tLargest value:         2197\n",
      "\tSum:                   7133771\n",
      "\tMean:                  713.448\n",
      "\tMedian:                541\n",
      "\tStDev:                 513.131\n",
      "\tMost common values:    162 (142x)\n",
      "\t                       182 (83x)\n",
      "\t                       152 (82x)\n",
      "\t                       111 (80x)\n",
      "\t                       245 (71x)\n",
      "\n",
      "  8. \"Crm Cd\"\n",
      "\n",
      "\tType of data:          Number\n",
      "\tContains null values:  False\n",
      "\tUnique values:         99\n",
      "\tSmallest value:        110\n",
      "\tLargest value:         956\n",
      "\tSum:                   4609850\n",
      "\tMean:                  461.031\n",
      "\tMedian:                341\n",
      "\tStDev:                 195.632\n",
      "\tMost common values:    331 (3086x)\n",
      "\t                       510 (707x)\n",
      "\t                       624 (620x)\n",
      "\t                       330 (540x)\n",
      "\t                       440 (455x)\n",
      "\n",
      "  9. \"Crm Cd Desc\"\n",
      "\n",
      "\tType of data:          Text\n",
      "\tContains null values:  False\n",
      "\tUnique values:         99\n",
      "\tLongest value:         56 characters\n",
      "\tMost common values:    THEFT FROM MOTOR VEHICLE - GRAND ($950.01 AND OVER) (3086x)\n",
      "\t                       VEHICLE - STOLEN (707x)\n",
      "\t                       BATTERY - SIMPLE ASSAULT (620x)\n",
      "\t                       BURGLARY FROM VEHICLE (540x)\n",
      "\t                       THEFT PLAIN - PETTY ($950 & UNDER) (455x)\n",
      "\n",
      " 10. \"Vict Age\"\n",
      "\n",
      "\tType of data:          Number\n",
      "\tContains null values:  False\n",
      "\tUnique values:         96\n",
      "\tSmallest value:        -1\n",
      "\tLargest value:         99\n",
      "\tSum:                   326453\n",
      "\tMean:                  32.649\n",
      "\tMedian:                33\n",
      "\tStDev:                 21.14\n",
      "\tMost common values:    0 (1915x)\n",
      "\t                       29 (241x)\n",
      "\t                       30 (239x)\n",
      "\t                       31 (236x)\n",
      "\t                       33 (229x)\n",
      "\n",
      " 11. \"Vict Sex\"\n",
      "\n",
      "\tType of data:          Text\n",
      "\tContains null values:  True (excluded from calculations)\n",
      "\tUnique values:         5\n",
      "\tLongest value:         1 characters\n",
      "\tMost common values:    M (4807x)\n",
      "\t                       F (3460x)\n",
      "\t                       X (866x)\n",
      "\t                       None (863x)\n",
      "\t                       H (3x)\n",
      "\n",
      " 12. \"Vict Descent\"\n",
      "\n",
      "\tType of data:          Text\n",
      "\tContains null values:  True (excluded from calculations)\n",
      "\tUnique values:         15\n",
      "\tLongest value:         1 characters\n",
      "\tMost common values:    H (3099x)\n",
      "\t                       W (2588x)\n",
      "\t                       B (1212x)\n",
      "\t                       X (950x)\n",
      "\t                       None (863x)\n",
      "\n",
      " 13. \"Premis Cd\"\n",
      "\n",
      "\tType of data:          Number\n",
      "\tContains null values:  False\n",
      "\tUnique values:         180\n",
      "\tSmallest value:        101\n",
      "\tLargest value:         971\n",
      "\tSum:                   2582001\n",
      "\tMean:                  258.226\n",
      "\tMedian:                108\n",
      "\tStDev:                 213.487\n",
      "\tMost common values:    101 (3284x)\n",
      "\t                       501 (1074x)\n",
      "\t                       108 (973x)\n",
      "\t                       502 (911x)\n",
      "\t                       102 (488x)\n",
      "\n",
      " 14. \"Premis Desc\"\n",
      "\n",
      "\tType of data:          Text\n",
      "\tContains null values:  True (excluded from calculations)\n",
      "\tUnique values:         180\n",
      "\tLongest value:         63 characters\n",
      "\tMost common values:    STREET (3284x)\n",
      "\t                       SINGLE FAMILY DWELLING (1074x)\n",
      "\t                       PARKING LOT (973x)\n",
      "\t                       MULTI-UNIT DWELLING (APARTMENT, DUPLEX, ETC) (911x)\n",
      "\t                       SIDEWALK (488x)\n",
      "\n",
      " 15. \"Weapon Used Cd\"\n",
      "\n",
      "\tType of data:          Number\n",
      "\tContains null values:  True (excluded from calculations)\n",
      "\tUnique values:         51\n",
      "\tSmallest value:        101\n",
      "\tLargest value:         515\n",
      "\tSum:                   886549\n",
      "\tMean:                  375.656\n",
      "\tMedian:                400\n",
      "\tStDev:                 115.872\n",
      "\tMost common values:    None (7639x)\n",
      "\t                       400 (1300x)\n",
      "\t                       500 (307x)\n",
      "\t                       511 (173x)\n",
      "\t                       102 (105x)\n",
      "\n",
      " 16. \"Weapon Desc\"\n",
      "\n",
      "\tType of data:          Text\n",
      "\tContains null values:  True (excluded from calculations)\n",
      "\tUnique values:         51\n",
      "\tLongest value:         46 characters\n",
      "\tMost common values:    None (7639x)\n",
      "\t                       STRONG-ARM (HANDS, FIST, FEET OR BODILY FORCE) (1300x)\n",
      "\t                       UNKNOWN WEAPON/OTHER WEAPON (307x)\n",
      "\t                       VERBAL THREAT (173x)\n",
      "\t                       HAND GUN (105x)\n",
      "\n",
      " 17. \"Status\"\n",
      "\n",
      "\tType of data:          Text\n",
      "\tContains null values:  False\n",
      "\tUnique values:         5\n",
      "\tLongest value:         2 characters\n",
      "\tMost common values:    IC (8641x)\n",
      "\t                       AO (729x)\n",
      "\t                       AA (600x)\n",
      "\t                       JA (25x)\n",
      "\t                       JO (4x)\n",
      "\n",
      " 18. \"Status Desc\"\n",
      "\n",
      "\tType of data:          Text\n",
      "\tContains null values:  False\n",
      "\tUnique values:         5\n",
      "\tLongest value:         12 characters\n",
      "\tMost common values:    Invest Cont (8641x)\n",
      "\t                       Adult Other (729x)\n",
      "\t                       Adult Arrest (600x)\n",
      "\t                       Juv Arrest (25x)\n",
      "\t                       Juv Other (4x)\n",
      "\n",
      " 19. \"LOCATION\"\n",
      "\n",
      "\tType of data:          Text\n",
      "\tContains null values:  False\n",
      "\tUnique values:         6732\n",
      "\tLongest value:         40 characters\n",
      "\tMost common values:    700 W  7TH                          ST (52x)\n",
      "\t                       6TH (42x)\n",
      "\t                       800 N  ALAMEDA                      ST (41x)\n",
      "\t                       6TH                          ST (41x)\n",
      "\t                       7TH (39x)\n",
      "\n",
      " 20. \"Cross Street\"\n",
      "\n",
      "\tType of data:          Text\n",
      "\tContains null values:  True (excluded from calculations)\n",
      "\tUnique values:         1058\n",
      "\tLongest value:         34 characters\n",
      "\tMost common values:    None (8067x)\n",
      "\t                       FIGUEROA (26x)\n",
      "\t                       LOS ANGELES (22x)\n",
      "\t                       BROADWAY (18x)\n",
      "\t                       SAN PEDRO (18x)\n",
      "\n",
      " 21. \"LAT\"\n",
      "\n",
      "\tType of data:          Number\n",
      "\tContains null values:  False\n",
      "\tUnique values:         2530\n",
      "\tSmallest value:        0\n",
      "\tLargest value:         34.326\n",
      "\tSum:                   339974.394\n",
      "\tMean:                  34.001\n",
      "\tMedian:                34.051\n",
      "\tStDev:                 1.232\n",
      "\tMost common values:    34.048 (60x)\n",
      "\t                       34.047 (51x)\n",
      "\t                       34.056 (47x)\n",
      "\t                       34.007 (43x)\n",
      "\t                       34.047 (42x)\n",
      "\n",
      " 22. \"LON\"\n",
      "\n",
      "\tType of data:          Number\n",
      "\tContains null values:  False\n",
      "\tUnique values:         2773\n",
      "\tSmallest value:        -118.661\n",
      "\tLargest value:         0\n",
      "\tSum:                   -1181581.062\n",
      "\tMean:                  -118.17\n",
      "\tMedian:                -118.295\n",
      "\tStDev:                 4.265\n",
      "\tMost common values:    -118.291 (58x)\n",
      "\t                       -118.258 (53x)\n",
      "\t                       -118.309 (46x)\n",
      "\t                       -118.237 (42x)\n",
      "\t                       -118.292 (42x)\n",
      "\n",
      "Row count: 9999\n"
     ]
    }
   ],
   "source": [
    "!head -n 10000 Crime_data.csv | csvstat"
   ]
  },
  {
   "cell_type": "markdown",
   "id": "0b1f5733-e711-4c4d-a9f1-7ff30cf0a668",
   "metadata": {
    "id": "0b1f5733-e711-4c4d-a9f1-7ff30cf0a668"
   },
   "source": [
    "### Creating Tables"
   ]
  },
  {
   "cell_type": "markdown",
   "id": "373ec4eb-5cb1-42ca-b452-c0f033331110",
   "metadata": {},
   "source": [
    "Dropping the table if it already exists, the command creates a new table named \"CRIME_DATA\" to house all the relevant data. This ensures a clean slate for the table, avoiding potential conflicts, and establishes a fresh structure to accommodate the dataset."
   ]
  },
  {
   "cell_type": "code",
   "execution_count": 10,
   "id": "f3d94853-1f45-465b-ab1c-063b823465c6",
   "metadata": {
    "id": "f3d94853-1f45-465b-ab1c-063b823465c6",
    "outputId": "86958fd8-5b5f-4780-adfb-f1ecf34827a3"
   },
   "outputs": [
    {
     "name": "stdout",
     "output_type": "stream",
     "text": [
      " * postgresql://student@/group15final\n",
      "Done.\n",
      "Done.\n"
     ]
    },
    {
     "data": {
      "text/plain": [
       "[]"
      ]
     },
     "execution_count": 10,
     "metadata": {},
     "output_type": "execute_result"
    }
   ],
   "source": [
    "%%sql\n",
    "DROP TABLE IF EXISTS CRIME_DATA;\n",
    "CREATE TABLE CRIME_DATA(\n",
    "    DR_NO      INTEGER NOT NULL,\n",
    "    Date_Rptd  TIMESTAMP NOT NULL,\n",
    "    Date_Occ   TIMESTAMP NOT NULL,\n",
    "    Time_Occ   INTEGER,\n",
    "    Area       CHAR(5)     NOT NULL,\n",
    "    Area_Name  CHAR(255)      NOT NULL,\n",
    "    Rpt_Dist_No INTEGER     NOT NULL,\n",
    "    Crm_Cd     INTEGER   NOT NULL,\n",
    "    Crm_Cd_Desc CHAR(60)     NOT NULL,\n",
    "    Vict_Age   INTEGER,\n",
    "    Vict_Sex   CHAR,\n",
    "    Vict_Descent CHAR,\n",
    "    Premis_Cd  INTEGER,\n",
    "    Premis_Desc CHAR(64),\n",
    "    Weapon_Used_Cd INTEGER,\n",
    "    Weapon_Desc CHAR(50),\n",
    "    Status     CHAR(5),\n",
    "    Status_Desc CHAR(15),\n",
    "    Location   CHAR(40) NOT NULL,\n",
    "    Cross_Street CHAR(35),\n",
    "    Lat    VARCHAR(25),\n",
    "    Lon    VARCHAR(25)\n",
    ");\n"
   ]
  },
  {
   "cell_type": "code",
   "execution_count": 11,
   "id": "a04b96f3-7446-465d-9e3a-14f46d3659f1",
   "metadata": {
    "id": "a04b96f3-7446-465d-9e3a-14f46d3659f1",
    "outputId": "689db1fa-a808-4661-f939-20fbc2f1cf66"
   },
   "outputs": [
    {
     "name": "stdout",
     "output_type": "stream",
     "text": [
      "/home/ubuntu/notebooks/Final Project\n"
     ]
    }
   ],
   "source": [
    "!pwd"
   ]
  },
  {
   "cell_type": "markdown",
   "id": "6a354cd5-db0e-4d11-a140-4d9c50e99a33",
   "metadata": {},
   "source": [
    "This SQL command facilitates the seamless transfer of data from the specified file path (\"Crime_data.csv\") to the pre-existing \"CRIME_DATA\" table, streamlining the data loading process."
   ]
  },
  {
   "cell_type": "code",
   "execution_count": 12,
   "id": "f8f49711-9116-46d0-a5f6-c7f04b4a38ec",
   "metadata": {
    "id": "f8f49711-9116-46d0-a5f6-c7f04b4a38ec",
    "outputId": "e08c9828-3ddf-42bf-b612-6f1aa93babdb"
   },
   "outputs": [
    {
     "name": "stdout",
     "output_type": "stream",
     "text": [
      " * postgresql://student@/group15final\n",
      "843514 rows affected.\n"
     ]
    },
    {
     "data": {
      "text/plain": [
       "[]"
      ]
     },
     "execution_count": 12,
     "metadata": {},
     "output_type": "execute_result"
    }
   ],
   "source": [
    "%%sql\n",
    "COPY CRIME_DATA FROM '/home/ubuntu/notebooks/Final Project/Crime_data.csv'\n",
    "CSV\n",
    "HEADER;"
   ]
  },
  {
   "cell_type": "markdown",
   "id": "e2d71e2a-1e50-4263-bc09-a8f9c345e716",
   "metadata": {},
   "source": [
    "This SQL query retrieves the first five rows from the \"CRIME_DATA\" table, providing a glimpse of the dataset's structure and content."
   ]
  },
  {
   "cell_type": "code",
   "execution_count": 13,
   "id": "36b2d61d-8554-4711-86fc-33ed5373ec5a",
   "metadata": {
    "id": "36b2d61d-8554-4711-86fc-33ed5373ec5a",
    "outputId": "dc190f5d-607d-4cca-dd1e-2a46c48d562b"
   },
   "outputs": [
    {
     "name": "stdout",
     "output_type": "stream",
     "text": [
      " * postgresql://student@/group15final\n",
      "5 rows affected.\n"
     ]
    },
    {
     "data": {
      "text/html": [
       "<table>\n",
       "    <thead>\n",
       "        <tr>\n",
       "            <th>dr_no</th>\n",
       "            <th>date_rptd</th>\n",
       "            <th>date_occ</th>\n",
       "            <th>time_occ</th>\n",
       "            <th>area</th>\n",
       "            <th>area_name</th>\n",
       "            <th>rpt_dist_no</th>\n",
       "            <th>crm_cd</th>\n",
       "            <th>crm_cd_desc</th>\n",
       "            <th>vict_age</th>\n",
       "            <th>vict_sex</th>\n",
       "            <th>vict_descent</th>\n",
       "            <th>premis_cd</th>\n",
       "            <th>premis_desc</th>\n",
       "            <th>weapon_used_cd</th>\n",
       "            <th>weapon_desc</th>\n",
       "            <th>status</th>\n",
       "            <th>status_desc</th>\n",
       "            <th>location</th>\n",
       "            <th>cross_street</th>\n",
       "            <th>lat</th>\n",
       "            <th>lon</th>\n",
       "        </tr>\n",
       "    </thead>\n",
       "    <tbody>\n",
       "        <tr>\n",
       "            <td>10304468</td>\n",
       "            <td>2020-01-08 00:00:00</td>\n",
       "            <td>2020-01-08 00:00:00</td>\n",
       "            <td>2230</td>\n",
       "            <td>3    </td>\n",
       "            <td>Southwest                                                                                                                                                                                                                                                      </td>\n",
       "            <td>377</td>\n",
       "            <td>624</td>\n",
       "            <td>BATTERY - SIMPLE ASSAULT                                    </td>\n",
       "            <td>36</td>\n",
       "            <td>F</td>\n",
       "            <td>B</td>\n",
       "            <td>501</td>\n",
       "            <td>SINGLE FAMILY DWELLING                                          </td>\n",
       "            <td>400</td>\n",
       "            <td>STRONG-ARM (HANDS, FIST, FEET OR BODILY FORCE)    </td>\n",
       "            <td>AO   </td>\n",
       "            <td>Adult Other    </td>\n",
       "            <td>1100 W  39TH                         PL </td>\n",
       "            <td>None</td>\n",
       "            <td>34.0141</td>\n",
       "            <td>-118.2978</td>\n",
       "        </tr>\n",
       "        <tr>\n",
       "            <td>190101086</td>\n",
       "            <td>2020-01-02 00:00:00</td>\n",
       "            <td>2020-01-01 00:00:00</td>\n",
       "            <td>330</td>\n",
       "            <td>1    </td>\n",
       "            <td>Central                                                                                                                                                                                                                                                        </td>\n",
       "            <td>163</td>\n",
       "            <td>624</td>\n",
       "            <td>BATTERY - SIMPLE ASSAULT                                    </td>\n",
       "            <td>25</td>\n",
       "            <td>M</td>\n",
       "            <td>H</td>\n",
       "            <td>102</td>\n",
       "            <td>SIDEWALK                                                        </td>\n",
       "            <td>500</td>\n",
       "            <td>UNKNOWN WEAPON/OTHER WEAPON                       </td>\n",
       "            <td>IC   </td>\n",
       "            <td>Invest Cont    </td>\n",
       "            <td>700 S  HILL                         ST  </td>\n",
       "            <td>None</td>\n",
       "            <td>34.0459</td>\n",
       "            <td>-118.2545</td>\n",
       "        </tr>\n",
       "        <tr>\n",
       "            <td>200110444</td>\n",
       "            <td>2020-04-14 00:00:00</td>\n",
       "            <td>2020-02-13 00:00:00</td>\n",
       "            <td>1200</td>\n",
       "            <td>1    </td>\n",
       "            <td>Central                                                                                                                                                                                                                                                        </td>\n",
       "            <td>155</td>\n",
       "            <td>845</td>\n",
       "            <td>SEX OFFENDER REGISTRANT OUT OF COMPLIANCE                   </td>\n",
       "            <td>0</td>\n",
       "            <td>X</td>\n",
       "            <td>X</td>\n",
       "            <td>726</td>\n",
       "            <td>POLICE FACILITY                                                 </td>\n",
       "            <td>None</td>\n",
       "            <td>None</td>\n",
       "            <td>AA   </td>\n",
       "            <td>Adult Arrest   </td>\n",
       "            <td>200 E  6TH                          ST  </td>\n",
       "            <td>None</td>\n",
       "            <td>34.0448</td>\n",
       "            <td>-118.2474</td>\n",
       "        </tr>\n",
       "        <tr>\n",
       "            <td>191501505</td>\n",
       "            <td>2020-01-01 00:00:00</td>\n",
       "            <td>2020-01-01 00:00:00</td>\n",
       "            <td>1730</td>\n",
       "            <td>15   </td>\n",
       "            <td>N Hollywood                                                                                                                                                                                                                                                    </td>\n",
       "            <td>1543</td>\n",
       "            <td>745</td>\n",
       "            <td>VANDALISM - MISDEAMEANOR ($399 OR UNDER)                    </td>\n",
       "            <td>76</td>\n",
       "            <td>F</td>\n",
       "            <td>W</td>\n",
       "            <td>502</td>\n",
       "            <td>MULTI-UNIT DWELLING (APARTMENT, DUPLEX, ETC)                    </td>\n",
       "            <td>None</td>\n",
       "            <td>None</td>\n",
       "            <td>IC   </td>\n",
       "            <td>Invest Cont    </td>\n",
       "            <td>5400    CORTEEN                      PL </td>\n",
       "            <td>None</td>\n",
       "            <td>34.1685</td>\n",
       "            <td>-118.4019</td>\n",
       "        </tr>\n",
       "        <tr>\n",
       "            <td>191921269</td>\n",
       "            <td>2020-01-01 00:00:00</td>\n",
       "            <td>2020-01-01 00:00:00</td>\n",
       "            <td>415</td>\n",
       "            <td>19   </td>\n",
       "            <td>Mission                                                                                                                                                                                                                                                        </td>\n",
       "            <td>1998</td>\n",
       "            <td>740</td>\n",
       "            <td>VANDALISM - FELONY ($400 &amp; OVER, ALL CHURCH VANDALISMS)     </td>\n",
       "            <td>31</td>\n",
       "            <td>X</td>\n",
       "            <td>X</td>\n",
       "            <td>409</td>\n",
       "            <td>BEAUTY SUPPLY STORE                                             </td>\n",
       "            <td>None</td>\n",
       "            <td>None</td>\n",
       "            <td>IC   </td>\n",
       "            <td>Invest Cont    </td>\n",
       "            <td>14400    TITUS                        ST</td>\n",
       "            <td>None</td>\n",
       "            <td>34.2198</td>\n",
       "            <td>-118.4468</td>\n",
       "        </tr>\n",
       "    </tbody>\n",
       "</table>"
      ],
      "text/plain": [
       "[(10304468, datetime.datetime(2020, 1, 8, 0, 0), datetime.datetime(2020, 1, 8, 0, 0), 2230, '3    ', 'Southwest                                                                                                                                                                                                                                                      ', 377, 624, 'BATTERY - SIMPLE ASSAULT                                    ', 36, 'F', 'B', 501, 'SINGLE FAMILY DWELLING                                          ', 400, 'STRONG-ARM (HANDS, FIST, FEET OR BODILY FORCE)    ', 'AO   ', 'Adult Other    ', '1100 W  39TH                         PL ', None, '34.0141', '-118.2978'),\n",
       " (190101086, datetime.datetime(2020, 1, 2, 0, 0), datetime.datetime(2020, 1, 1, 0, 0), 330, '1    ', 'Central                                                                                                                                                                                                                                                        ', 163, 624, 'BATTERY - SIMPLE ASSAULT                                    ', 25, 'M', 'H', 102, 'SIDEWALK                                                        ', 500, 'UNKNOWN WEAPON/OTHER WEAPON                       ', 'IC   ', 'Invest Cont    ', '700 S  HILL                         ST  ', None, '34.0459', '-118.2545'),\n",
       " (200110444, datetime.datetime(2020, 4, 14, 0, 0), datetime.datetime(2020, 2, 13, 0, 0), 1200, '1    ', 'Central                                                                                                                                                                                                                                                        ', 155, 845, 'SEX OFFENDER REGISTRANT OUT OF COMPLIANCE                   ', 0, 'X', 'X', 726, 'POLICE FACILITY                                                 ', None, None, 'AA   ', 'Adult Arrest   ', '200 E  6TH                          ST  ', None, '34.0448', '-118.2474'),\n",
       " (191501505, datetime.datetime(2020, 1, 1, 0, 0), datetime.datetime(2020, 1, 1, 0, 0), 1730, '15   ', 'N Hollywood                                                                                                                                                                                                                                                    ', 1543, 745, 'VANDALISM - MISDEAMEANOR ($399 OR UNDER)                    ', 76, 'F', 'W', 502, 'MULTI-UNIT DWELLING (APARTMENT, DUPLEX, ETC)                    ', None, None, 'IC   ', 'Invest Cont    ', '5400    CORTEEN                      PL ', None, '34.1685', '-118.4019'),\n",
       " (191921269, datetime.datetime(2020, 1, 1, 0, 0), datetime.datetime(2020, 1, 1, 0, 0), 415, '19   ', 'Mission                                                                                                                                                                                                                                                        ', 1998, 740, 'VANDALISM - FELONY ($400 & OVER, ALL CHURCH VANDALISMS)     ', 31, 'X', 'X', 409, 'BEAUTY SUPPLY STORE                                             ', None, None, 'IC   ', 'Invest Cont    ', '14400    TITUS                        ST', None, '34.2198', '-118.4468')]"
      ]
     },
     "execution_count": 13,
     "metadata": {},
     "output_type": "execute_result"
    }
   ],
   "source": [
    "%%sql\n",
    "SELECT * FROM CRIME_DATA\n",
    "LIMIT(5);"
   ]
  },
  {
   "cell_type": "markdown",
   "id": "337ea6e1-91b8-4da9-baf4-765bd4cb0442",
   "metadata": {
    "id": "337ea6e1-91b8-4da9-baf4-765bd4cb0442"
   },
   "source": [
    "### Data Cleaning and Wrangling"
   ]
  },
  {
   "cell_type": "markdown",
   "id": "5a05ea96-c7bb-452f-b91b-ef23ed72fcce",
   "metadata": {},
   "source": [
    "Correcting inaccuracies in the dataset, the data cleaning process is underway to improve data accuracy and integrity."
   ]
  },
  {
   "cell_type": "markdown",
   "id": "2c504ae4-70a1-4b27-aadb-814781b10bd8",
   "metadata": {},
   "source": [
    "This SQL query counts the number of records in the \"CRIME_DATA\" table where the victim's age is less than or equal to 0, providing insights into potential data anomalies."
   ]
  },
  {
   "cell_type": "code",
   "execution_count": 14,
   "id": "1ae2b5f8-bd59-4d2e-af80-ae9adb5648b0",
   "metadata": {
    "id": "1ae2b5f8-bd59-4d2e-af80-ae9adb5648b0",
    "outputId": "b3f991ee-a227-4558-8015-82f8aaf682d4"
   },
   "outputs": [
    {
     "name": "stdout",
     "output_type": "stream",
     "text": [
      " * postgresql://student@/group15final\n",
      "1 rows affected.\n"
     ]
    },
    {
     "data": {
      "text/html": [
       "<table>\n",
       "    <thead>\n",
       "        <tr>\n",
       "            <th>count</th>\n",
       "        </tr>\n",
       "    </thead>\n",
       "    <tbody>\n",
       "        <tr>\n",
       "            <td>209076</td>\n",
       "        </tr>\n",
       "    </tbody>\n",
       "</table>"
      ],
      "text/plain": [
       "[(209076,)]"
      ]
     },
     "execution_count": 14,
     "metadata": {},
     "output_type": "execute_result"
    }
   ],
   "source": [
    "%%sql\n",
    "SELECT COUNT(*) FROM CRIME_DATA\n",
    "WHERE Vict_Age <= 0\n",
    "LIMIT 5;"
   ]
  },
  {
   "cell_type": "markdown",
   "id": "c8306f6b-30bd-4bf2-9551-9a71f59846a5",
   "metadata": {},
   "source": [
    "Correcting the \"VICT_AGE\" values to NULL for records where the victim's age is less than or equal to 0 is performed because the age of the victim cannot be validly represented as equal to or less than 0. This action is part of data cleaning to enhance the accuracy and reliability of the dataset."
   ]
  },
  {
   "cell_type": "code",
   "execution_count": 15,
   "id": "d83836a2-35be-4449-969a-0d0369ce929c",
   "metadata": {
    "id": "d83836a2-35be-4449-969a-0d0369ce929c",
    "outputId": "0de62614-ccc4-4a18-fb30-8d6e2fb1b754"
   },
   "outputs": [
    {
     "name": "stdout",
     "output_type": "stream",
     "text": [
      " * postgresql://student@/group15final\n",
      "209076 rows affected.\n"
     ]
    },
    {
     "data": {
      "text/plain": [
       "[]"
      ]
     },
     "execution_count": 15,
     "metadata": {},
     "output_type": "execute_result"
    }
   ],
   "source": [
    "%%sql\n",
    "UPDATE CRIME_DATA\n",
    "SET VICT_AGE = NULL\n",
    "WHERE VICT_AGE <= 0"
   ]
  },
  {
   "cell_type": "markdown",
   "id": "3424b857-b0c2-42b8-a5d1-ef9f4130cbd1",
   "metadata": {},
   "source": [
    "Ensuring that there are no entries indicating victims with ages less than 0."
   ]
  },
  {
   "cell_type": "code",
   "execution_count": 16,
   "id": "37519156-0b09-4b4d-8eb3-cb0edd3df586",
   "metadata": {
    "id": "37519156-0b09-4b4d-8eb3-cb0edd3df586",
    "outputId": "42025d5f-6149-441e-b34e-3a9696a5093c"
   },
   "outputs": [
    {
     "name": "stdout",
     "output_type": "stream",
     "text": [
      " * postgresql://student@/group15final\n",
      "1 rows affected.\n"
     ]
    },
    {
     "data": {
      "text/html": [
       "<table>\n",
       "    <thead>\n",
       "        <tr>\n",
       "            <th>count</th>\n",
       "        </tr>\n",
       "    </thead>\n",
       "    <tbody>\n",
       "        <tr>\n",
       "            <td>0</td>\n",
       "        </tr>\n",
       "    </tbody>\n",
       "</table>"
      ],
      "text/plain": [
       "[(0,)]"
      ]
     },
     "execution_count": 16,
     "metadata": {},
     "output_type": "execute_result"
    }
   ],
   "source": [
    "%%sql\n",
    "SELECT COUNT(*) FROM CRIME_DATA\n",
    "WHERE Vict_Age <= 0\n",
    "LIMIT 5;"
   ]
  },
  {
   "cell_type": "code",
   "execution_count": 17,
   "id": "c3893c66-d0e6-42a9-9b61-2a7b0666fec4",
   "metadata": {
    "id": "c3893c66-d0e6-42a9-9b61-2a7b0666fec4",
    "outputId": "fc47452c-1ca2-4362-db27-7cda3b605d70"
   },
   "outputs": [
    {
     "name": "stdout",
     "output_type": "stream",
     "text": [
      " * postgresql://student@/group15final\n",
      "5 rows affected.\n"
     ]
    },
    {
     "data": {
      "text/html": [
       "<table>\n",
       "    <thead>\n",
       "        <tr>\n",
       "            <th>vict_sex</th>\n",
       "            <th>countbysex</th>\n",
       "        </tr>\n",
       "    </thead>\n",
       "    <tbody>\n",
       "        <tr>\n",
       "            <td>-</td>\n",
       "            <td>1</td>\n",
       "        </tr>\n",
       "        <tr>\n",
       "            <td>F</td>\n",
       "            <td>310271</td>\n",
       "        </tr>\n",
       "        <tr>\n",
       "            <td>H</td>\n",
       "            <td>92</td>\n",
       "        </tr>\n",
       "        <tr>\n",
       "            <td>M</td>\n",
       "            <td>347731</td>\n",
       "        </tr>\n",
       "        <tr>\n",
       "            <td>X</td>\n",
       "            <td>74103</td>\n",
       "        </tr>\n",
       "    </tbody>\n",
       "</table>"
      ],
      "text/plain": [
       "[('-', 1), ('F', 310271), ('H', 92), ('M', 347731), ('X', 74103)]"
      ]
     },
     "execution_count": 17,
     "metadata": {},
     "output_type": "execute_result"
    }
   ],
   "source": [
    "%%sql\n",
    "SELECT Vict_Sex, COUNT(*) as COUNTBYSEX\n",
    "FROM CRIME_DATA\n",
    "GROUP BY Vict_Sex\n",
    "LIMIT 5;\n"
   ]
  },
  {
   "cell_type": "code",
   "execution_count": 18,
   "id": "ad06e65c-0808-4a71-84f9-c63be7ff63b7",
   "metadata": {
    "id": "ad06e65c-0808-4a71-84f9-c63be7ff63b7",
    "outputId": "958326d6-2a14-431e-d7e8-dea205e5bcdd"
   },
   "outputs": [
    {
     "name": "stdout",
     "output_type": "stream",
     "text": [
      " * postgresql://student@/group15final\n",
      "5 rows affected.\n"
     ]
    },
    {
     "data": {
      "text/html": [
       "<table>\n",
       "    <thead>\n",
       "        <tr>\n",
       "            <th>vict_descent</th>\n",
       "            <th>countby_vict_descent</th>\n",
       "        </tr>\n",
       "    </thead>\n",
       "    <tbody>\n",
       "        <tr>\n",
       "            <td>-</td>\n",
       "            <td>2</td>\n",
       "        </tr>\n",
       "        <tr>\n",
       "            <td>A</td>\n",
       "            <td>18494</td>\n",
       "        </tr>\n",
       "        <tr>\n",
       "            <td>B</td>\n",
       "            <td>119849</td>\n",
       "        </tr>\n",
       "        <tr>\n",
       "            <td>C</td>\n",
       "            <td>3260</td>\n",
       "        </tr>\n",
       "        <tr>\n",
       "            <td>D</td>\n",
       "            <td>64</td>\n",
       "        </tr>\n",
       "    </tbody>\n",
       "</table>"
      ],
      "text/plain": [
       "[('-', 2), ('A', 18494), ('B', 119849), ('C', 3260), ('D', 64)]"
      ]
     },
     "execution_count": 18,
     "metadata": {},
     "output_type": "execute_result"
    }
   ],
   "source": [
    "%%sql\n",
    "SELECT Vict_Descent, COUNT(*) as COUNTBY_Vict_DESCENT\n",
    "FROM CRIME_DATA\n",
    "GROUP BY Vict_Descent\n",
    "LIMIT 5;"
   ]
  },
  {
   "cell_type": "code",
   "execution_count": 19,
   "id": "18a5d309-ac72-49c0-96d8-b67d43729d87",
   "metadata": {
    "id": "18a5d309-ac72-49c0-96d8-b67d43729d87",
    "outputId": "8daa6fdf-9afe-4b93-9db3-f40a138462c7"
   },
   "outputs": [
    {
     "name": "stdout",
     "output_type": "stream",
     "text": [
      " * postgresql://student@/group15final\n",
      "1 rows affected.\n"
     ]
    },
    {
     "data": {
      "text/html": [
       "<table>\n",
       "    <thead>\n",
       "        <tr>\n",
       "            <th>count</th>\n",
       "        </tr>\n",
       "    </thead>\n",
       "    <tbody>\n",
       "        <tr>\n",
       "            <td>111312</td>\n",
       "        </tr>\n",
       "    </tbody>\n",
       "</table>"
      ],
      "text/plain": [
       "[(111312,)]"
      ]
     },
     "execution_count": 19,
     "metadata": {},
     "output_type": "execute_result"
    }
   ],
   "source": [
    "%%sql\n",
    "SELECT COUNT(*) FROM CRIME_DATA\n",
    "WHERE Vict_Sex IS NULL\n",
    "AND  Vict_Descent IS NULL\n",
    "AND   Vict_Sex IS NULL\n",
    "LIMIT 5;"
   ]
  },
  {
   "cell_type": "code",
   "execution_count": 20,
   "id": "9ae75eed-8f5e-4886-8b1e-8bc8c67f29ac",
   "metadata": {
    "id": "9ae75eed-8f5e-4886-8b1e-8bc8c67f29ac",
    "outputId": "3b5116a1-9b28-46c4-8c34-1f0e2689bc91"
   },
   "outputs": [
    {
     "name": "stdout",
     "output_type": "stream",
     "text": [
      " * postgresql://student@/group15final\n",
      "1 rows affected.\n"
     ]
    },
    {
     "data": {
      "text/html": [
       "<table>\n",
       "    <thead>\n",
       "        <tr>\n",
       "            <th>count</th>\n",
       "        </tr>\n",
       "    </thead>\n",
       "    <tbody>\n",
       "        <tr>\n",
       "            <td>2263</td>\n",
       "        </tr>\n",
       "    </tbody>\n",
       "</table>"
      ],
      "text/plain": [
       "[(2263,)]"
      ]
     },
     "execution_count": 20,
     "metadata": {},
     "output_type": "execute_result"
    }
   ],
   "source": [
    "%%sql\n",
    "SELECT COUNT(*) FROM CRIME_DATA\n",
    "WHERE LAT = '0' AND LON = '0';"
   ]
  },
  {
   "cell_type": "code",
   "execution_count": 21,
   "id": "ae718009-5ff7-47d9-b569-6fb1e5f0455d",
   "metadata": {},
   "outputs": [
    {
     "name": "stdout",
     "output_type": "stream",
     "text": [
      " * postgresql://student@/group15final\n",
      "21 rows affected.\n"
     ]
    },
    {
     "data": {
      "text/html": [
       "<table>\n",
       "    <thead>\n",
       "        <tr>\n",
       "            <th>area</th>\n",
       "            <th>area_name</th>\n",
       "            <th>lat</th>\n",
       "            <th>lon</th>\n",
       "            <th>total_number</th>\n",
       "        </tr>\n",
       "    </thead>\n",
       "    <tbody>\n",
       "        <tr>\n",
       "            <td>1    </td>\n",
       "            <td>Central                                                                                                                                                                                                                                                        </td>\n",
       "            <td>0</td>\n",
       "            <td>0</td>\n",
       "            <td>194</td>\n",
       "        </tr>\n",
       "        <tr>\n",
       "            <td>10   </td>\n",
       "            <td>West Valley                                                                                                                                                                                                                                                    </td>\n",
       "            <td>0</td>\n",
       "            <td>0</td>\n",
       "            <td>37</td>\n",
       "        </tr>\n",
       "        <tr>\n",
       "            <td>11   </td>\n",
       "            <td>Northeast                                                                                                                                                                                                                                                      </td>\n",
       "            <td>0</td>\n",
       "            <td>0</td>\n",
       "            <td>43</td>\n",
       "        </tr>\n",
       "        <tr>\n",
       "            <td>12   </td>\n",
       "            <td>77th Street                                                                                                                                                                                                                                                    </td>\n",
       "            <td>0</td>\n",
       "            <td>0</td>\n",
       "            <td>137</td>\n",
       "        </tr>\n",
       "        <tr>\n",
       "            <td>13   </td>\n",
       "            <td>Newton                                                                                                                                                                                                                                                         </td>\n",
       "            <td>0</td>\n",
       "            <td>0</td>\n",
       "            <td>98</td>\n",
       "        </tr>\n",
       "        <tr>\n",
       "            <td>14   </td>\n",
       "            <td>Pacific                                                                                                                                                                                                                                                        </td>\n",
       "            <td>0</td>\n",
       "            <td>0</td>\n",
       "            <td>173</td>\n",
       "        </tr>\n",
       "        <tr>\n",
       "            <td>15   </td>\n",
       "            <td>N Hollywood                                                                                                                                                                                                                                                    </td>\n",
       "            <td>0</td>\n",
       "            <td>0</td>\n",
       "            <td>92</td>\n",
       "        </tr>\n",
       "        <tr>\n",
       "            <td>16   </td>\n",
       "            <td>Foothill                                                                                                                                                                                                                                                       </td>\n",
       "            <td>0</td>\n",
       "            <td>0</td>\n",
       "            <td>74</td>\n",
       "        </tr>\n",
       "        <tr>\n",
       "            <td>17   </td>\n",
       "            <td>Devonshire                                                                                                                                                                                                                                                     </td>\n",
       "            <td>0</td>\n",
       "            <td>0</td>\n",
       "            <td>96</td>\n",
       "        </tr>\n",
       "        <tr>\n",
       "            <td>18   </td>\n",
       "            <td>Southeast                                                                                                                                                                                                                                                      </td>\n",
       "            <td>0</td>\n",
       "            <td>0</td>\n",
       "            <td>160</td>\n",
       "        </tr>\n",
       "        <tr>\n",
       "            <td>19   </td>\n",
       "            <td>Mission                                                                                                                                                                                                                                                        </td>\n",
       "            <td>0</td>\n",
       "            <td>0</td>\n",
       "            <td>114</td>\n",
       "        </tr>\n",
       "        <tr>\n",
       "            <td>2    </td>\n",
       "            <td>Rampart                                                                                                                                                                                                                                                        </td>\n",
       "            <td>0</td>\n",
       "            <td>0</td>\n",
       "            <td>103</td>\n",
       "        </tr>\n",
       "        <tr>\n",
       "            <td>20   </td>\n",
       "            <td>Olympic                                                                                                                                                                                                                                                        </td>\n",
       "            <td>0</td>\n",
       "            <td>0</td>\n",
       "            <td>130</td>\n",
       "        </tr>\n",
       "        <tr>\n",
       "            <td>21   </td>\n",
       "            <td>Topanga                                                                                                                                                                                                                                                        </td>\n",
       "            <td>0</td>\n",
       "            <td>0</td>\n",
       "            <td>30</td>\n",
       "        </tr>\n",
       "        <tr>\n",
       "            <td>3    </td>\n",
       "            <td>Southwest                                                                                                                                                                                                                                                      </td>\n",
       "            <td>0</td>\n",
       "            <td>0</td>\n",
       "            <td>65</td>\n",
       "        </tr>\n",
       "        <tr>\n",
       "            <td>4    </td>\n",
       "            <td>Hollenbeck                                                                                                                                                                                                                                                     </td>\n",
       "            <td>0</td>\n",
       "            <td>0</td>\n",
       "            <td>83</td>\n",
       "        </tr>\n",
       "        <tr>\n",
       "            <td>5    </td>\n",
       "            <td>Harbor                                                                                                                                                                                                                                                         </td>\n",
       "            <td>0</td>\n",
       "            <td>0</td>\n",
       "            <td>62</td>\n",
       "        </tr>\n",
       "        <tr>\n",
       "            <td>6    </td>\n",
       "            <td>Hollywood                                                                                                                                                                                                                                                      </td>\n",
       "            <td>0</td>\n",
       "            <td>0</td>\n",
       "            <td>322</td>\n",
       "        </tr>\n",
       "        <tr>\n",
       "            <td>7    </td>\n",
       "            <td>Wilshire                                                                                                                                                                                                                                                       </td>\n",
       "            <td>0</td>\n",
       "            <td>0</td>\n",
       "            <td>131</td>\n",
       "        </tr>\n",
       "        <tr>\n",
       "            <td>8    </td>\n",
       "            <td>West LA                                                                                                                                                                                                                                                        </td>\n",
       "            <td>0</td>\n",
       "            <td>0</td>\n",
       "            <td>47</td>\n",
       "        </tr>\n",
       "        <tr>\n",
       "            <td>9    </td>\n",
       "            <td>Van Nuys                                                                                                                                                                                                                                                       </td>\n",
       "            <td>0</td>\n",
       "            <td>0</td>\n",
       "            <td>72</td>\n",
       "        </tr>\n",
       "    </tbody>\n",
       "</table>"
      ],
      "text/plain": [
       "[('1    ', 'Central                                                                                                                                                                                                                                                        ', '0', '0', 194),\n",
       " ('10   ', 'West Valley                                                                                                                                                                                                                                                    ', '0', '0', 37),\n",
       " ('11   ', 'Northeast                                                                                                                                                                                                                                                      ', '0', '0', 43),\n",
       " ('12   ', '77th Street                                                                                                                                                                                                                                                    ', '0', '0', 137),\n",
       " ('13   ', 'Newton                                                                                                                                                                                                                                                         ', '0', '0', 98),\n",
       " ('14   ', 'Pacific                                                                                                                                                                                                                                                        ', '0', '0', 173),\n",
       " ('15   ', 'N Hollywood                                                                                                                                                                                                                                                    ', '0', '0', 92),\n",
       " ('16   ', 'Foothill                                                                                                                                                                                                                                                       ', '0', '0', 74),\n",
       " ('17   ', 'Devonshire                                                                                                                                                                                                                                                     ', '0', '0', 96),\n",
       " ('18   ', 'Southeast                                                                                                                                                                                                                                                      ', '0', '0', 160),\n",
       " ('19   ', 'Mission                                                                                                                                                                                                                                                        ', '0', '0', 114),\n",
       " ('2    ', 'Rampart                                                                                                                                                                                                                                                        ', '0', '0', 103),\n",
       " ('20   ', 'Olympic                                                                                                                                                                                                                                                        ', '0', '0', 130),\n",
       " ('21   ', 'Topanga                                                                                                                                                                                                                                                        ', '0', '0', 30),\n",
       " ('3    ', 'Southwest                                                                                                                                                                                                                                                      ', '0', '0', 65),\n",
       " ('4    ', 'Hollenbeck                                                                                                                                                                                                                                                     ', '0', '0', 83),\n",
       " ('5    ', 'Harbor                                                                                                                                                                                                                                                         ', '0', '0', 62),\n",
       " ('6    ', 'Hollywood                                                                                                                                                                                                                                                      ', '0', '0', 322),\n",
       " ('7    ', 'Wilshire                                                                                                                                                                                                                                                       ', '0', '0', 131),\n",
       " ('8    ', 'West LA                                                                                                                                                                                                                                                        ', '0', '0', 47),\n",
       " ('9    ', 'Van Nuys                                                                                                                                                                                                                                                       ', '0', '0', 72)]"
      ]
     },
     "execution_count": 21,
     "metadata": {},
     "output_type": "execute_result"
    }
   ],
   "source": [
    "%%sql\n",
    "SELECT Area, Area_name, Lat, Lon, COUNT(*) as total_number\n",
    "FROM CRIME_DATA\n",
    "WHERE Lat = '0' AND Lon = '0'\n",
    "GROUP BY Area, Area_name, Lat, Lon\n",
    "LIMIT 25;"
   ]
  },
  {
   "cell_type": "code",
   "execution_count": 22,
   "id": "4d00f7a0-6254-422a-af67-947e7860fe07",
   "metadata": {},
   "outputs": [
    {
     "name": "stdout",
     "output_type": "stream",
     "text": [
      " * postgresql://student@/group15final\n",
      "Done.\n"
     ]
    },
    {
     "data": {
      "text/plain": [
       "[]"
      ]
     },
     "execution_count": 22,
     "metadata": {},
     "output_type": "execute_result"
    }
   ],
   "source": [
    "%%sql\n",
    "ALTER TABLE Crime_data\n",
    "ADD COLUMN new_time varchar(50);\n"
   ]
  },
  {
   "cell_type": "markdown",
   "id": "ae49ab90-27e2-4bda-9679-a4b880e7918d",
   "metadata": {
    "id": "ae49ab90-27e2-4bda-9679-a4b880e7918d"
   },
   "source": [
    "### Creating the Dimention and Fact Tables"
   ]
  },
  {
   "cell_type": "markdown",
   "id": "dc9c14ea-d1dd-4e5f-85a9-679a6fe93ace",
   "metadata": {
    "id": "dc9c14ea-d1dd-4e5f-85a9-679a6fe93ace"
   },
   "source": [
    "##### Creating and Loading Data for the Facts as FACT_TABLE"
   ]
  },
  {
   "cell_type": "code",
   "execution_count": 23,
   "id": "944d6857-c1a4-4848-9f35-5520392a65bd",
   "metadata": {
    "id": "944d6857-c1a4-4848-9f35-5520392a65bd",
    "outputId": "46681aaf-7b01-4ed1-f753-46e268dfa0e4"
   },
   "outputs": [
    {
     "name": "stdout",
     "output_type": "stream",
     "text": [
      " * postgresql://student@/group15final\n",
      "Done.\n",
      "Done.\n"
     ]
    },
    {
     "data": {
      "text/plain": [
       "[]"
      ]
     },
     "execution_count": 23,
     "metadata": {},
     "output_type": "execute_result"
    }
   ],
   "source": [
    "%%sql\n",
    "DROP TABLE IF EXISTS FACT_TABLE;\n",
    "\n",
    "CREATE TABLE FACT_TABLE (\n",
    "    DR_NO      INTEGER NOT NULL,\n",
    "    Date_Rptd  TIMESTAMP NOT NULL,\n",
    "    Date_Occ   TIMESTAMP NOT NULL,\n",
    "    Time_Occ   INTEGER,\n",
    "    Area       CHAR(5)     NOT NULL,\n",
    "    Rpt_Dist_No INTEGER     NOT NULL,\n",
    "    Crm_Cd     INTEGER   NOT NULL,\n",
    "    Vict_Age   INTEGER,\n",
    "    Vict_Sex   CHAR,\n",
    "    Vict_Descent CHAR,\n",
    "    Premis_Cd  INTEGER,\n",
    "    Weapon_Used_Cd INTEGER,\n",
    "    Status     CHAR(5),\n",
    "    Location   CHAR(40) NOT NULL,\n",
    "    Cross_Street CHAR(35),\n",
    "    Lat    VARCHAR(25),\n",
    "    Lon    VARCHAR(25),\n",
    "    PRIMARY KEY (DR_NO)\n",
    ")"
   ]
  },
  {
   "cell_type": "code",
   "execution_count": 24,
   "id": "847c5870-e3cf-403b-a368-e13e3d2e6260",
   "metadata": {
    "id": "847c5870-e3cf-403b-a368-e13e3d2e6260",
    "outputId": "63c8dfd3-609e-4a43-ef22-3a598f10b6b6"
   },
   "outputs": [
    {
     "name": "stdout",
     "output_type": "stream",
     "text": [
      " * postgresql://student@/group15final\n",
      "843514 rows affected.\n"
     ]
    },
    {
     "data": {
      "text/plain": [
       "[]"
      ]
     },
     "execution_count": 24,
     "metadata": {},
     "output_type": "execute_result"
    }
   ],
   "source": [
    "%%sql\n",
    "INSERT INTO FACT_TABLE (DR_NO, DATE_RPTD, DATE_OCC, TIME_OCC, AREA, RPT_DIST_NO,\n",
    "    CRM_CD,VICT_AGE,VICT_SEX,VICT_DESCENT, PREMIS_CD, WEAPON_USED_CD, STATUS, LOCATION, CROSS_STREET, LAT, LON)\n",
    "SELECT DISTINCT DR_NO, DATE_RPTD, DATE_OCC, TIME_OCC, AREA, RPT_DIST_NO,\n",
    "    CRM_CD,VICT_AGE,VICT_SEX,VICT_DESCENT, PREMIS_CD, WEAPON_USED_CD, STATUS, LOCATION, CROSS_STREET, LAT, LON\n",
    "FROM Crime_Data\n",
    "WHERE DR_NO IS NOT NULL;"
   ]
  },
  {
   "cell_type": "code",
   "execution_count": 25,
   "id": "82b10331-eb16-4241-b106-9892048b6542",
   "metadata": {
    "id": "82b10331-eb16-4241-b106-9892048b6542",
    "outputId": "8a1c8ccc-91ca-4c1e-9746-ab2c000035e2"
   },
   "outputs": [
    {
     "name": "stdout",
     "output_type": "stream",
     "text": [
      " * postgresql://student@/group15final\n",
      "5 rows affected.\n"
     ]
    },
    {
     "data": {
      "text/html": [
       "<table>\n",
       "    <thead>\n",
       "        <tr>\n",
       "            <th>dr_no</th>\n",
       "            <th>date_rptd</th>\n",
       "            <th>date_occ</th>\n",
       "            <th>time_occ</th>\n",
       "            <th>area</th>\n",
       "            <th>rpt_dist_no</th>\n",
       "            <th>crm_cd</th>\n",
       "            <th>vict_age</th>\n",
       "            <th>vict_sex</th>\n",
       "            <th>vict_descent</th>\n",
       "            <th>premis_cd</th>\n",
       "            <th>weapon_used_cd</th>\n",
       "            <th>status</th>\n",
       "            <th>location</th>\n",
       "            <th>cross_street</th>\n",
       "            <th>lat</th>\n",
       "            <th>lon</th>\n",
       "        </tr>\n",
       "    </thead>\n",
       "    <tbody>\n",
       "        <tr>\n",
       "            <td>817</td>\n",
       "            <td>2020-09-20 00:00:00</td>\n",
       "            <td>2020-09-19 00:00:00</td>\n",
       "            <td>1700</td>\n",
       "            <td>17   </td>\n",
       "            <td>1777</td>\n",
       "            <td>510</td>\n",
       "            <td>None</td>\n",
       "            <td>None</td>\n",
       "            <td>None</td>\n",
       "            <td>101</td>\n",
       "            <td>None</td>\n",
       "            <td>IC   </td>\n",
       "            <td>9100    RUBIO                        AV </td>\n",
       "            <td>None</td>\n",
       "            <td>34.2367</td>\n",
       "            <td>-118.4955</td>\n",
       "        </tr>\n",
       "        <tr>\n",
       "            <td>2113</td>\n",
       "            <td>2021-06-21 00:00:00</td>\n",
       "            <td>2021-04-05 00:00:00</td>\n",
       "            <td>1835</td>\n",
       "            <td>13   </td>\n",
       "            <td>1385</td>\n",
       "            <td>510</td>\n",
       "            <td>None</td>\n",
       "            <td>None</td>\n",
       "            <td>None</td>\n",
       "            <td>101</td>\n",
       "            <td>None</td>\n",
       "            <td>IC   </td>\n",
       "            <td>800 E  GAGE                         AV  </td>\n",
       "            <td>None</td>\n",
       "            <td>33.982</td>\n",
       "            <td>-118.2622</td>\n",
       "        </tr>\n",
       "        <tr>\n",
       "            <td>2203</td>\n",
       "            <td>2022-12-31 00:00:00</td>\n",
       "            <td>2022-12-19 00:00:00</td>\n",
       "            <td>1930</td>\n",
       "            <td>3    </td>\n",
       "            <td>356</td>\n",
       "            <td>522</td>\n",
       "            <td>None</td>\n",
       "            <td>None</td>\n",
       "            <td>None</td>\n",
       "            <td>502</td>\n",
       "            <td>None</td>\n",
       "            <td>IC   </td>\n",
       "            <td>1400 W  37TH                         ST </td>\n",
       "            <td>None</td>\n",
       "            <td>34.021</td>\n",
       "            <td>-118.3002</td>\n",
       "        </tr>\n",
       "        <tr>\n",
       "            <td>2315</td>\n",
       "            <td>2023-07-23 00:00:00</td>\n",
       "            <td>2023-07-22 00:00:00</td>\n",
       "            <td>1800</td>\n",
       "            <td>15   </td>\n",
       "            <td>1566</td>\n",
       "            <td>420</td>\n",
       "            <td>None</td>\n",
       "            <td>None</td>\n",
       "            <td>None</td>\n",
       "            <td>101</td>\n",
       "            <td>None</td>\n",
       "            <td>IC   </td>\n",
       "            <td>4400    ENSIGN                       AV </td>\n",
       "            <td>None</td>\n",
       "            <td>34.1504</td>\n",
       "            <td>-118.3712</td>\n",
       "        </tr>\n",
       "        <tr>\n",
       "            <td>10304468</td>\n",
       "            <td>2020-01-08 00:00:00</td>\n",
       "            <td>2020-01-08 00:00:00</td>\n",
       "            <td>2230</td>\n",
       "            <td>3    </td>\n",
       "            <td>377</td>\n",
       "            <td>624</td>\n",
       "            <td>36</td>\n",
       "            <td>F</td>\n",
       "            <td>B</td>\n",
       "            <td>501</td>\n",
       "            <td>400</td>\n",
       "            <td>AO   </td>\n",
       "            <td>1100 W  39TH                         PL </td>\n",
       "            <td>None</td>\n",
       "            <td>34.0141</td>\n",
       "            <td>-118.2978</td>\n",
       "        </tr>\n",
       "    </tbody>\n",
       "</table>"
      ],
      "text/plain": [
       "[(817, datetime.datetime(2020, 9, 20, 0, 0), datetime.datetime(2020, 9, 19, 0, 0), 1700, '17   ', 1777, 510, None, None, None, 101, None, 'IC   ', '9100    RUBIO                        AV ', None, '34.2367', '-118.4955'),\n",
       " (2113, datetime.datetime(2021, 6, 21, 0, 0), datetime.datetime(2021, 4, 5, 0, 0), 1835, '13   ', 1385, 510, None, None, None, 101, None, 'IC   ', '800 E  GAGE                         AV  ', None, '33.982', '-118.2622'),\n",
       " (2203, datetime.datetime(2022, 12, 31, 0, 0), datetime.datetime(2022, 12, 19, 0, 0), 1930, '3    ', 356, 522, None, None, None, 502, None, 'IC   ', '1400 W  37TH                         ST ', None, '34.021', '-118.3002'),\n",
       " (2315, datetime.datetime(2023, 7, 23, 0, 0), datetime.datetime(2023, 7, 22, 0, 0), 1800, '15   ', 1566, 420, None, None, None, 101, None, 'IC   ', '4400    ENSIGN                       AV ', None, '34.1504', '-118.3712'),\n",
       " (10304468, datetime.datetime(2020, 1, 8, 0, 0), datetime.datetime(2020, 1, 8, 0, 0), 2230, '3    ', 377, 624, 36, 'F', 'B', 501, 400, 'AO   ', '1100 W  39TH                         PL ', None, '34.0141', '-118.2978')]"
      ]
     },
     "execution_count": 25,
     "metadata": {},
     "output_type": "execute_result"
    }
   ],
   "source": [
    "%%sql\n",
    "SELECT * FROM FACT_TABLE LIMIT 5;"
   ]
  },
  {
   "cell_type": "markdown",
   "id": "1f3eeb37-644c-4fdf-b5df-726583b7b30b",
   "metadata": {
    "id": "1f3eeb37-644c-4fdf-b5df-726583b7b30b"
   },
   "source": [
    "##### Creating and Loading Data for the Crime Dimention as Crime_Table"
   ]
  },
  {
   "cell_type": "code",
   "execution_count": 26,
   "id": "959745c5-7ab6-448a-82da-7a79f02be523",
   "metadata": {
    "id": "959745c5-7ab6-448a-82da-7a79f02be523",
    "outputId": "699412ce-9782-400e-d93f-0275de3084af"
   },
   "outputs": [
    {
     "name": "stdout",
     "output_type": "stream",
     "text": [
      " * postgresql://student@/group15final\n",
      "Done.\n",
      "Done.\n"
     ]
    },
    {
     "data": {
      "text/plain": [
       "[]"
      ]
     },
     "execution_count": 26,
     "metadata": {},
     "output_type": "execute_result"
    }
   ],
   "source": [
    "%%sql\n",
    "DROP TABLE IF EXISTS Crime_Table;\n",
    "CREATE TABLE Crime_Table (\n",
    "    Crime_key SERIAL PRIMARY KEY,\n",
    "    Crm_cd INTEGER NOT NULL,\n",
    "    Crm_cd_desc CHAR(200) NOT NULL\n",
    ");"
   ]
  },
  {
   "cell_type": "code",
   "execution_count": 27,
   "id": "40bf04f8-65d3-42d3-adb4-486e518e0cfb",
   "metadata": {
    "id": "40bf04f8-65d3-42d3-adb4-486e518e0cfb",
    "outputId": "ad276247-e8a9-4c84-960d-16004cb57d1b"
   },
   "outputs": [
    {
     "name": "stdout",
     "output_type": "stream",
     "text": [
      " * postgresql://student@/group15final\n",
      "138 rows affected.\n"
     ]
    },
    {
     "data": {
      "text/plain": [
       "[]"
      ]
     },
     "execution_count": 27,
     "metadata": {},
     "output_type": "execute_result"
    }
   ],
   "source": [
    "%%sql\n",
    "INSERT INTO Crime_Table (Crm_cd, Crm_cd_desc)\n",
    "SELECT DISTINCT Crm_cd, Crm_cd_desc\n",
    "FROM Crime_Data\n",
    "WHERE Crm_cd IS NOT NULL;"
   ]
  },
  {
   "cell_type": "code",
   "execution_count": 28,
   "id": "998cd15c-2664-4fe8-af1e-d5c06baa78bc",
   "metadata": {
    "id": "998cd15c-2664-4fe8-af1e-d5c06baa78bc",
    "outputId": "18e3fa53-5cdf-410f-9483-9face7d64f48"
   },
   "outputs": [
    {
     "name": "stdout",
     "output_type": "stream",
     "text": [
      " * postgresql://student@/group15final\n",
      "5 rows affected.\n"
     ]
    },
    {
     "data": {
      "text/html": [
       "<table>\n",
       "    <thead>\n",
       "        <tr>\n",
       "            <th>crime_key</th>\n",
       "            <th>crm_cd</th>\n",
       "            <th>crm_cd_desc</th>\n",
       "        </tr>\n",
       "    </thead>\n",
       "    <tbody>\n",
       "        <tr>\n",
       "            <td>1</td>\n",
       "            <td>110</td>\n",
       "            <td>CRIMINAL HOMICIDE                                                                                                                                                                                       </td>\n",
       "        </tr>\n",
       "        <tr>\n",
       "            <td>2</td>\n",
       "            <td>113</td>\n",
       "            <td>MANSLAUGHTER, NEGLIGENT                                                                                                                                                                                 </td>\n",
       "        </tr>\n",
       "        <tr>\n",
       "            <td>3</td>\n",
       "            <td>121</td>\n",
       "            <td>RAPE, FORCIBLE                                                                                                                                                                                          </td>\n",
       "        </tr>\n",
       "        <tr>\n",
       "            <td>4</td>\n",
       "            <td>122</td>\n",
       "            <td>RAPE, ATTEMPTED                                                                                                                                                                                         </td>\n",
       "        </tr>\n",
       "        <tr>\n",
       "            <td>5</td>\n",
       "            <td>210</td>\n",
       "            <td>ROBBERY                                                                                                                                                                                                 </td>\n",
       "        </tr>\n",
       "    </tbody>\n",
       "</table>"
      ],
      "text/plain": [
       "[(1, 110, 'CRIMINAL HOMICIDE                                                                                                                                                                                       '),\n",
       " (2, 113, 'MANSLAUGHTER, NEGLIGENT                                                                                                                                                                                 '),\n",
       " (3, 121, 'RAPE, FORCIBLE                                                                                                                                                                                          '),\n",
       " (4, 122, 'RAPE, ATTEMPTED                                                                                                                                                                                         '),\n",
       " (5, 210, 'ROBBERY                                                                                                                                                                                                 ')]"
      ]
     },
     "execution_count": 28,
     "metadata": {},
     "output_type": "execute_result"
    }
   ],
   "source": [
    "%%sql\n",
    "SELECT * FROM Crime_Table LIMIT 5;"
   ]
  },
  {
   "cell_type": "code",
   "execution_count": 29,
   "id": "6ab07dd0-c1dc-40a2-a946-1d09103364d3",
   "metadata": {},
   "outputs": [
    {
     "name": "stdout",
     "output_type": "stream",
     "text": [
      " * postgresql://student@/group15final\n",
      "Done.\n"
     ]
    },
    {
     "data": {
      "text/plain": [
       "[]"
      ]
     },
     "execution_count": 29,
     "metadata": {},
     "output_type": "execute_result"
    }
   ],
   "source": [
    "%%sql\n",
    "ALTER TABLE FACT_TABLE\n",
    "ADD COLUMN crime_key INTEGER,\n",
    "ADD CONSTRAINT fk_Crime_Table\n",
    "    FOREIGN KEY (crime_key)\n",
    "    REFERENCES Crime_Table(crime_key)"
   ]
  },
  {
   "cell_type": "code",
   "execution_count": 30,
   "id": "364ab391-1282-43bb-9eac-191ef9a42c00",
   "metadata": {},
   "outputs": [
    {
     "name": "stdout",
     "output_type": "stream",
     "text": [
      " * postgresql://student@/group15final\n",
      "5 rows affected.\n"
     ]
    },
    {
     "data": {
      "text/html": [
       "<table>\n",
       "    <thead>\n",
       "        <tr>\n",
       "            <th>dr_no</th>\n",
       "            <th>date_rptd</th>\n",
       "            <th>date_occ</th>\n",
       "            <th>time_occ</th>\n",
       "            <th>area</th>\n",
       "            <th>rpt_dist_no</th>\n",
       "            <th>crm_cd</th>\n",
       "            <th>vict_age</th>\n",
       "            <th>vict_sex</th>\n",
       "            <th>vict_descent</th>\n",
       "            <th>premis_cd</th>\n",
       "            <th>weapon_used_cd</th>\n",
       "            <th>status</th>\n",
       "            <th>location</th>\n",
       "            <th>cross_street</th>\n",
       "            <th>lat</th>\n",
       "            <th>lon</th>\n",
       "            <th>crime_key</th>\n",
       "        </tr>\n",
       "    </thead>\n",
       "    <tbody>\n",
       "        <tr>\n",
       "            <td>817</td>\n",
       "            <td>2020-09-20 00:00:00</td>\n",
       "            <td>2020-09-19 00:00:00</td>\n",
       "            <td>1700</td>\n",
       "            <td>17   </td>\n",
       "            <td>1777</td>\n",
       "            <td>510</td>\n",
       "            <td>None</td>\n",
       "            <td>None</td>\n",
       "            <td>None</td>\n",
       "            <td>101</td>\n",
       "            <td>None</td>\n",
       "            <td>IC   </td>\n",
       "            <td>9100    RUBIO                        AV </td>\n",
       "            <td>None</td>\n",
       "            <td>34.2367</td>\n",
       "            <td>-118.4955</td>\n",
       "            <td>None</td>\n",
       "        </tr>\n",
       "        <tr>\n",
       "            <td>2113</td>\n",
       "            <td>2021-06-21 00:00:00</td>\n",
       "            <td>2021-04-05 00:00:00</td>\n",
       "            <td>1835</td>\n",
       "            <td>13   </td>\n",
       "            <td>1385</td>\n",
       "            <td>510</td>\n",
       "            <td>None</td>\n",
       "            <td>None</td>\n",
       "            <td>None</td>\n",
       "            <td>101</td>\n",
       "            <td>None</td>\n",
       "            <td>IC   </td>\n",
       "            <td>800 E  GAGE                         AV  </td>\n",
       "            <td>None</td>\n",
       "            <td>33.982</td>\n",
       "            <td>-118.2622</td>\n",
       "            <td>None</td>\n",
       "        </tr>\n",
       "        <tr>\n",
       "            <td>2203</td>\n",
       "            <td>2022-12-31 00:00:00</td>\n",
       "            <td>2022-12-19 00:00:00</td>\n",
       "            <td>1930</td>\n",
       "            <td>3    </td>\n",
       "            <td>356</td>\n",
       "            <td>522</td>\n",
       "            <td>None</td>\n",
       "            <td>None</td>\n",
       "            <td>None</td>\n",
       "            <td>502</td>\n",
       "            <td>None</td>\n",
       "            <td>IC   </td>\n",
       "            <td>1400 W  37TH                         ST </td>\n",
       "            <td>None</td>\n",
       "            <td>34.021</td>\n",
       "            <td>-118.3002</td>\n",
       "            <td>None</td>\n",
       "        </tr>\n",
       "        <tr>\n",
       "            <td>2315</td>\n",
       "            <td>2023-07-23 00:00:00</td>\n",
       "            <td>2023-07-22 00:00:00</td>\n",
       "            <td>1800</td>\n",
       "            <td>15   </td>\n",
       "            <td>1566</td>\n",
       "            <td>420</td>\n",
       "            <td>None</td>\n",
       "            <td>None</td>\n",
       "            <td>None</td>\n",
       "            <td>101</td>\n",
       "            <td>None</td>\n",
       "            <td>IC   </td>\n",
       "            <td>4400    ENSIGN                       AV </td>\n",
       "            <td>None</td>\n",
       "            <td>34.1504</td>\n",
       "            <td>-118.3712</td>\n",
       "            <td>None</td>\n",
       "        </tr>\n",
       "        <tr>\n",
       "            <td>10304468</td>\n",
       "            <td>2020-01-08 00:00:00</td>\n",
       "            <td>2020-01-08 00:00:00</td>\n",
       "            <td>2230</td>\n",
       "            <td>3    </td>\n",
       "            <td>377</td>\n",
       "            <td>624</td>\n",
       "            <td>36</td>\n",
       "            <td>F</td>\n",
       "            <td>B</td>\n",
       "            <td>501</td>\n",
       "            <td>400</td>\n",
       "            <td>AO   </td>\n",
       "            <td>1100 W  39TH                         PL </td>\n",
       "            <td>None</td>\n",
       "            <td>34.0141</td>\n",
       "            <td>-118.2978</td>\n",
       "            <td>None</td>\n",
       "        </tr>\n",
       "    </tbody>\n",
       "</table>"
      ],
      "text/plain": [
       "[(817, datetime.datetime(2020, 9, 20, 0, 0), datetime.datetime(2020, 9, 19, 0, 0), 1700, '17   ', 1777, 510, None, None, None, 101, None, 'IC   ', '9100    RUBIO                        AV ', None, '34.2367', '-118.4955', None),\n",
       " (2113, datetime.datetime(2021, 6, 21, 0, 0), datetime.datetime(2021, 4, 5, 0, 0), 1835, '13   ', 1385, 510, None, None, None, 101, None, 'IC   ', '800 E  GAGE                         AV  ', None, '33.982', '-118.2622', None),\n",
       " (2203, datetime.datetime(2022, 12, 31, 0, 0), datetime.datetime(2022, 12, 19, 0, 0), 1930, '3    ', 356, 522, None, None, None, 502, None, 'IC   ', '1400 W  37TH                         ST ', None, '34.021', '-118.3002', None),\n",
       " (2315, datetime.datetime(2023, 7, 23, 0, 0), datetime.datetime(2023, 7, 22, 0, 0), 1800, '15   ', 1566, 420, None, None, None, 101, None, 'IC   ', '4400    ENSIGN                       AV ', None, '34.1504', '-118.3712', None),\n",
       " (10304468, datetime.datetime(2020, 1, 8, 0, 0), datetime.datetime(2020, 1, 8, 0, 0), 2230, '3    ', 377, 624, 36, 'F', 'B', 501, 400, 'AO   ', '1100 W  39TH                         PL ', None, '34.0141', '-118.2978', None)]"
      ]
     },
     "execution_count": 30,
     "metadata": {},
     "output_type": "execute_result"
    }
   ],
   "source": [
    "%%sql\n",
    "SELECT * FROM FACT_TABLE LIMIT 5;"
   ]
  },
  {
   "cell_type": "code",
   "execution_count": 31,
   "id": "0b264ebe-0a0f-4fc6-884f-5b0c1888c488",
   "metadata": {},
   "outputs": [
    {
     "name": "stdout",
     "output_type": "stream",
     "text": [
      " * postgresql://student@/group15final\n",
      "843514 rows affected.\n"
     ]
    },
    {
     "data": {
      "text/plain": [
       "[]"
      ]
     },
     "execution_count": 31,
     "metadata": {},
     "output_type": "execute_result"
    }
   ],
   "source": [
    "%%sql\n",
    "UPDATE FACT_TABLE AS F\n",
    "SET CRIME_KEY = C.CRIME_KEY\n",
    "FROM CRIME_Table AS C\n",
    "WHERE F.CRM_CD = C.CRM_CD;"
   ]
  },
  {
   "cell_type": "code",
   "execution_count": 32,
   "id": "d0081e22-2bd5-40e0-915e-8ee4408f2799",
   "metadata": {},
   "outputs": [
    {
     "name": "stdout",
     "output_type": "stream",
     "text": [
      " * postgresql://student@/group15final\n",
      "5 rows affected.\n"
     ]
    },
    {
     "data": {
      "text/html": [
       "<table>\n",
       "    <thead>\n",
       "        <tr>\n",
       "            <th>dr_no</th>\n",
       "            <th>date_rptd</th>\n",
       "            <th>date_occ</th>\n",
       "            <th>time_occ</th>\n",
       "            <th>area</th>\n",
       "            <th>rpt_dist_no</th>\n",
       "            <th>crm_cd</th>\n",
       "            <th>vict_age</th>\n",
       "            <th>vict_sex</th>\n",
       "            <th>vict_descent</th>\n",
       "            <th>premis_cd</th>\n",
       "            <th>weapon_used_cd</th>\n",
       "            <th>status</th>\n",
       "            <th>location</th>\n",
       "            <th>cross_street</th>\n",
       "            <th>lat</th>\n",
       "            <th>lon</th>\n",
       "            <th>crime_key</th>\n",
       "        </tr>\n",
       "    </thead>\n",
       "    <tbody>\n",
       "        <tr>\n",
       "            <td>200100694</td>\n",
       "            <td>2020-03-20 00:00:00</td>\n",
       "            <td>2020-03-17 00:00:00</td>\n",
       "            <td>230</td>\n",
       "            <td>1    </td>\n",
       "            <td>162</td>\n",
       "            <td>745</td>\n",
       "            <td>None</td>\n",
       "            <td>M</td>\n",
       "            <td>W</td>\n",
       "            <td>203</td>\n",
       "            <td>None</td>\n",
       "            <td>IC   </td>\n",
       "            <td>700 W  7TH                          ST  </td>\n",
       "            <td>None</td>\n",
       "            <td>34.048</td>\n",
       "            <td>-118.2577</td>\n",
       "            <td>81</td>\n",
       "        </tr>\n",
       "        <tr>\n",
       "            <td>200113661</td>\n",
       "            <td>2020-06-19 00:00:00</td>\n",
       "            <td>2020-06-15 00:00:00</td>\n",
       "            <td>2030</td>\n",
       "            <td>1    </td>\n",
       "            <td>192</td>\n",
       "            <td>510</td>\n",
       "            <td>None</td>\n",
       "            <td>None</td>\n",
       "            <td>None</td>\n",
       "            <td>108</td>\n",
       "            <td>None</td>\n",
       "            <td>IC   </td>\n",
       "            <td>1400 S  FIGUEROA                     ST </td>\n",
       "            <td>None</td>\n",
       "            <td>34.0393</td>\n",
       "            <td>-118.2689</td>\n",
       "            <td>57</td>\n",
       "        </tr>\n",
       "        <tr>\n",
       "            <td>200114168</td>\n",
       "            <td>2020-06-30 00:00:00</td>\n",
       "            <td>2020-02-01 00:00:00</td>\n",
       "            <td>1800</td>\n",
       "            <td>1    </td>\n",
       "            <td>142</td>\n",
       "            <td>510</td>\n",
       "            <td>None</td>\n",
       "            <td>None</td>\n",
       "            <td>None</td>\n",
       "            <td>108</td>\n",
       "            <td>None</td>\n",
       "            <td>IC   </td>\n",
       "            <td>300 S  OLIVE                        ST  </td>\n",
       "            <td>None</td>\n",
       "            <td>34.0516</td>\n",
       "            <td>-118.2508</td>\n",
       "            <td>57</td>\n",
       "        </tr>\n",
       "        <tr>\n",
       "            <td>200114472</td>\n",
       "            <td>2020-07-07 00:00:00</td>\n",
       "            <td>2020-07-07 00:00:00</td>\n",
       "            <td>715</td>\n",
       "            <td>1    </td>\n",
       "            <td>111</td>\n",
       "            <td>510</td>\n",
       "            <td>None</td>\n",
       "            <td>None</td>\n",
       "            <td>None</td>\n",
       "            <td>101</td>\n",
       "            <td>None</td>\n",
       "            <td>IC   </td>\n",
       "            <td>600 N  HILL                         ST  </td>\n",
       "            <td>None</td>\n",
       "            <td>34.0591</td>\n",
       "            <td>-118.2412</td>\n",
       "            <td>57</td>\n",
       "        </tr>\n",
       "        <tr>\n",
       "            <td>200116512</td>\n",
       "            <td>2020-08-17 00:00:00</td>\n",
       "            <td>2020-08-11 00:00:00</td>\n",
       "            <td>1657</td>\n",
       "            <td>1    </td>\n",
       "            <td>121</td>\n",
       "            <td>510</td>\n",
       "            <td>None</td>\n",
       "            <td>None</td>\n",
       "            <td>None</td>\n",
       "            <td>101</td>\n",
       "            <td>None</td>\n",
       "            <td>IC   </td>\n",
       "            <td>100 N  FREMONT                      AV  </td>\n",
       "            <td>None</td>\n",
       "            <td>34.0584</td>\n",
       "            <td>-118.2531</td>\n",
       "            <td>57</td>\n",
       "        </tr>\n",
       "    </tbody>\n",
       "</table>"
      ],
      "text/plain": [
       "[(200100694, datetime.datetime(2020, 3, 20, 0, 0), datetime.datetime(2020, 3, 17, 0, 0), 230, '1    ', 162, 745, None, 'M', 'W', 203, None, 'IC   ', '700 W  7TH                          ST  ', None, '34.048', '-118.2577', 81),\n",
       " (200113661, datetime.datetime(2020, 6, 19, 0, 0), datetime.datetime(2020, 6, 15, 0, 0), 2030, '1    ', 192, 510, None, None, None, 108, None, 'IC   ', '1400 S  FIGUEROA                     ST ', None, '34.0393', '-118.2689', 57),\n",
       " (200114168, datetime.datetime(2020, 6, 30, 0, 0), datetime.datetime(2020, 2, 1, 0, 0), 1800, '1    ', 142, 510, None, None, None, 108, None, 'IC   ', '300 S  OLIVE                        ST  ', None, '34.0516', '-118.2508', 57),\n",
       " (200114472, datetime.datetime(2020, 7, 7, 0, 0), datetime.datetime(2020, 7, 7, 0, 0), 715, '1    ', 111, 510, None, None, None, 101, None, 'IC   ', '600 N  HILL                         ST  ', None, '34.0591', '-118.2412', 57),\n",
       " (200116512, datetime.datetime(2020, 8, 17, 0, 0), datetime.datetime(2020, 8, 11, 0, 0), 1657, '1    ', 121, 510, None, None, None, 101, None, 'IC   ', '100 N  FREMONT                      AV  ', None, '34.0584', '-118.2531', 57)]"
      ]
     },
     "execution_count": 32,
     "metadata": {},
     "output_type": "execute_result"
    }
   ],
   "source": [
    "%%sql\n",
    "SELECT * FROM FACT_TABLE LIMIT 5;"
   ]
  },
  {
   "cell_type": "code",
   "execution_count": 33,
   "id": "87561240-05e3-4a7d-a739-f53017713486",
   "metadata": {},
   "outputs": [
    {
     "name": "stdout",
     "output_type": "stream",
     "text": [
      " * postgresql://student@/group15final\n",
      "1 rows affected.\n"
     ]
    },
    {
     "data": {
      "text/html": [
       "<table>\n",
       "    <thead>\n",
       "        <tr>\n",
       "            <th>count</th>\n",
       "        </tr>\n",
       "    </thead>\n",
       "    <tbody>\n",
       "        <tr>\n",
       "            <td>0</td>\n",
       "        </tr>\n",
       "    </tbody>\n",
       "</table>"
      ],
      "text/plain": [
       "[(0,)]"
      ]
     },
     "execution_count": 33,
     "metadata": {},
     "output_type": "execute_result"
    }
   ],
   "source": [
    "%%sql\n",
    "SELECT COUNT(*) FROM FACT_TABLE \n",
    "WHERE CRIME_KEY IS NULL LIMIT 5;"
   ]
  },
  {
   "cell_type": "markdown",
   "id": "4f542024-dd48-4227-989e-573394fa0594",
   "metadata": {
    "id": "4f542024-dd48-4227-989e-573394fa0594"
   },
   "source": [
    "##### Creating and Loading Data for the Location Dimention as Location_Table"
   ]
  },
  {
   "cell_type": "code",
   "execution_count": 34,
   "id": "e9f0ca33-05c5-4076-9be3-728ff8fae355",
   "metadata": {
    "id": "e9f0ca33-05c5-4076-9be3-728ff8fae355",
    "outputId": "f974256b-5812-4e25-e47d-40f7dbe730c7"
   },
   "outputs": [
    {
     "name": "stdout",
     "output_type": "stream",
     "text": [
      " * postgresql://student@/group15final\n",
      "Done.\n",
      "Done.\n"
     ]
    },
    {
     "data": {
      "text/plain": [
       "[]"
      ]
     },
     "execution_count": 34,
     "metadata": {},
     "output_type": "execute_result"
    }
   ],
   "source": [
    "%%sql\n",
    "DROP TABLE IF EXISTS Location_Table;\n",
    "\n",
    "CREATE TABLE Location_Table (\n",
    "    location_key SERIAL PRIMARY KEY NOT NULL,\n",
    "    Area CHAR(5) NOT NULL,\n",
    "    Area_Name CHAR(255) NOT NULL,\n",
    "    Rpt_Dist_No VARCHAR(25) NOT NULL,\n",
    "    Location CHAR(40) NOT NULL,\n",
    "    Cross_Street CHAR(35),\n",
    "    Lat VARCHAR(25),\n",
    "    Lon VARCHAR(25)\n",
    ")"
   ]
  },
  {
   "cell_type": "code",
   "execution_count": 35,
   "id": "325828fc-b852-4ef4-be3b-0df3fbb5d3c6",
   "metadata": {
    "id": "325828fc-b852-4ef4-be3b-0df3fbb5d3c6",
    "outputId": "d0f9123b-2a74-4ce6-a095-86d1263d3e4a"
   },
   "outputs": [
    {
     "name": "stdout",
     "output_type": "stream",
     "text": [
      " * postgresql://student@/group15final\n",
      "176910 rows affected.\n"
     ]
    },
    {
     "data": {
      "text/plain": [
       "[]"
      ]
     },
     "execution_count": 35,
     "metadata": {},
     "output_type": "execute_result"
    }
   ],
   "source": [
    "%%sql\n",
    "INSERT INTO Location_Table (Area, Area_Name,Rpt_Dist_No, Location, Cross_Street, Lat, Lon)\n",
    "SELECT DISTINCT Area, Area_Name,Rpt_Dist_No, Location, Cross_Street,Lat, Lon\n",
    "FROM Crime_Data;"
   ]
  },
  {
   "cell_type": "code",
   "execution_count": 36,
   "id": "615ed409-3649-4c54-860c-0c2167ba8fa9",
   "metadata": {},
   "outputs": [
    {
     "name": "stdout",
     "output_type": "stream",
     "text": [
      " * postgresql://student@/group15final\n",
      "1 rows affected.\n"
     ]
    },
    {
     "data": {
      "text/html": [
       "<table>\n",
       "    <thead>\n",
       "        <tr>\n",
       "            <th>count</th>\n",
       "        </tr>\n",
       "    </thead>\n",
       "    <tbody>\n",
       "        <tr>\n",
       "            <td>176910</td>\n",
       "        </tr>\n",
       "    </tbody>\n",
       "</table>"
      ],
      "text/plain": [
       "[(176910,)]"
      ]
     },
     "execution_count": 36,
     "metadata": {},
     "output_type": "execute_result"
    }
   ],
   "source": [
    "%%sql\n",
    "SELECT COUNT(*) FROM Location_Table LIMIT 5;"
   ]
  },
  {
   "cell_type": "markdown",
   "id": "b5916311-8980-445f-9078-dd1df2f1fc56",
   "metadata": {
    "id": "b5916311-8980-445f-9078-dd1df2f1fc56"
   },
   "source": [
    "Because the information allocated to the location table does not include a suitable primary key, a serial key was assigned as location_id. The following 2 cells update the FACT_TABLE to include this new id. This process is repeated for the victim table."
   ]
  },
  {
   "cell_type": "code",
   "execution_count": 37,
   "id": "d2d9c54a-6316-4b1d-bcba-17907c2fa62a",
   "metadata": {
    "id": "d2d9c54a-6316-4b1d-bcba-17907c2fa62a",
    "outputId": "338299f6-bdfc-48a5-daa6-98a7da8818b4"
   },
   "outputs": [
    {
     "name": "stdout",
     "output_type": "stream",
     "text": [
      " * postgresql://student@/group15final\n",
      "Done.\n"
     ]
    },
    {
     "data": {
      "text/plain": [
       "[]"
      ]
     },
     "execution_count": 37,
     "metadata": {},
     "output_type": "execute_result"
    }
   ],
   "source": [
    "%%sql\n",
    "ALTER TABLE FACT_TABLE\n",
    "ADD COLUMN location_key INTEGER,\n",
    "ADD CONSTRAINT fk_Location_Table\n",
    "    FOREIGN KEY (location_key)\n",
    "    REFERENCES Location_Table(location_key)\n"
   ]
  },
  {
   "cell_type": "code",
   "execution_count": 38,
   "id": "2cd972a4-2311-4716-8c4b-1288312c7580",
   "metadata": {},
   "outputs": [
    {
     "name": "stdout",
     "output_type": "stream",
     "text": [
      " * postgresql://student@/group15final\n",
      "5 rows affected.\n"
     ]
    },
    {
     "data": {
      "text/html": [
       "<table>\n",
       "    <thead>\n",
       "        <tr>\n",
       "            <th>dr_no</th>\n",
       "            <th>date_rptd</th>\n",
       "            <th>date_occ</th>\n",
       "            <th>time_occ</th>\n",
       "            <th>area</th>\n",
       "            <th>rpt_dist_no</th>\n",
       "            <th>crm_cd</th>\n",
       "            <th>vict_age</th>\n",
       "            <th>vict_sex</th>\n",
       "            <th>vict_descent</th>\n",
       "            <th>premis_cd</th>\n",
       "            <th>weapon_used_cd</th>\n",
       "            <th>status</th>\n",
       "            <th>location</th>\n",
       "            <th>cross_street</th>\n",
       "            <th>lat</th>\n",
       "            <th>lon</th>\n",
       "            <th>crime_key</th>\n",
       "            <th>location_key</th>\n",
       "        </tr>\n",
       "    </thead>\n",
       "    <tbody>\n",
       "        <tr>\n",
       "            <td>200116512</td>\n",
       "            <td>2020-08-17 00:00:00</td>\n",
       "            <td>2020-08-11 00:00:00</td>\n",
       "            <td>1657</td>\n",
       "            <td>1    </td>\n",
       "            <td>121</td>\n",
       "            <td>510</td>\n",
       "            <td>None</td>\n",
       "            <td>None</td>\n",
       "            <td>None</td>\n",
       "            <td>101</td>\n",
       "            <td>None</td>\n",
       "            <td>IC   </td>\n",
       "            <td>100 N  FREMONT                      AV  </td>\n",
       "            <td>None</td>\n",
       "            <td>34.0584</td>\n",
       "            <td>-118.2531</td>\n",
       "            <td>57</td>\n",
       "            <td>None</td>\n",
       "        </tr>\n",
       "        <tr>\n",
       "            <td>200120211</td>\n",
       "            <td>2020-10-28 00:00:00</td>\n",
       "            <td>2020-10-28 00:00:00</td>\n",
       "            <td>1000</td>\n",
       "            <td>1    </td>\n",
       "            <td>119</td>\n",
       "            <td>845</td>\n",
       "            <td>None</td>\n",
       "            <td>M</td>\n",
       "            <td>O</td>\n",
       "            <td>834</td>\n",
       "            <td>None</td>\n",
       "            <td>AO   </td>\n",
       "            <td>800 N  VIGNES                       ST  </td>\n",
       "            <td>None</td>\n",
       "            <td>34.0559</td>\n",
       "            <td>-118.232</td>\n",
       "            <td>101</td>\n",
       "            <td>None</td>\n",
       "        </tr>\n",
       "        <tr>\n",
       "            <td>200121174</td>\n",
       "            <td>2020-11-17 00:00:00</td>\n",
       "            <td>2020-11-17 00:00:00</td>\n",
       "            <td>1500</td>\n",
       "            <td>1    </td>\n",
       "            <td>145</td>\n",
       "            <td>420</td>\n",
       "            <td>None</td>\n",
       "            <td>None</td>\n",
       "            <td>None</td>\n",
       "            <td>101</td>\n",
       "            <td>None</td>\n",
       "            <td>IC   </td>\n",
       "            <td>400 S  LOS ANGELES                  ST  </td>\n",
       "            <td>None</td>\n",
       "            <td>34.0471</td>\n",
       "            <td>-118.2474</td>\n",
       "            <td>29</td>\n",
       "            <td>None</td>\n",
       "        </tr>\n",
       "        <tr>\n",
       "            <td>200121239</td>\n",
       "            <td>2020-11-18 00:00:00</td>\n",
       "            <td>2020-11-17 00:00:00</td>\n",
       "            <td>1000</td>\n",
       "            <td>1    </td>\n",
       "            <td>195</td>\n",
       "            <td>510</td>\n",
       "            <td>None</td>\n",
       "            <td>None</td>\n",
       "            <td>None</td>\n",
       "            <td>108</td>\n",
       "            <td>None</td>\n",
       "            <td>AA   </td>\n",
       "            <td>1400    MAPLE                        AV </td>\n",
       "            <td>None</td>\n",
       "            <td>34.0335</td>\n",
       "            <td>-118.2619</td>\n",
       "            <td>57</td>\n",
       "            <td>None</td>\n",
       "        </tr>\n",
       "        <tr>\n",
       "            <td>200122047</td>\n",
       "            <td>2020-12-07 00:00:00</td>\n",
       "            <td>2020-12-07 00:00:00</td>\n",
       "            <td>1000</td>\n",
       "            <td>1    </td>\n",
       "            <td>111</td>\n",
       "            <td>510</td>\n",
       "            <td>None</td>\n",
       "            <td>None</td>\n",
       "            <td>None</td>\n",
       "            <td>108</td>\n",
       "            <td>None</td>\n",
       "            <td>IC   </td>\n",
       "            <td>600 N  FIGUEROA                     ST  </td>\n",
       "            <td>None</td>\n",
       "            <td>34.0627</td>\n",
       "            <td>-118.2463</td>\n",
       "            <td>57</td>\n",
       "            <td>None</td>\n",
       "        </tr>\n",
       "    </tbody>\n",
       "</table>"
      ],
      "text/plain": [
       "[(200116512, datetime.datetime(2020, 8, 17, 0, 0), datetime.datetime(2020, 8, 11, 0, 0), 1657, '1    ', 121, 510, None, None, None, 101, None, 'IC   ', '100 N  FREMONT                      AV  ', None, '34.0584', '-118.2531', 57, None),\n",
       " (200120211, datetime.datetime(2020, 10, 28, 0, 0), datetime.datetime(2020, 10, 28, 0, 0), 1000, '1    ', 119, 845, None, 'M', 'O', 834, None, 'AO   ', '800 N  VIGNES                       ST  ', None, '34.0559', '-118.232', 101, None),\n",
       " (200121174, datetime.datetime(2020, 11, 17, 0, 0), datetime.datetime(2020, 11, 17, 0, 0), 1500, '1    ', 145, 420, None, None, None, 101, None, 'IC   ', '400 S  LOS ANGELES                  ST  ', None, '34.0471', '-118.2474', 29, None),\n",
       " (200121239, datetime.datetime(2020, 11, 18, 0, 0), datetime.datetime(2020, 11, 17, 0, 0), 1000, '1    ', 195, 510, None, None, None, 108, None, 'AA   ', '1400    MAPLE                        AV ', None, '34.0335', '-118.2619', 57, None),\n",
       " (200122047, datetime.datetime(2020, 12, 7, 0, 0), datetime.datetime(2020, 12, 7, 0, 0), 1000, '1    ', 111, 510, None, None, None, 108, None, 'IC   ', '600 N  FIGUEROA                     ST  ', None, '34.0627', '-118.2463', 57, None)]"
      ]
     },
     "execution_count": 38,
     "metadata": {},
     "output_type": "execute_result"
    }
   ],
   "source": [
    "%%sql \n",
    "Select * FROM Fact_Table Limit 5;"
   ]
  },
  {
   "cell_type": "code",
   "execution_count": 39,
   "id": "21305a18-427d-4a91-951e-f62a8fcd8c77",
   "metadata": {},
   "outputs": [
    {
     "name": "stdout",
     "output_type": "stream",
     "text": [
      " * postgresql://student@/group15final\n",
      "843514 rows affected.\n"
     ]
    },
    {
     "data": {
      "text/plain": [
       "[]"
      ]
     },
     "execution_count": 39,
     "metadata": {},
     "output_type": "execute_result"
    }
   ],
   "source": [
    "%%sql\n",
    "UPDATE FACT_TABLE AS F\n",
    "SET LOCATION_KEY = L.LOCATION_KEY\n",
    "FROM LOCATION_TABLE AS L\n",
    "WHERE F.AREA = L.AREA AND\n",
    "      F.RPT_DIST_NO = CAST(L.RPT_DIST_NO AS INTEGER) AND\n",
    "      F.LOCATION = L.LOCATION AND\n",
    "      F.LAT = L.LAT AND\n",
    "      F.LON = L.LON;"
   ]
  },
  {
   "cell_type": "code",
   "execution_count": 40,
   "id": "3c9e8944-2162-485b-a48b-44ff1a5df76b",
   "metadata": {},
   "outputs": [
    {
     "name": "stdout",
     "output_type": "stream",
     "text": [
      " * postgresql://student@/group15final\n",
      "5 rows affected.\n"
     ]
    },
    {
     "data": {
      "text/html": [
       "<table>\n",
       "    <thead>\n",
       "        <tr>\n",
       "            <th>dr_no</th>\n",
       "            <th>date_rptd</th>\n",
       "            <th>date_occ</th>\n",
       "            <th>time_occ</th>\n",
       "            <th>area</th>\n",
       "            <th>rpt_dist_no</th>\n",
       "            <th>crm_cd</th>\n",
       "            <th>vict_age</th>\n",
       "            <th>vict_sex</th>\n",
       "            <th>vict_descent</th>\n",
       "            <th>premis_cd</th>\n",
       "            <th>weapon_used_cd</th>\n",
       "            <th>status</th>\n",
       "            <th>location</th>\n",
       "            <th>cross_street</th>\n",
       "            <th>lat</th>\n",
       "            <th>lon</th>\n",
       "            <th>crime_key</th>\n",
       "            <th>location_key</th>\n",
       "        </tr>\n",
       "    </thead>\n",
       "    <tbody>\n",
       "        <tr>\n",
       "            <td>200122047</td>\n",
       "            <td>2020-12-07 00:00:00</td>\n",
       "            <td>2020-12-07 00:00:00</td>\n",
       "            <td>1000</td>\n",
       "            <td>1    </td>\n",
       "            <td>111</td>\n",
       "            <td>510</td>\n",
       "            <td>None</td>\n",
       "            <td>None</td>\n",
       "            <td>None</td>\n",
       "            <td>108</td>\n",
       "            <td>None</td>\n",
       "            <td>IC   </td>\n",
       "            <td>600 N  FIGUEROA                     ST  </td>\n",
       "            <td>None</td>\n",
       "            <td>34.0627</td>\n",
       "            <td>-118.2463</td>\n",
       "            <td>57</td>\n",
       "            <td>322</td>\n",
       "        </tr>\n",
       "        <tr>\n",
       "            <td>200204580</td>\n",
       "            <td>2020-01-13 00:00:00</td>\n",
       "            <td>2020-01-12 00:00:00</td>\n",
       "            <td>2100</td>\n",
       "            <td>2    </td>\n",
       "            <td>275</td>\n",
       "            <td>420</td>\n",
       "            <td>None</td>\n",
       "            <td>None</td>\n",
       "            <td>None</td>\n",
       "            <td>101</td>\n",
       "            <td>None</td>\n",
       "            <td>IC   </td>\n",
       "            <td>900 S  ALVARADO                     ST  </td>\n",
       "            <td>None</td>\n",
       "            <td>34.0534</td>\n",
       "            <td>-118.2788</td>\n",
       "            <td>29</td>\n",
       "            <td>103782</td>\n",
       "        </tr>\n",
       "        <tr>\n",
       "            <td>200208394</td>\n",
       "            <td>2020-03-31 00:00:00</td>\n",
       "            <td>2020-03-30 00:00:00</td>\n",
       "            <td>1200</td>\n",
       "            <td>2    </td>\n",
       "            <td>291</td>\n",
       "            <td>420</td>\n",
       "            <td>None</td>\n",
       "            <td>None</td>\n",
       "            <td>None</td>\n",
       "            <td>101</td>\n",
       "            <td>None</td>\n",
       "            <td>IC   </td>\n",
       "            <td>1300 S  WESTLAKE                     AV </td>\n",
       "            <td>None</td>\n",
       "            <td>34.0467</td>\n",
       "            <td>-118.2814</td>\n",
       "            <td>29</td>\n",
       "            <td>104358</td>\n",
       "        </tr>\n",
       "        <tr>\n",
       "            <td>200208578</td>\n",
       "            <td>2020-04-05 00:00:00</td>\n",
       "            <td>2020-04-04 00:00:00</td>\n",
       "            <td>1700</td>\n",
       "            <td>2    </td>\n",
       "            <td>204</td>\n",
       "            <td>510</td>\n",
       "            <td>None</td>\n",
       "            <td>None</td>\n",
       "            <td>None</td>\n",
       "            <td>101</td>\n",
       "            <td>None</td>\n",
       "            <td>IC   </td>\n",
       "            <td>700    TULAROSA                     DR  </td>\n",
       "            <td>None</td>\n",
       "            <td>34.0815</td>\n",
       "            <td>-118.281</td>\n",
       "            <td>57</td>\n",
       "            <td>97960</td>\n",
       "        </tr>\n",
       "        <tr>\n",
       "            <td>200210187</td>\n",
       "            <td>2020-05-14 00:00:00</td>\n",
       "            <td>2020-05-14 00:00:00</td>\n",
       "            <td>1745</td>\n",
       "            <td>2    </td>\n",
       "            <td>251</td>\n",
       "            <td>420</td>\n",
       "            <td>None</td>\n",
       "            <td>None</td>\n",
       "            <td>None</td>\n",
       "            <td>101</td>\n",
       "            <td>None</td>\n",
       "            <td>IC   </td>\n",
       "            <td>500 S  CORONADO                     ST  </td>\n",
       "            <td>None</td>\n",
       "            <td>34.0628</td>\n",
       "            <td>-118.2811</td>\n",
       "            <td>29</td>\n",
       "            <td>102310</td>\n",
       "        </tr>\n",
       "    </tbody>\n",
       "</table>"
      ],
      "text/plain": [
       "[(200122047, datetime.datetime(2020, 12, 7, 0, 0), datetime.datetime(2020, 12, 7, 0, 0), 1000, '1    ', 111, 510, None, None, None, 108, None, 'IC   ', '600 N  FIGUEROA                     ST  ', None, '34.0627', '-118.2463', 57, 322),\n",
       " (200204580, datetime.datetime(2020, 1, 13, 0, 0), datetime.datetime(2020, 1, 12, 0, 0), 2100, '2    ', 275, 420, None, None, None, 101, None, 'IC   ', '900 S  ALVARADO                     ST  ', None, '34.0534', '-118.2788', 29, 103782),\n",
       " (200208394, datetime.datetime(2020, 3, 31, 0, 0), datetime.datetime(2020, 3, 30, 0, 0), 1200, '2    ', 291, 420, None, None, None, 101, None, 'IC   ', '1300 S  WESTLAKE                     AV ', None, '34.0467', '-118.2814', 29, 104358),\n",
       " (200208578, datetime.datetime(2020, 4, 5, 0, 0), datetime.datetime(2020, 4, 4, 0, 0), 1700, '2    ', 204, 510, None, None, None, 101, None, 'IC   ', '700    TULAROSA                     DR  ', None, '34.0815', '-118.281', 57, 97960),\n",
       " (200210187, datetime.datetime(2020, 5, 14, 0, 0), datetime.datetime(2020, 5, 14, 0, 0), 1745, '2    ', 251, 420, None, None, None, 101, None, 'IC   ', '500 S  CORONADO                     ST  ', None, '34.0628', '-118.2811', 29, 102310)]"
      ]
     },
     "execution_count": 40,
     "metadata": {},
     "output_type": "execute_result"
    }
   ],
   "source": [
    "%%sql\n",
    "SELECT * FROM FACT_TABLE LIMIT 5;"
   ]
  },
  {
   "cell_type": "code",
   "execution_count": 41,
   "id": "063488ea-3fc2-4ae7-8e40-d6706e912a70",
   "metadata": {},
   "outputs": [
    {
     "name": "stdout",
     "output_type": "stream",
     "text": [
      " * postgresql://student@/group15final\n",
      "1 rows affected.\n"
     ]
    },
    {
     "data": {
      "text/html": [
       "<table>\n",
       "    <thead>\n",
       "        <tr>\n",
       "            <th>count</th>\n",
       "        </tr>\n",
       "    </thead>\n",
       "    <tbody>\n",
       "        <tr>\n",
       "            <td>0</td>\n",
       "        </tr>\n",
       "    </tbody>\n",
       "</table>"
      ],
      "text/plain": [
       "[(0,)]"
      ]
     },
     "execution_count": 41,
     "metadata": {},
     "output_type": "execute_result"
    }
   ],
   "source": [
    "%%sql\n",
    "SELECT COUNT(*) FROM FACT_TABLE\n",
    "WHERE LOCATION_KEY IS NULL LIMIT 5;"
   ]
  },
  {
   "cell_type": "code",
   "execution_count": 42,
   "id": "027fbb11-726e-47f7-9b30-1525711f4027",
   "metadata": {},
   "outputs": [
    {
     "name": "stdout",
     "output_type": "stream",
     "text": [
      " * postgresql://student@/group15final\n",
      "1 rows affected.\n"
     ]
    },
    {
     "data": {
      "text/html": [
       "<table>\n",
       "    <thead>\n",
       "        <tr>\n",
       "            <th>count</th>\n",
       "        </tr>\n",
       "    </thead>\n",
       "    <tbody>\n",
       "        <tr>\n",
       "            <td>843514</td>\n",
       "        </tr>\n",
       "    </tbody>\n",
       "</table>"
      ],
      "text/plain": [
       "[(843514,)]"
      ]
     },
     "execution_count": 42,
     "metadata": {},
     "output_type": "execute_result"
    }
   ],
   "source": [
    "%%sql\n",
    "SELECT COUNT(*) FROM FACT_TABLE LIMIT 5;"
   ]
  },
  {
   "cell_type": "code",
   "execution_count": 43,
   "id": "aa3e7169-8418-4f01-a087-4a12ece22535",
   "metadata": {
    "tags": []
   },
   "outputs": [
    {
     "name": "stdout",
     "output_type": "stream",
     "text": [
      " * postgresql://student@/group15final\n",
      "5 rows affected.\n"
     ]
    },
    {
     "data": {
      "text/html": [
       "<table>\n",
       "    <thead>\n",
       "        <tr>\n",
       "            <th>dr_no</th>\n",
       "            <th>date_rptd</th>\n",
       "            <th>date_occ</th>\n",
       "            <th>time_occ</th>\n",
       "            <th>area</th>\n",
       "            <th>rpt_dist_no</th>\n",
       "            <th>crm_cd</th>\n",
       "            <th>vict_age</th>\n",
       "            <th>vict_sex</th>\n",
       "            <th>vict_descent</th>\n",
       "            <th>premis_cd</th>\n",
       "            <th>weapon_used_cd</th>\n",
       "            <th>status</th>\n",
       "            <th>location</th>\n",
       "            <th>cross_street</th>\n",
       "            <th>lat</th>\n",
       "            <th>lon</th>\n",
       "            <th>crime_key</th>\n",
       "            <th>location_key</th>\n",
       "        </tr>\n",
       "    </thead>\n",
       "    <tbody>\n",
       "        <tr>\n",
       "            <td>200210187</td>\n",
       "            <td>2020-05-14 00:00:00</td>\n",
       "            <td>2020-05-14 00:00:00</td>\n",
       "            <td>1745</td>\n",
       "            <td>2    </td>\n",
       "            <td>251</td>\n",
       "            <td>420</td>\n",
       "            <td>None</td>\n",
       "            <td>None</td>\n",
       "            <td>None</td>\n",
       "            <td>101</td>\n",
       "            <td>None</td>\n",
       "            <td>IC   </td>\n",
       "            <td>500 S  CORONADO                     ST  </td>\n",
       "            <td>None</td>\n",
       "            <td>34.0628</td>\n",
       "            <td>-118.2811</td>\n",
       "            <td>29</td>\n",
       "            <td>102310</td>\n",
       "        </tr>\n",
       "        <tr>\n",
       "            <td>200212451</td>\n",
       "            <td>2020-07-11 00:00:00</td>\n",
       "            <td>2020-07-11 00:00:00</td>\n",
       "            <td>1930</td>\n",
       "            <td>2    </td>\n",
       "            <td>256</td>\n",
       "            <td>510</td>\n",
       "            <td>None</td>\n",
       "            <td>None</td>\n",
       "            <td>None</td>\n",
       "            <td>108</td>\n",
       "            <td>None</td>\n",
       "            <td>IC   </td>\n",
       "            <td>1700 W  6TH                          ST </td>\n",
       "            <td>None</td>\n",
       "            <td>34.0573</td>\n",
       "            <td>-118.2699</td>\n",
       "            <td>57</td>\n",
       "            <td>102413</td>\n",
       "        </tr>\n",
       "        <tr>\n",
       "            <td>200214424</td>\n",
       "            <td>2020-08-31 00:00:00</td>\n",
       "            <td>2020-08-30 00:00:00</td>\n",
       "            <td>1900</td>\n",
       "            <td>2    </td>\n",
       "            <td>246</td>\n",
       "            <td>510</td>\n",
       "            <td>None</td>\n",
       "            <td>None</td>\n",
       "            <td>None</td>\n",
       "            <td>101</td>\n",
       "            <td>None</td>\n",
       "            <td>IC   </td>\n",
       "            <td>600 S  WESTLAKE                     AV  </td>\n",
       "            <td>None</td>\n",
       "            <td>34.0598</td>\n",
       "            <td>-118.2734</td>\n",
       "            <td>57</td>\n",
       "            <td>101624</td>\n",
       "        </tr>\n",
       "        <tr>\n",
       "            <td>200214484</td>\n",
       "            <td>2020-09-02 00:00:00</td>\n",
       "            <td>2020-09-01 00:00:00</td>\n",
       "            <td>2000</td>\n",
       "            <td>2    </td>\n",
       "            <td>279</td>\n",
       "            <td>510</td>\n",
       "            <td>None</td>\n",
       "            <td>None</td>\n",
       "            <td>None</td>\n",
       "            <td>101</td>\n",
       "            <td>None</td>\n",
       "            <td>IC   </td>\n",
       "            <td>1400 W  10TH                         PL </td>\n",
       "            <td>None</td>\n",
       "            <td>34.0474</td>\n",
       "            <td>-118.2714</td>\n",
       "            <td>57</td>\n",
       "            <td>103927</td>\n",
       "        </tr>\n",
       "        <tr>\n",
       "            <td>200215184</td>\n",
       "            <td>2020-09-18 00:00:00</td>\n",
       "            <td>2020-09-18 00:00:00</td>\n",
       "            <td>1955</td>\n",
       "            <td>2    </td>\n",
       "            <td>204</td>\n",
       "            <td>510</td>\n",
       "            <td>None</td>\n",
       "            <td>None</td>\n",
       "            <td>None</td>\n",
       "            <td>101</td>\n",
       "            <td>None</td>\n",
       "            <td>IC   </td>\n",
       "            <td>700    HYPERION                     AV  </td>\n",
       "            <td>None</td>\n",
       "            <td>34.0847</td>\n",
       "            <td>-118.2845</td>\n",
       "            <td>57</td>\n",
       "            <td>97953</td>\n",
       "        </tr>\n",
       "    </tbody>\n",
       "</table>"
      ],
      "text/plain": [
       "[(200210187, datetime.datetime(2020, 5, 14, 0, 0), datetime.datetime(2020, 5, 14, 0, 0), 1745, '2    ', 251, 420, None, None, None, 101, None, 'IC   ', '500 S  CORONADO                     ST  ', None, '34.0628', '-118.2811', 29, 102310),\n",
       " (200212451, datetime.datetime(2020, 7, 11, 0, 0), datetime.datetime(2020, 7, 11, 0, 0), 1930, '2    ', 256, 510, None, None, None, 108, None, 'IC   ', '1700 W  6TH                          ST ', None, '34.0573', '-118.2699', 57, 102413),\n",
       " (200214424, datetime.datetime(2020, 8, 31, 0, 0), datetime.datetime(2020, 8, 30, 0, 0), 1900, '2    ', 246, 510, None, None, None, 101, None, 'IC   ', '600 S  WESTLAKE                     AV  ', None, '34.0598', '-118.2734', 57, 101624),\n",
       " (200214484, datetime.datetime(2020, 9, 2, 0, 0), datetime.datetime(2020, 9, 1, 0, 0), 2000, '2    ', 279, 510, None, None, None, 101, None, 'IC   ', '1400 W  10TH                         PL ', None, '34.0474', '-118.2714', 57, 103927),\n",
       " (200215184, datetime.datetime(2020, 9, 18, 0, 0), datetime.datetime(2020, 9, 18, 0, 0), 1955, '2    ', 204, 510, None, None, None, 101, None, 'IC   ', '700    HYPERION                     AV  ', None, '34.0847', '-118.2845', 57, 97953)]"
      ]
     },
     "execution_count": 43,
     "metadata": {},
     "output_type": "execute_result"
    }
   ],
   "source": [
    "%%sql \n",
    "Select * FROM Fact_Table Limit 5;"
   ]
  },
  {
   "cell_type": "code",
   "execution_count": null,
   "id": "a2043016-d7a2-4417-a9f5-7898212b78dd",
   "metadata": {},
   "outputs": [],
   "source": []
  },
  {
   "cell_type": "markdown",
   "id": "d1201018-fabc-4cda-8639-ea70c2627e43",
   "metadata": {
    "id": "d1201018-fabc-4cda-8639-ea70c2627e43"
   },
   "source": [
    "##### Creating and Loading Data for Victim Dimention as Victim_Table"
   ]
  },
  {
   "cell_type": "code",
   "execution_count": 44,
   "id": "0a1be84c-2b46-4d62-8ca4-5ee9f8a81395",
   "metadata": {
    "id": "0a1be84c-2b46-4d62-8ca4-5ee9f8a81395",
    "outputId": "9d495cfb-a14d-45a9-e083-58e2cfa5355c"
   },
   "outputs": [
    {
     "name": "stdout",
     "output_type": "stream",
     "text": [
      " * postgresql://student@/group15final\n",
      "Done.\n",
      "Done.\n"
     ]
    },
    {
     "data": {
      "text/plain": [
       "[]"
      ]
     },
     "execution_count": 44,
     "metadata": {},
     "output_type": "execute_result"
    }
   ],
   "source": [
    "%%sql\n",
    "DROP TABLE IF EXISTS Victim_Table;\n",
    "\n",
    "CREATE TABLE Victim_Table (\n",
    "    Victim_Key SERIAL PRIMARY KEY,\n",
    "    Vict_Sex CHAR,\n",
    "    Vict_Descent CHAR,\n",
    "    Vict_Age INTEGER\n",
    ");"
   ]
  },
  {
   "cell_type": "code",
   "execution_count": 45,
   "id": "28962b6a-ce28-44c6-8bc8-03456d81a1d7",
   "metadata": {
    "id": "28962b6a-ce28-44c6-8bc8-03456d81a1d7",
    "outputId": "ea60e3e0-aff3-4d0b-982f-b7f60629fbff"
   },
   "outputs": [
    {
     "name": "stdout",
     "output_type": "stream",
     "text": [
      " * postgresql://student@/group15final\n",
      "2785 rows affected.\n"
     ]
    },
    {
     "data": {
      "text/plain": [
       "[]"
      ]
     },
     "execution_count": 45,
     "metadata": {},
     "output_type": "execute_result"
    }
   ],
   "source": [
    "%%sql\n",
    "INSERT INTO Victim_Table (Vict_Sex, Vict_Descent, Vict_Age)\n",
    "SELECT DISTINCT Vict_Sex, Vict_Descent, Vict_Age\n",
    "FROM Crime_Data;"
   ]
  },
  {
   "cell_type": "code",
   "execution_count": 46,
   "id": "69db49bd-8829-4b2c-9e5c-feaf530c03b0",
   "metadata": {},
   "outputs": [
    {
     "name": "stdout",
     "output_type": "stream",
     "text": [
      " * postgresql://student@/group15final\n",
      "5 rows affected.\n"
     ]
    },
    {
     "data": {
      "text/html": [
       "<table>\n",
       "    <thead>\n",
       "        <tr>\n",
       "            <th>victim_key</th>\n",
       "            <th>vict_sex</th>\n",
       "            <th>vict_descent</th>\n",
       "            <th>vict_age</th>\n",
       "        </tr>\n",
       "    </thead>\n",
       "    <tbody>\n",
       "        <tr>\n",
       "            <td>1</td>\n",
       "            <td>-</td>\n",
       "            <td>-</td>\n",
       "            <td>None</td>\n",
       "        </tr>\n",
       "        <tr>\n",
       "            <td>2</td>\n",
       "            <td>F</td>\n",
       "            <td>A</td>\n",
       "            <td>2</td>\n",
       "        </tr>\n",
       "        <tr>\n",
       "            <td>3</td>\n",
       "            <td>F</td>\n",
       "            <td>A</td>\n",
       "            <td>3</td>\n",
       "        </tr>\n",
       "        <tr>\n",
       "            <td>4</td>\n",
       "            <td>F</td>\n",
       "            <td>A</td>\n",
       "            <td>4</td>\n",
       "        </tr>\n",
       "        <tr>\n",
       "            <td>5</td>\n",
       "            <td>F</td>\n",
       "            <td>A</td>\n",
       "            <td>5</td>\n",
       "        </tr>\n",
       "    </tbody>\n",
       "</table>"
      ],
      "text/plain": [
       "[(1, '-', '-', None),\n",
       " (2, 'F', 'A', 2),\n",
       " (3, 'F', 'A', 3),\n",
       " (4, 'F', 'A', 4),\n",
       " (5, 'F', 'A', 5)]"
      ]
     },
     "execution_count": 46,
     "metadata": {},
     "output_type": "execute_result"
    }
   ],
   "source": [
    "%%sql\n",
    "SELECT * FROM VICTIM_TABLE LIMIT 5;"
   ]
  },
  {
   "cell_type": "code",
   "execution_count": 47,
   "id": "bfb6ab15-185d-45dc-924b-5dd2d32c32cf",
   "metadata": {
    "id": "bfb6ab15-185d-45dc-924b-5dd2d32c32cf",
    "outputId": "23b984b6-6fde-44e7-c8fb-5ddeb8583c22"
   },
   "outputs": [
    {
     "name": "stdout",
     "output_type": "stream",
     "text": [
      " * postgresql://student@/group15final\n",
      "Done.\n",
      "Done.\n",
      "Done.\n"
     ]
    },
    {
     "data": {
      "text/plain": [
       "[]"
      ]
     },
     "execution_count": 47,
     "metadata": {},
     "output_type": "execute_result"
    }
   ],
   "source": [
    "%%sql\n",
    "ALTER TABLE FACT_TABLE\n",
    "DROP COLUMN IF EXISTS Victim_Key;\n",
    "\n",
    "ALTER TABLE FACT_TABLE\n",
    "ADD COLUMN Victim_Key INTEGER;\n",
    "\n",
    "ALTER TABLE FACT_TABLE\n",
    "ADD CONSTRAINT fk_VICTIM_TABLE\n",
    "    FOREIGN KEY (Victim_Key)\n",
    "    REFERENCES VICTIM_Table(VICTIM_KEY);\n"
   ]
  },
  {
   "cell_type": "code",
   "execution_count": 48,
   "id": "792ede5e-0013-422d-9910-3fd077d06ce4",
   "metadata": {
    "id": "792ede5e-0013-422d-9910-3fd077d06ce4",
    "outputId": "663ed029-d8a8-491b-a6de-d720bde15c26"
   },
   "outputs": [
    {
     "name": "stdout",
     "output_type": "stream",
     "text": [
      " * postgresql://student@/group15final\n",
      "634405 rows affected.\n"
     ]
    },
    {
     "data": {
      "text/plain": [
       "[]"
      ]
     },
     "execution_count": 48,
     "metadata": {},
     "output_type": "execute_result"
    }
   ],
   "source": [
    "%%sql\n",
    "UPDATE FACT_TABLE AS F\n",
    "SET Victim_Key = V.Victim_Key\n",
    "FROM Victim_Table AS V\n",
    "WHERE F.VICT_AGE = V.VICT_AGE AND\n",
    "      F.VICT_SEX = V.VICT_SEX AND\n",
    "      F.VICT_DESCENT = V.VICT_DESCENT;"
   ]
  },
  {
   "cell_type": "markdown",
   "id": "15a40f46-a64c-4237-a8bb-b7fc3a85164b",
   "metadata": {
    "id": "15a40f46-a64c-4237-a8bb-b7fc3a85164b"
   },
   "source": [
    "##### Creating and Loading Data for the Premis Dimention as Premis_Table"
   ]
  },
  {
   "cell_type": "code",
   "execution_count": 50,
   "id": "ab65711d-e4d0-47ab-bd37-f6d02e405247",
   "metadata": {
    "id": "ab65711d-e4d0-47ab-bd37-f6d02e405247",
    "outputId": "71e84a79-8c9a-472e-8093-2fafba5bd613"
   },
   "outputs": [
    {
     "name": "stdout",
     "output_type": "stream",
     "text": [
      " * postgresql://student@/group15final\n",
      "Done.\n",
      "Done.\n"
     ]
    },
    {
     "data": {
      "text/plain": [
       "[]"
      ]
     },
     "execution_count": 50,
     "metadata": {},
     "output_type": "execute_result"
    }
   ],
   "source": [
    "%%sql\n",
    "DROP TABLE IF EXISTS Premis_Table;\n",
    "\n",
    "CREATE TABLE Premis_Table (\n",
    "    Premis_Key SERIAL PRIMARY KEY,\n",
    "    Premis_Cd INTEGER,\n",
    "    Premis_Desc CHAR(64)\n",
    ");"
   ]
  },
  {
   "cell_type": "code",
   "execution_count": 51,
   "id": "095546c6-d1b6-48e9-bdba-4d4f7d665737",
   "metadata": {
    "id": "095546c6-d1b6-48e9-bdba-4d4f7d665737",
    "outputId": "9dde421a-6b5d-43ff-f633-77f8e1108567"
   },
   "outputs": [
    {
     "name": "stdout",
     "output_type": "stream",
     "text": [
      " * postgresql://student@/group15final\n",
      "313 rows affected.\n"
     ]
    },
    {
     "data": {
      "text/plain": [
       "[]"
      ]
     },
     "execution_count": 51,
     "metadata": {},
     "output_type": "execute_result"
    }
   ],
   "source": [
    "%%sql\n",
    "INSERT INTO Premis_Table (Premis_Cd, Premis_Desc)\n",
    "SELECT DISTINCT Premis_Cd, Premis_Desc\n",
    "FROM Crime_Data\n",
    "WHERE Premis_Cd IS NOT NULL;"
   ]
  },
  {
   "cell_type": "code",
   "execution_count": 52,
   "id": "cfda1076-984a-4cca-8ad6-1c7c746fa683",
   "metadata": {
    "id": "cfda1076-984a-4cca-8ad6-1c7c746fa683",
    "outputId": "c9c76702-8e3c-4e1a-c5c7-2bc2b0225043"
   },
   "outputs": [
    {
     "name": "stdout",
     "output_type": "stream",
     "text": [
      " * postgresql://student@/group15final\n",
      "5 rows affected.\n"
     ]
    },
    {
     "data": {
      "text/html": [
       "<table>\n",
       "    <thead>\n",
       "        <tr>\n",
       "            <th>premis_key</th>\n",
       "            <th>premis_cd</th>\n",
       "            <th>premis_desc</th>\n",
       "        </tr>\n",
       "    </thead>\n",
       "    <tbody>\n",
       "        <tr>\n",
       "            <td>1</td>\n",
       "            <td>101</td>\n",
       "            <td>STREET                                                          </td>\n",
       "        </tr>\n",
       "        <tr>\n",
       "            <td>2</td>\n",
       "            <td>102</td>\n",
       "            <td>SIDEWALK                                                        </td>\n",
       "        </tr>\n",
       "        <tr>\n",
       "            <td>3</td>\n",
       "            <td>103</td>\n",
       "            <td>ALLEY                                                           </td>\n",
       "        </tr>\n",
       "        <tr>\n",
       "            <td>4</td>\n",
       "            <td>104</td>\n",
       "            <td>DRIVEWAY                                                        </td>\n",
       "        </tr>\n",
       "        <tr>\n",
       "            <td>5</td>\n",
       "            <td>105</td>\n",
       "            <td>PEDESTRIAN OVERCROSSING                                         </td>\n",
       "        </tr>\n",
       "    </tbody>\n",
       "</table>"
      ],
      "text/plain": [
       "[(1, 101, 'STREET                                                          '),\n",
       " (2, 102, 'SIDEWALK                                                        '),\n",
       " (3, 103, 'ALLEY                                                           '),\n",
       " (4, 104, 'DRIVEWAY                                                        '),\n",
       " (5, 105, 'PEDESTRIAN OVERCROSSING                                         ')]"
      ]
     },
     "execution_count": 52,
     "metadata": {},
     "output_type": "execute_result"
    }
   ],
   "source": [
    "%%sql\n",
    "SELECT * FROM Premis_Table LIMIT 5;"
   ]
  },
  {
   "cell_type": "code",
   "execution_count": 53,
   "id": "da3d5623-dc4c-4577-a08a-7b18d90ed4df",
   "metadata": {},
   "outputs": [
    {
     "name": "stdout",
     "output_type": "stream",
     "text": [
      " * postgresql://student@/group15final\n",
      "Done.\n",
      "Done.\n",
      "Done.\n"
     ]
    },
    {
     "data": {
      "text/plain": [
       "[]"
      ]
     },
     "execution_count": 53,
     "metadata": {},
     "output_type": "execute_result"
    }
   ],
   "source": [
    "%%sql\n",
    "ALTER TABLE FACT_TABLE\n",
    "DROP COLUMN IF EXISTS Premis_Key;\n",
    "\n",
    "ALTER TABLE FACT_TABLE\n",
    "ADD COLUMN Premis_Key INTEGER;\n",
    "\n",
    "ALTER TABLE FACT_TABLE\n",
    "ADD CONSTRAINT fk_Premis_Table\n",
    "    FOREIGN KEY (Premis_Key)\n",
    "    REFERENCES Premis_Table(Premis_Key);\n"
   ]
  },
  {
   "cell_type": "code",
   "execution_count": 54,
   "id": "3bd1b2d8-8dc2-48fc-b301-2fd2fd57937a",
   "metadata": {},
   "outputs": [
    {
     "name": "stdout",
     "output_type": "stream",
     "text": [
      " * postgresql://student@/group15final\n",
      "843504 rows affected.\n"
     ]
    },
    {
     "data": {
      "text/plain": [
       "[]"
      ]
     },
     "execution_count": 54,
     "metadata": {},
     "output_type": "execute_result"
    }
   ],
   "source": [
    "%%sql\n",
    "UPDATE FACT_TABLE AS F\n",
    "SET Premis_Key = P.Premis_Key\n",
    "FROM Premis_Table AS P\n",
    "WHERE F.Premis_Cd = P.Premis_Cd;"
   ]
  },
  {
   "cell_type": "code",
   "execution_count": 55,
   "id": "e5751f99-9f5c-4eff-a975-ad8deeebc63b",
   "metadata": {},
   "outputs": [
    {
     "name": "stdout",
     "output_type": "stream",
     "text": [
      " * postgresql://student@/group15final\n",
      "5 rows affected.\n"
     ]
    },
    {
     "data": {
      "text/html": [
       "<table>\n",
       "    <thead>\n",
       "        <tr>\n",
       "            <th>dr_no</th>\n",
       "            <th>date_rptd</th>\n",
       "            <th>date_occ</th>\n",
       "            <th>time_occ</th>\n",
       "            <th>area</th>\n",
       "            <th>rpt_dist_no</th>\n",
       "            <th>crm_cd</th>\n",
       "            <th>vict_age</th>\n",
       "            <th>vict_sex</th>\n",
       "            <th>vict_descent</th>\n",
       "            <th>premis_cd</th>\n",
       "            <th>weapon_used_cd</th>\n",
       "            <th>status</th>\n",
       "            <th>location</th>\n",
       "            <th>cross_street</th>\n",
       "            <th>lat</th>\n",
       "            <th>lon</th>\n",
       "            <th>crime_key</th>\n",
       "            <th>location_key</th>\n",
       "            <th>victim_key</th>\n",
       "            <th>premis_key</th>\n",
       "        </tr>\n",
       "    </thead>\n",
       "    <tbody>\n",
       "        <tr>\n",
       "            <td>200215184</td>\n",
       "            <td>2020-09-18 00:00:00</td>\n",
       "            <td>2020-09-18 00:00:00</td>\n",
       "            <td>1955</td>\n",
       "            <td>2    </td>\n",
       "            <td>204</td>\n",
       "            <td>510</td>\n",
       "            <td>None</td>\n",
       "            <td>None</td>\n",
       "            <td>None</td>\n",
       "            <td>101</td>\n",
       "            <td>None</td>\n",
       "            <td>IC   </td>\n",
       "            <td>700    HYPERION                     AV  </td>\n",
       "            <td>None</td>\n",
       "            <td>34.0847</td>\n",
       "            <td>-118.2845</td>\n",
       "            <td>57</td>\n",
       "            <td>97953</td>\n",
       "            <td>None</td>\n",
       "            <td>1</td>\n",
       "        </tr>\n",
       "        <tr>\n",
       "            <td>200216270</td>\n",
       "            <td>2020-10-17 00:00:00</td>\n",
       "            <td>2020-10-10 00:00:00</td>\n",
       "            <td>2000</td>\n",
       "            <td>2    </td>\n",
       "            <td>289</td>\n",
       "            <td>510</td>\n",
       "            <td>None</td>\n",
       "            <td>None</td>\n",
       "            <td>None</td>\n",
       "            <td>101</td>\n",
       "            <td>None</td>\n",
       "            <td>IC   </td>\n",
       "            <td>1200 S  ALBANY                       ST </td>\n",
       "            <td>None</td>\n",
       "            <td>34.0441</td>\n",
       "            <td>-118.2735</td>\n",
       "            <td>57</td>\n",
       "            <td>104259</td>\n",
       "            <td>None</td>\n",
       "            <td>1</td>\n",
       "        </tr>\n",
       "        <tr>\n",
       "            <td>200309179</td>\n",
       "            <td>2020-03-29 00:00:00</td>\n",
       "            <td>2020-03-28 00:00:00</td>\n",
       "            <td>1800</td>\n",
       "            <td>3    </td>\n",
       "            <td>361</td>\n",
       "            <td>510</td>\n",
       "            <td>None</td>\n",
       "            <td>None</td>\n",
       "            <td>None</td>\n",
       "            <td>101</td>\n",
       "            <td>None</td>\n",
       "            <td>IC   </td>\n",
       "            <td>4000    URSULA                       AV </td>\n",
       "            <td>None</td>\n",
       "            <td>34.0149</td>\n",
       "            <td>-118.3524</td>\n",
       "            <td>57</td>\n",
       "            <td>125365</td>\n",
       "            <td>None</td>\n",
       "            <td>1</td>\n",
       "        </tr>\n",
       "        <tr>\n",
       "            <td>200310515</td>\n",
       "            <td>2020-04-27 00:00:00</td>\n",
       "            <td>2020-04-27 00:00:00</td>\n",
       "            <td>1500</td>\n",
       "            <td>3    </td>\n",
       "            <td>362</td>\n",
       "            <td>420</td>\n",
       "            <td>None</td>\n",
       "            <td>None</td>\n",
       "            <td>None</td>\n",
       "            <td>101</td>\n",
       "            <td>None</td>\n",
       "            <td>IC   </td>\n",
       "            <td>4000    COCO                         AV </td>\n",
       "            <td>None</td>\n",
       "            <td>34.0141</td>\n",
       "            <td>-118.3501</td>\n",
       "            <td>29</td>\n",
       "            <td>125518</td>\n",
       "            <td>None</td>\n",
       "            <td>1</td>\n",
       "        </tr>\n",
       "        <tr>\n",
       "            <td>200311426</td>\n",
       "            <td>2020-05-17 00:00:00</td>\n",
       "            <td>2020-05-16 00:00:00</td>\n",
       "            <td>2330</td>\n",
       "            <td>3    </td>\n",
       "            <td>373</td>\n",
       "            <td>510</td>\n",
       "            <td>None</td>\n",
       "            <td>None</td>\n",
       "            <td>None</td>\n",
       "            <td>104</td>\n",
       "            <td>None</td>\n",
       "            <td>IC   </td>\n",
       "            <td>3900    HUBERT                       AV </td>\n",
       "            <td>None</td>\n",
       "            <td>34.0142</td>\n",
       "            <td>-118.3281</td>\n",
       "            <td>57</td>\n",
       "            <td>126137</td>\n",
       "            <td>None</td>\n",
       "            <td>4</td>\n",
       "        </tr>\n",
       "    </tbody>\n",
       "</table>"
      ],
      "text/plain": [
       "[(200215184, datetime.datetime(2020, 9, 18, 0, 0), datetime.datetime(2020, 9, 18, 0, 0), 1955, '2    ', 204, 510, None, None, None, 101, None, 'IC   ', '700    HYPERION                     AV  ', None, '34.0847', '-118.2845', 57, 97953, None, 1),\n",
       " (200216270, datetime.datetime(2020, 10, 17, 0, 0), datetime.datetime(2020, 10, 10, 0, 0), 2000, '2    ', 289, 510, None, None, None, 101, None, 'IC   ', '1200 S  ALBANY                       ST ', None, '34.0441', '-118.2735', 57, 104259, None, 1),\n",
       " (200309179, datetime.datetime(2020, 3, 29, 0, 0), datetime.datetime(2020, 3, 28, 0, 0), 1800, '3    ', 361, 510, None, None, None, 101, None, 'IC   ', '4000    URSULA                       AV ', None, '34.0149', '-118.3524', 57, 125365, None, 1),\n",
       " (200310515, datetime.datetime(2020, 4, 27, 0, 0), datetime.datetime(2020, 4, 27, 0, 0), 1500, '3    ', 362, 420, None, None, None, 101, None, 'IC   ', '4000    COCO                         AV ', None, '34.0141', '-118.3501', 29, 125518, None, 1),\n",
       " (200311426, datetime.datetime(2020, 5, 17, 0, 0), datetime.datetime(2020, 5, 16, 0, 0), 2330, '3    ', 373, 510, None, None, None, 104, None, 'IC   ', '3900    HUBERT                       AV ', None, '34.0142', '-118.3281', 57, 126137, None, 4)]"
      ]
     },
     "execution_count": 55,
     "metadata": {},
     "output_type": "execute_result"
    }
   ],
   "source": [
    "%%sql\n",
    "SELECT * FROM FACT_TABLE LIMIT 5;"
   ]
  },
  {
   "cell_type": "code",
   "execution_count": 56,
   "id": "4a4929d5-b643-4538-b3f3-0c672e6cfaeb",
   "metadata": {},
   "outputs": [
    {
     "name": "stdout",
     "output_type": "stream",
     "text": [
      " * postgresql://student@/group15final\n",
      "1 rows affected.\n"
     ]
    },
    {
     "data": {
      "text/html": [
       "<table>\n",
       "    <thead>\n",
       "        <tr>\n",
       "            <th>count</th>\n",
       "        </tr>\n",
       "    </thead>\n",
       "    <tbody>\n",
       "        <tr>\n",
       "            <td>10</td>\n",
       "        </tr>\n",
       "    </tbody>\n",
       "</table>"
      ],
      "text/plain": [
       "[(10,)]"
      ]
     },
     "execution_count": 56,
     "metadata": {},
     "output_type": "execute_result"
    }
   ],
   "source": [
    "%%sql\n",
    "SELECT COUNT(*) FROM FACT_TABLE \n",
    "WHERE PREMIS_KEY IS NULL LIMIT 15;"
   ]
  },
  {
   "cell_type": "markdown",
   "id": "88113e33-47a9-4d2c-b808-f5194e8c55c6",
   "metadata": {
    "id": "88113e33-47a9-4d2c-b808-f5194e8c55c6"
   },
   "source": [
    "##### Creating a new Dimention Table for Weapons as Weapon_Table"
   ]
  },
  {
   "cell_type": "code",
   "execution_count": 57,
   "id": "5bd58fdf-684b-4717-95d3-9290c2e307a5",
   "metadata": {
    "id": "5bd58fdf-684b-4717-95d3-9290c2e307a5",
    "outputId": "91650292-e632-47a2-b875-a0bb61c4a8d3",
    "tags": []
   },
   "outputs": [
    {
     "name": "stdout",
     "output_type": "stream",
     "text": [
      " * postgresql://student@/group15final\n",
      "Done.\n",
      "Done.\n"
     ]
    },
    {
     "data": {
      "text/plain": [
       "[]"
      ]
     },
     "execution_count": 57,
     "metadata": {},
     "output_type": "execute_result"
    }
   ],
   "source": [
    "%%sql\n",
    "DROP TABLE IF EXISTS Weapon_Table;\n",
    "\n",
    "CREATE TABLE Weapon_Table (\n",
    "    WEAPON_KEY SERIAL PRIMARY KEY,\n",
    "    WEAPON_USED_CD INTEGER,\n",
    "    WEAPON_USED_DESC VARCHAR(50)\n",
    ")"
   ]
  },
  {
   "cell_type": "code",
   "execution_count": 58,
   "id": "3d34455b-116e-49de-a7ca-4836d04260f9",
   "metadata": {
    "id": "3d34455b-116e-49de-a7ca-4836d04260f9",
    "outputId": "085eee76-2e16-4ac1-edd4-dba265d7e304"
   },
   "outputs": [
    {
     "name": "stdout",
     "output_type": "stream",
     "text": [
      " * postgresql://student@/group15final\n",
      "80 rows affected.\n"
     ]
    },
    {
     "data": {
      "text/plain": [
       "[]"
      ]
     },
     "execution_count": 58,
     "metadata": {},
     "output_type": "execute_result"
    }
   ],
   "source": [
    "%%sql\n",
    "INSERT INTO Weapon_Table (WEAPON_USED_CD, WEAPON_USED_DESC)\n",
    "SELECT DISTINCT WEAPON_USED_CD, WEAPON_DESC\n",
    "FROM Crime_Data;"
   ]
  },
  {
   "cell_type": "code",
   "execution_count": 59,
   "id": "3bc9675b-ca28-47d0-849e-6c109c1b0223",
   "metadata": {
    "id": "3bc9675b-ca28-47d0-849e-6c109c1b0223",
    "outputId": "71458acc-71c7-4a70-eb63-2b73a00b106b"
   },
   "outputs": [
    {
     "name": "stdout",
     "output_type": "stream",
     "text": [
      " * postgresql://student@/group15final\n",
      "25 rows affected.\n"
     ]
    },
    {
     "data": {
      "text/html": [
       "<table>\n",
       "    <thead>\n",
       "        <tr>\n",
       "            <th>weapon_key</th>\n",
       "            <th>weapon_used_cd</th>\n",
       "            <th>weapon_used_desc</th>\n",
       "        </tr>\n",
       "    </thead>\n",
       "    <tbody>\n",
       "        <tr>\n",
       "            <td>1</td>\n",
       "            <td>None</td>\n",
       "            <td>None</td>\n",
       "        </tr>\n",
       "        <tr>\n",
       "            <td>2</td>\n",
       "            <td>220</td>\n",
       "            <td>SYRINGE</td>\n",
       "        </tr>\n",
       "        <tr>\n",
       "            <td>3</td>\n",
       "            <td>112</td>\n",
       "            <td>TOY GUN</td>\n",
       "        </tr>\n",
       "        <tr>\n",
       "            <td>4</td>\n",
       "            <td>507</td>\n",
       "            <td>LIQUOR/DRUGS</td>\n",
       "        </tr>\n",
       "        <tr>\n",
       "            <td>5</td>\n",
       "            <td>208</td>\n",
       "            <td>RAZOR</td>\n",
       "        </tr>\n",
       "        <tr>\n",
       "            <td>6</td>\n",
       "            <td>121</td>\n",
       "            <td>HECKLER &amp; KOCH 91 SEMIAUTOMATIC ASSAULT RIFLE</td>\n",
       "        </tr>\n",
       "        <tr>\n",
       "            <td>7</td>\n",
       "            <td>503</td>\n",
       "            <td>CAUSTIC CHEMICAL/POISON</td>\n",
       "        </tr>\n",
       "        <tr>\n",
       "            <td>8</td>\n",
       "            <td>216</td>\n",
       "            <td>SCISSORS</td>\n",
       "        </tr>\n",
       "        <tr>\n",
       "            <td>9</td>\n",
       "            <td>202</td>\n",
       "            <td>BOWIE KNIFE</td>\n",
       "        </tr>\n",
       "        <tr>\n",
       "            <td>10</td>\n",
       "            <td>508</td>\n",
       "            <td>MARTIAL ARTS WEAPONS</td>\n",
       "        </tr>\n",
       "        <tr>\n",
       "            <td>11</td>\n",
       "            <td>309</td>\n",
       "            <td>BOARD</td>\n",
       "        </tr>\n",
       "        <tr>\n",
       "            <td>12</td>\n",
       "            <td>123</td>\n",
       "            <td>M1-1 SEMIAUTOMATIC ASSAULT RIFLE</td>\n",
       "        </tr>\n",
       "        <tr>\n",
       "            <td>13</td>\n",
       "            <td>212</td>\n",
       "            <td>BOTTLE</td>\n",
       "        </tr>\n",
       "        <tr>\n",
       "            <td>14</td>\n",
       "            <td>302</td>\n",
       "            <td>BLUNT INSTRUMENT</td>\n",
       "        </tr>\n",
       "        <tr>\n",
       "            <td>15</td>\n",
       "            <td>107</td>\n",
       "            <td>OTHER FIREARM</td>\n",
       "        </tr>\n",
       "        <tr>\n",
       "            <td>16</td>\n",
       "            <td>108</td>\n",
       "            <td>AUTOMATIC WEAPON/SUB-MACHINE GUN</td>\n",
       "        </tr>\n",
       "        <tr>\n",
       "            <td>17</td>\n",
       "            <td>514</td>\n",
       "            <td>TIRE IRON</td>\n",
       "        </tr>\n",
       "        <tr>\n",
       "            <td>18</td>\n",
       "            <td>502</td>\n",
       "            <td>BOW AND ARROW</td>\n",
       "        </tr>\n",
       "        <tr>\n",
       "            <td>19</td>\n",
       "            <td>125</td>\n",
       "            <td>RELIC FIREARM</td>\n",
       "        </tr>\n",
       "        <tr>\n",
       "            <td>20</td>\n",
       "            <td>500</td>\n",
       "            <td>UNKNOWN WEAPON/OTHER WEAPON</td>\n",
       "        </tr>\n",
       "        <tr>\n",
       "            <td>21</td>\n",
       "            <td>204</td>\n",
       "            <td>FOLDING KNIFE</td>\n",
       "        </tr>\n",
       "        <tr>\n",
       "            <td>22</td>\n",
       "            <td>101</td>\n",
       "            <td>REVOLVER</td>\n",
       "        </tr>\n",
       "        <tr>\n",
       "            <td>23</td>\n",
       "            <td>118</td>\n",
       "            <td>UZI SEMIAUTOMATIC ASSAULT RIFLE</td>\n",
       "        </tr>\n",
       "        <tr>\n",
       "            <td>24</td>\n",
       "            <td>215</td>\n",
       "            <td>MACHETE</td>\n",
       "        </tr>\n",
       "        <tr>\n",
       "            <td>25</td>\n",
       "            <td>111</td>\n",
       "            <td>STARTER PISTOL/REVOLVER</td>\n",
       "        </tr>\n",
       "    </tbody>\n",
       "</table>"
      ],
      "text/plain": [
       "[(1, None, None),\n",
       " (2, 220, 'SYRINGE'),\n",
       " (3, 112, 'TOY GUN'),\n",
       " (4, 507, 'LIQUOR/DRUGS'),\n",
       " (5, 208, 'RAZOR'),\n",
       " (6, 121, 'HECKLER & KOCH 91 SEMIAUTOMATIC ASSAULT RIFLE'),\n",
       " (7, 503, 'CAUSTIC CHEMICAL/POISON'),\n",
       " (8, 216, 'SCISSORS'),\n",
       " (9, 202, 'BOWIE KNIFE'),\n",
       " (10, 508, 'MARTIAL ARTS WEAPONS'),\n",
       " (11, 309, 'BOARD'),\n",
       " (12, 123, 'M1-1 SEMIAUTOMATIC ASSAULT RIFLE'),\n",
       " (13, 212, 'BOTTLE'),\n",
       " (14, 302, 'BLUNT INSTRUMENT'),\n",
       " (15, 107, 'OTHER FIREARM'),\n",
       " (16, 108, 'AUTOMATIC WEAPON/SUB-MACHINE GUN'),\n",
       " (17, 514, 'TIRE IRON'),\n",
       " (18, 502, 'BOW AND ARROW'),\n",
       " (19, 125, 'RELIC FIREARM'),\n",
       " (20, 500, 'UNKNOWN WEAPON/OTHER WEAPON'),\n",
       " (21, 204, 'FOLDING KNIFE'),\n",
       " (22, 101, 'REVOLVER'),\n",
       " (23, 118, 'UZI SEMIAUTOMATIC ASSAULT RIFLE'),\n",
       " (24, 215, 'MACHETE'),\n",
       " (25, 111, 'STARTER PISTOL/REVOLVER')]"
      ]
     },
     "execution_count": 59,
     "metadata": {},
     "output_type": "execute_result"
    }
   ],
   "source": [
    "%%sql\n",
    "SELECT * FROM WEAPON_TABLE\n",
    "LIMIT 25;"
   ]
  },
  {
   "cell_type": "code",
   "execution_count": 60,
   "id": "d56244b3-b1cf-4a72-9684-c8c98ad1a32d",
   "metadata": {},
   "outputs": [
    {
     "name": "stdout",
     "output_type": "stream",
     "text": [
      " * postgresql://student@/group15final\n",
      "Done.\n",
      "Done.\n",
      "Done.\n"
     ]
    },
    {
     "data": {
      "text/plain": [
       "[]"
      ]
     },
     "execution_count": 60,
     "metadata": {},
     "output_type": "execute_result"
    }
   ],
   "source": [
    "%%sql\n",
    "ALTER TABLE FACT_TABLE\n",
    "DROP COLUMN IF EXISTS Weapon_Key;\n",
    "\n",
    "ALTER TABLE FACT_TABLE\n",
    "ADD COLUMN Weapon_Key INTEGER;\n",
    "\n",
    "ALTER TABLE FACT_TABLE\n",
    "ADD CONSTRAINT fk_Weapon_Table\n",
    "    FOREIGN KEY (Weapon_Key)\n",
    "    REFERENCES Weapon_Table(Weapon_Key);"
   ]
  },
  {
   "cell_type": "code",
   "execution_count": 61,
   "id": "bbe66934-b29c-434e-be91-cfab17190164",
   "metadata": {},
   "outputs": [
    {
     "name": "stdout",
     "output_type": "stream",
     "text": [
      " * postgresql://student@/group15final\n",
      "293900 rows affected.\n"
     ]
    },
    {
     "data": {
      "text/plain": [
       "[]"
      ]
     },
     "execution_count": 61,
     "metadata": {},
     "output_type": "execute_result"
    }
   ],
   "source": [
    "%%sql\n",
    "UPDATE FACT_TABLE AS F\n",
    "SET Weapon_Key = W.Weapon_Key\n",
    "FROM Weapon_Table AS W\n",
    "WHERE F.Weapon_Used_Cd = W.Weapon_Used_Cd;"
   ]
  },
  {
   "cell_type": "code",
   "execution_count": 62,
   "id": "954dd746-4443-40fe-8ca1-8683d3a3a1e2",
   "metadata": {},
   "outputs": [
    {
     "name": "stdout",
     "output_type": "stream",
     "text": [
      " * postgresql://student@/group15final\n",
      "5 rows affected.\n"
     ]
    },
    {
     "data": {
      "text/html": [
       "<table>\n",
       "    <thead>\n",
       "        <tr>\n",
       "            <th>dr_no</th>\n",
       "            <th>date_rptd</th>\n",
       "            <th>date_occ</th>\n",
       "            <th>time_occ</th>\n",
       "            <th>area</th>\n",
       "            <th>rpt_dist_no</th>\n",
       "            <th>crm_cd</th>\n",
       "            <th>vict_age</th>\n",
       "            <th>vict_sex</th>\n",
       "            <th>vict_descent</th>\n",
       "            <th>premis_cd</th>\n",
       "            <th>weapon_used_cd</th>\n",
       "            <th>status</th>\n",
       "            <th>location</th>\n",
       "            <th>cross_street</th>\n",
       "            <th>lat</th>\n",
       "            <th>lon</th>\n",
       "            <th>crime_key</th>\n",
       "            <th>location_key</th>\n",
       "            <th>victim_key</th>\n",
       "            <th>premis_key</th>\n",
       "            <th>weapon_key</th>\n",
       "        </tr>\n",
       "    </thead>\n",
       "    <tbody>\n",
       "        <tr>\n",
       "            <td>200310515</td>\n",
       "            <td>2020-04-27 00:00:00</td>\n",
       "            <td>2020-04-27 00:00:00</td>\n",
       "            <td>1500</td>\n",
       "            <td>3    </td>\n",
       "            <td>362</td>\n",
       "            <td>420</td>\n",
       "            <td>None</td>\n",
       "            <td>None</td>\n",
       "            <td>None</td>\n",
       "            <td>101</td>\n",
       "            <td>None</td>\n",
       "            <td>IC   </td>\n",
       "            <td>4000    COCO                         AV </td>\n",
       "            <td>None</td>\n",
       "            <td>34.0141</td>\n",
       "            <td>-118.3501</td>\n",
       "            <td>29</td>\n",
       "            <td>125518</td>\n",
       "            <td>None</td>\n",
       "            <td>1</td>\n",
       "            <td>None</td>\n",
       "        </tr>\n",
       "        <tr>\n",
       "            <td>200311426</td>\n",
       "            <td>2020-05-17 00:00:00</td>\n",
       "            <td>2020-05-16 00:00:00</td>\n",
       "            <td>2330</td>\n",
       "            <td>3    </td>\n",
       "            <td>373</td>\n",
       "            <td>510</td>\n",
       "            <td>None</td>\n",
       "            <td>None</td>\n",
       "            <td>None</td>\n",
       "            <td>104</td>\n",
       "            <td>None</td>\n",
       "            <td>IC   </td>\n",
       "            <td>3900    HUBERT                       AV </td>\n",
       "            <td>None</td>\n",
       "            <td>34.0142</td>\n",
       "            <td>-118.3281</td>\n",
       "            <td>57</td>\n",
       "            <td>126137</td>\n",
       "            <td>None</td>\n",
       "            <td>4</td>\n",
       "            <td>None</td>\n",
       "        </tr>\n",
       "        <tr>\n",
       "            <td>200312154</td>\n",
       "            <td>2020-06-01 00:00:00</td>\n",
       "            <td>2020-05-25 00:00:00</td>\n",
       "            <td>2200</td>\n",
       "            <td>3    </td>\n",
       "            <td>362</td>\n",
       "            <td>510</td>\n",
       "            <td>None</td>\n",
       "            <td>None</td>\n",
       "            <td>None</td>\n",
       "            <td>101</td>\n",
       "            <td>None</td>\n",
       "            <td>IC   </td>\n",
       "            <td>4600    COLISEUM                     ST </td>\n",
       "            <td>None</td>\n",
       "            <td>34.017</td>\n",
       "            <td>-118.3471</td>\n",
       "            <td>57</td>\n",
       "            <td>125554</td>\n",
       "            <td>None</td>\n",
       "            <td>1</td>\n",
       "            <td>None</td>\n",
       "        </tr>\n",
       "        <tr>\n",
       "            <td>200315311</td>\n",
       "            <td>2020-08-06 00:00:00</td>\n",
       "            <td>2020-08-04 00:00:00</td>\n",
       "            <td>2300</td>\n",
       "            <td>3    </td>\n",
       "            <td>356</td>\n",
       "            <td>510</td>\n",
       "            <td>None</td>\n",
       "            <td>None</td>\n",
       "            <td>None</td>\n",
       "            <td>101</td>\n",
       "            <td>None</td>\n",
       "            <td>AA   </td>\n",
       "            <td>1400 W  35TH                         ST </td>\n",
       "            <td>None</td>\n",
       "            <td>34.0246</td>\n",
       "            <td>-118.3007</td>\n",
       "            <td>57</td>\n",
       "            <td>124522</td>\n",
       "            <td>None</td>\n",
       "            <td>1</td>\n",
       "            <td>None</td>\n",
       "        </tr>\n",
       "        <tr>\n",
       "            <td>200315897</td>\n",
       "            <td>2020-08-17 00:00:00</td>\n",
       "            <td>2020-08-17 00:00:00</td>\n",
       "            <td>945</td>\n",
       "            <td>3    </td>\n",
       "            <td>326</td>\n",
       "            <td>745</td>\n",
       "            <td>54</td>\n",
       "            <td>F</td>\n",
       "            <td>B</td>\n",
       "            <td>502</td>\n",
       "            <td>None</td>\n",
       "            <td>IC   </td>\n",
       "            <td>2600 S  NORMANDIE                    AV </td>\n",
       "            <td>None</td>\n",
       "            <td>0</td>\n",
       "            <td>0</td>\n",
       "            <td>81</td>\n",
       "            <td>121766</td>\n",
       "            <td>151</td>\n",
       "            <td>132</td>\n",
       "            <td>None</td>\n",
       "        </tr>\n",
       "    </tbody>\n",
       "</table>"
      ],
      "text/plain": [
       "[(200310515, datetime.datetime(2020, 4, 27, 0, 0), datetime.datetime(2020, 4, 27, 0, 0), 1500, '3    ', 362, 420, None, None, None, 101, None, 'IC   ', '4000    COCO                         AV ', None, '34.0141', '-118.3501', 29, 125518, None, 1, None),\n",
       " (200311426, datetime.datetime(2020, 5, 17, 0, 0), datetime.datetime(2020, 5, 16, 0, 0), 2330, '3    ', 373, 510, None, None, None, 104, None, 'IC   ', '3900    HUBERT                       AV ', None, '34.0142', '-118.3281', 57, 126137, None, 4, None),\n",
       " (200312154, datetime.datetime(2020, 6, 1, 0, 0), datetime.datetime(2020, 5, 25, 0, 0), 2200, '3    ', 362, 510, None, None, None, 101, None, 'IC   ', '4600    COLISEUM                     ST ', None, '34.017', '-118.3471', 57, 125554, None, 1, None),\n",
       " (200315311, datetime.datetime(2020, 8, 6, 0, 0), datetime.datetime(2020, 8, 4, 0, 0), 2300, '3    ', 356, 510, None, None, None, 101, None, 'AA   ', '1400 W  35TH                         ST ', None, '34.0246', '-118.3007', 57, 124522, None, 1, None),\n",
       " (200315897, datetime.datetime(2020, 8, 17, 0, 0), datetime.datetime(2020, 8, 17, 0, 0), 945, '3    ', 326, 745, 54, 'F', 'B', 502, None, 'IC   ', '2600 S  NORMANDIE                    AV ', None, '0', '0', 81, 121766, 151, 132, None)]"
      ]
     },
     "execution_count": 62,
     "metadata": {},
     "output_type": "execute_result"
    }
   ],
   "source": [
    "%%sql\n",
    "SELECT * FROM FACT_TABLE LIMIT 5 ;"
   ]
  },
  {
   "cell_type": "code",
   "execution_count": null,
   "id": "68bae914-0f61-4ed0-8f13-0b1407f4f33c",
   "metadata": {},
   "outputs": [],
   "source": []
  },
  {
   "cell_type": "markdown",
   "id": "63718a08-2b43-4b81-a9bb-9645d5dce43f",
   "metadata": {
    "id": "63718a08-2b43-4b81-a9bb-9645d5dce43f"
   },
   "source": [
    "##### Creating a new Dimention Table for Status as Status_Table"
   ]
  },
  {
   "cell_type": "code",
   "execution_count": null,
   "id": "9d397597-d4e9-494d-b514-834bf0668d3c",
   "metadata": {},
   "outputs": [],
   "source": []
  },
  {
   "cell_type": "code",
   "execution_count": null,
   "id": "33623418-d402-4eca-919d-62d7cbf96ff3",
   "metadata": {},
   "outputs": [],
   "source": []
  },
  {
   "cell_type": "code",
   "execution_count": 63,
   "id": "eb619b70-a52c-4fab-a6be-a860ea20099b",
   "metadata": {
    "id": "eb619b70-a52c-4fab-a6be-a860ea20099b",
    "outputId": "1490afee-fa5c-486c-b182-61139ee466a9",
    "tags": []
   },
   "outputs": [
    {
     "name": "stdout",
     "output_type": "stream",
     "text": [
      " * postgresql://student@/group15final\n",
      "Done.\n",
      "Done.\n"
     ]
    },
    {
     "data": {
      "text/plain": [
       "[]"
      ]
     },
     "execution_count": 63,
     "metadata": {},
     "output_type": "execute_result"
    }
   ],
   "source": [
    "%%sql\n",
    "DROP TABLE IF EXISTS Status_Table;\n",
    "\n",
    "CREATE TABLE Status_Table (\n",
    "    STATUS_KEY SERIAL PRIMARY KEY,\n",
    "    Status VARCHAR(2),\n",
    "    Status_Desc VARCHAR(15)\n",
    ")"
   ]
  },
  {
   "cell_type": "code",
   "execution_count": 64,
   "id": "4226b3d0-8fd8-42ef-b7cb-64214b20f0d4",
   "metadata": {
    "id": "4226b3d0-8fd8-42ef-b7cb-64214b20f0d4",
    "outputId": "c92f16b1-645a-407f-cf66-0556ca199097"
   },
   "outputs": [
    {
     "name": "stdout",
     "output_type": "stream",
     "text": [
      " * postgresql://student@/group15final\n",
      "6 rows affected.\n"
     ]
    },
    {
     "data": {
      "text/plain": [
       "[]"
      ]
     },
     "execution_count": 64,
     "metadata": {},
     "output_type": "execute_result"
    }
   ],
   "source": [
    "%%sql\n",
    "INSERT INTO Status_Table (Status, Status_Desc)\n",
    "SELECT DISTINCT Status, Status_Desc\n",
    "FROM Crime_Data;"
   ]
  },
  {
   "cell_type": "code",
   "execution_count": 65,
   "id": "1489739b-c44a-4891-81fa-851761a8e37b",
   "metadata": {
    "id": "1489739b-c44a-4891-81fa-851761a8e37b",
    "outputId": "038e2370-7191-4e4a-d4cf-b16c3542cc54"
   },
   "outputs": [
    {
     "name": "stdout",
     "output_type": "stream",
     "text": [
      " * postgresql://student@/group15final\n",
      "6 rows affected.\n"
     ]
    },
    {
     "data": {
      "text/html": [
       "<table>\n",
       "    <thead>\n",
       "        <tr>\n",
       "            <th>status_key</th>\n",
       "            <th>status</th>\n",
       "            <th>status_desc</th>\n",
       "        </tr>\n",
       "    </thead>\n",
       "    <tbody>\n",
       "        <tr>\n",
       "            <td>1</td>\n",
       "            <td>JO</td>\n",
       "            <td>Juv Other</td>\n",
       "        </tr>\n",
       "        <tr>\n",
       "            <td>2</td>\n",
       "            <td>IC</td>\n",
       "            <td>Invest Cont</td>\n",
       "        </tr>\n",
       "        <tr>\n",
       "            <td>3</td>\n",
       "            <td>JA</td>\n",
       "            <td>Juv Arrest</td>\n",
       "        </tr>\n",
       "        <tr>\n",
       "            <td>4</td>\n",
       "            <td>CC</td>\n",
       "            <td>UNK</td>\n",
       "        </tr>\n",
       "        <tr>\n",
       "            <td>5</td>\n",
       "            <td>AA</td>\n",
       "            <td>Adult Arrest</td>\n",
       "        </tr>\n",
       "        <tr>\n",
       "            <td>6</td>\n",
       "            <td>AO</td>\n",
       "            <td>Adult Other</td>\n",
       "        </tr>\n",
       "    </tbody>\n",
       "</table>"
      ],
      "text/plain": [
       "[(1, 'JO', 'Juv Other'),\n",
       " (2, 'IC', 'Invest Cont'),\n",
       " (3, 'JA', 'Juv Arrest'),\n",
       " (4, 'CC', 'UNK'),\n",
       " (5, 'AA', 'Adult Arrest'),\n",
       " (6, 'AO', 'Adult Other')]"
      ]
     },
     "execution_count": 65,
     "metadata": {},
     "output_type": "execute_result"
    }
   ],
   "source": [
    "%%sql\n",
    "SELECT * FROM Status_Table\n",
    "LIMIT 25;"
   ]
  },
  {
   "cell_type": "code",
   "execution_count": 66,
   "id": "6d8af28c-2242-4e99-96c0-fb5c86301ec6",
   "metadata": {},
   "outputs": [
    {
     "name": "stdout",
     "output_type": "stream",
     "text": [
      " * postgresql://student@/group15final\n",
      "Done.\n",
      "Done.\n",
      "Done.\n"
     ]
    },
    {
     "data": {
      "text/plain": [
       "[]"
      ]
     },
     "execution_count": 66,
     "metadata": {},
     "output_type": "execute_result"
    }
   ],
   "source": [
    "%%sql\n",
    "ALTER TABLE FACT_TABLE\n",
    "DROP COLUMN IF EXISTS STATUS_Key;\n",
    "\n",
    "ALTER TABLE FACT_TABLE\n",
    "ADD COLUMN STATUS_Key INTEGER;\n",
    "\n",
    "ALTER TABLE FACT_TABLE\n",
    "ADD CONSTRAINT fk_STATUS_Table\n",
    "    FOREIGN KEY (STATUS_Key)\n",
    "    REFERENCES STATUS_Table(STATUS_Key);"
   ]
  },
  {
   "cell_type": "code",
   "execution_count": 67,
   "id": "113ef9d9-e266-4e91-96cd-5c166d4e044b",
   "metadata": {},
   "outputs": [
    {
     "name": "stdout",
     "output_type": "stream",
     "text": [
      " * postgresql://student@/group15final\n",
      "843514 rows affected.\n"
     ]
    },
    {
     "data": {
      "text/plain": [
       "[]"
      ]
     },
     "execution_count": 67,
     "metadata": {},
     "output_type": "execute_result"
    }
   ],
   "source": [
    "%%sql\n",
    "UPDATE FACT_TABLE AS F\n",
    "SET STATUS_Key = S.STATUS_Key\n",
    "FROM STATUS_Table AS S\n",
    "WHERE F.STATUS = S.STATUS;"
   ]
  },
  {
   "cell_type": "code",
   "execution_count": 68,
   "id": "c81d9c91-4b44-4f59-98cf-6be43f11c532",
   "metadata": {},
   "outputs": [
    {
     "name": "stdout",
     "output_type": "stream",
     "text": [
      " * postgresql://student@/group15final\n",
      "5 rows affected.\n"
     ]
    },
    {
     "data": {
      "text/html": [
       "<table>\n",
       "    <thead>\n",
       "        <tr>\n",
       "            <th>dr_no</th>\n",
       "            <th>date_rptd</th>\n",
       "            <th>date_occ</th>\n",
       "            <th>time_occ</th>\n",
       "            <th>area</th>\n",
       "            <th>rpt_dist_no</th>\n",
       "            <th>crm_cd</th>\n",
       "            <th>vict_age</th>\n",
       "            <th>vict_sex</th>\n",
       "            <th>vict_descent</th>\n",
       "            <th>premis_cd</th>\n",
       "            <th>weapon_used_cd</th>\n",
       "            <th>status</th>\n",
       "            <th>location</th>\n",
       "            <th>cross_street</th>\n",
       "            <th>lat</th>\n",
       "            <th>lon</th>\n",
       "            <th>crime_key</th>\n",
       "            <th>location_key</th>\n",
       "            <th>victim_key</th>\n",
       "            <th>premis_key</th>\n",
       "            <th>weapon_key</th>\n",
       "            <th>status_key</th>\n",
       "        </tr>\n",
       "    </thead>\n",
       "    <tbody>\n",
       "        <tr>\n",
       "            <td>200315897</td>\n",
       "            <td>2020-08-17 00:00:00</td>\n",
       "            <td>2020-08-17 00:00:00</td>\n",
       "            <td>945</td>\n",
       "            <td>3    </td>\n",
       "            <td>326</td>\n",
       "            <td>745</td>\n",
       "            <td>54</td>\n",
       "            <td>F</td>\n",
       "            <td>B</td>\n",
       "            <td>502</td>\n",
       "            <td>None</td>\n",
       "            <td>IC   </td>\n",
       "            <td>2600 S  NORMANDIE                    AV </td>\n",
       "            <td>None</td>\n",
       "            <td>0</td>\n",
       "            <td>0</td>\n",
       "            <td>81</td>\n",
       "            <td>121766</td>\n",
       "            <td>151</td>\n",
       "            <td>132</td>\n",
       "            <td>None</td>\n",
       "            <td>2</td>\n",
       "        </tr>\n",
       "        <tr>\n",
       "            <td>200316956</td>\n",
       "            <td>2020-09-07 00:00:00</td>\n",
       "            <td>2020-09-07 00:00:00</td>\n",
       "            <td>410</td>\n",
       "            <td>3    </td>\n",
       "            <td>311</td>\n",
       "            <td>510</td>\n",
       "            <td>None</td>\n",
       "            <td>None</td>\n",
       "            <td>None</td>\n",
       "            <td>101</td>\n",
       "            <td>None</td>\n",
       "            <td>AO   </td>\n",
       "            <td>5300 W  ADAMS                        BL </td>\n",
       "            <td>None</td>\n",
       "            <td>34.0325</td>\n",
       "            <td>-118.3591</td>\n",
       "            <td>57</td>\n",
       "            <td>120148</td>\n",
       "            <td>None</td>\n",
       "            <td>1</td>\n",
       "            <td>None</td>\n",
       "            <td>6</td>\n",
       "        </tr>\n",
       "        <tr>\n",
       "            <td>200318079</td>\n",
       "            <td>2020-09-30 00:00:00</td>\n",
       "            <td>2020-09-30 00:00:00</td>\n",
       "            <td>30</td>\n",
       "            <td>3    </td>\n",
       "            <td>399</td>\n",
       "            <td>510</td>\n",
       "            <td>None</td>\n",
       "            <td>None</td>\n",
       "            <td>None</td>\n",
       "            <td>101</td>\n",
       "            <td>None</td>\n",
       "            <td>IC   </td>\n",
       "            <td>400 W  41ST                         PL  </td>\n",
       "            <td>None</td>\n",
       "            <td>34.0083</td>\n",
       "            <td>-118.2821</td>\n",
       "            <td>57</td>\n",
       "            <td>129355</td>\n",
       "            <td>None</td>\n",
       "            <td>1</td>\n",
       "            <td>None</td>\n",
       "            <td>2</td>\n",
       "        </tr>\n",
       "        <tr>\n",
       "            <td>200319667</td>\n",
       "            <td>2020-11-01 00:00:00</td>\n",
       "            <td>2020-10-31 00:00:00</td>\n",
       "            <td>1700</td>\n",
       "            <td>3    </td>\n",
       "            <td>316</td>\n",
       "            <td>510</td>\n",
       "            <td>None</td>\n",
       "            <td>None</td>\n",
       "            <td>None</td>\n",
       "            <td>101</td>\n",
       "            <td>None</td>\n",
       "            <td>IC   </td>\n",
       "            <td>2200 S  HOBART                       BL </td>\n",
       "            <td>None</td>\n",
       "            <td>34.0348</td>\n",
       "            <td>-118.3078</td>\n",
       "            <td>57</td>\n",
       "            <td>120929</td>\n",
       "            <td>None</td>\n",
       "            <td>1</td>\n",
       "            <td>None</td>\n",
       "            <td>2</td>\n",
       "        </tr>\n",
       "        <tr>\n",
       "            <td>200321978</td>\n",
       "            <td>2020-12-20 00:00:00</td>\n",
       "            <td>2020-12-19 00:00:00</td>\n",
       "            <td>2300</td>\n",
       "            <td>3    </td>\n",
       "            <td>356</td>\n",
       "            <td>510</td>\n",
       "            <td>None</td>\n",
       "            <td>None</td>\n",
       "            <td>None</td>\n",
       "            <td>101</td>\n",
       "            <td>None</td>\n",
       "            <td>IC   </td>\n",
       "            <td>1400 W  36TH                         ST </td>\n",
       "            <td>None</td>\n",
       "            <td>34.0228</td>\n",
       "            <td>-118.3002</td>\n",
       "            <td>57</td>\n",
       "            <td>124525</td>\n",
       "            <td>None</td>\n",
       "            <td>1</td>\n",
       "            <td>None</td>\n",
       "            <td>2</td>\n",
       "        </tr>\n",
       "    </tbody>\n",
       "</table>"
      ],
      "text/plain": [
       "[(200315897, datetime.datetime(2020, 8, 17, 0, 0), datetime.datetime(2020, 8, 17, 0, 0), 945, '3    ', 326, 745, 54, 'F', 'B', 502, None, 'IC   ', '2600 S  NORMANDIE                    AV ', None, '0', '0', 81, 121766, 151, 132, None, 2),\n",
       " (200316956, datetime.datetime(2020, 9, 7, 0, 0), datetime.datetime(2020, 9, 7, 0, 0), 410, '3    ', 311, 510, None, None, None, 101, None, 'AO   ', '5300 W  ADAMS                        BL ', None, '34.0325', '-118.3591', 57, 120148, None, 1, None, 6),\n",
       " (200318079, datetime.datetime(2020, 9, 30, 0, 0), datetime.datetime(2020, 9, 30, 0, 0), 30, '3    ', 399, 510, None, None, None, 101, None, 'IC   ', '400 W  41ST                         PL  ', None, '34.0083', '-118.2821', 57, 129355, None, 1, None, 2),\n",
       " (200319667, datetime.datetime(2020, 11, 1, 0, 0), datetime.datetime(2020, 10, 31, 0, 0), 1700, '3    ', 316, 510, None, None, None, 101, None, 'IC   ', '2200 S  HOBART                       BL ', None, '34.0348', '-118.3078', 57, 120929, None, 1, None, 2),\n",
       " (200321978, datetime.datetime(2020, 12, 20, 0, 0), datetime.datetime(2020, 12, 19, 0, 0), 2300, '3    ', 356, 510, None, None, None, 101, None, 'IC   ', '1400 W  36TH                         ST ', None, '34.0228', '-118.3002', 57, 124525, None, 1, None, 2)]"
      ]
     },
     "execution_count": 68,
     "metadata": {},
     "output_type": "execute_result"
    }
   ],
   "source": [
    "%%sql\n",
    "SELECT * FROM FACT_TABLE LIMIT 5 ;"
   ]
  },
  {
   "cell_type": "markdown",
   "id": "c8a970f7-f315-4bb3-bb43-d5c8dacf7dc2",
   "metadata": {
    "id": "c8a970f7-f315-4bb3-bb43-d5c8dacf7dc2"
   },
   "source": [
    "##### Creating a new Dimention Table for Date as Date_Table"
   ]
  },
  {
   "cell_type": "markdown",
   "id": "0ffa88a3-6d43-4bb0-b376-331efae3606d",
   "metadata": {
    "id": "0ffa88a3-6d43-4bb0-b376-331efae3606d"
   },
   "source": [
    "The following cell parses the dates from the raw fields \"Date_Rptd\" and \"Date_Occ\" into multiple variables that allow for further analysis. This analysis could include whether a crime is associated with a weekday or a weekend, or which month of the year has the most crimes reported, etc."
   ]
  },
  {
   "cell_type": "code",
   "execution_count": 69,
   "id": "cf8d40a9-93a7-444a-9fac-2c7b7cfd7d2e",
   "metadata": {},
   "outputs": [
    {
     "name": "stdout",
     "output_type": "stream",
     "text": [
      " * postgresql://student@/group15final\n",
      "Done.\n",
      "Done.\n"
     ]
    },
    {
     "data": {
      "text/plain": [
       "[]"
      ]
     },
     "execution_count": 69,
     "metadata": {},
     "output_type": "execute_result"
    }
   ],
   "source": [
    "%%sql\n",
    "DROP TABLE IF EXISTS DATE;\n",
    "\n",
    "CREATE TABLE DATE (\n",
    "    key SERIAL PRIMARY KEY,\n",
    "    hour timestamp,\n",
    "    day CHAR(10),\n",
    "    year INTEGER,\n",
    "    month_of_year_str VARCHAR(12),\n",
    "    month_of_year INTEGER,\n",
    "    day_of_month INTEGER,\n",
    "    day_of_week_str CHAR(9),\n",
    "    day_of_week INTEGER,\n",
    "    is_weekend BOOLEAN,\n",
    "    is_weekday BOOLEAN,\n",
    "    hour_of_day INTEGER,\n",
    "    quarter_of_year INTEGER\n",
    ");"
   ]
  },
  {
   "cell_type": "code",
   "execution_count": 70,
   "id": "2b52516a-8c81-4b3b-92d7-988d29bc307e",
   "metadata": {},
   "outputs": [
    {
     "name": "stdout",
     "output_type": "stream",
     "text": [
      " * postgresql://student@/group15final\n",
      "1420 rows affected.\n"
     ]
    },
    {
     "data": {
      "text/plain": [
       "[]"
      ]
     },
     "execution_count": 70,
     "metadata": {},
     "output_type": "execute_result"
    }
   ],
   "source": [
    "%%sql\n",
    "INSERT INTO DATE(HOUR, day, year, month_of_year_str, month_of_year, day_of_month, \n",
    "                  day_of_week_str, day_of_week, is_weekend, is_weekday, \n",
    "                  hour_of_day, quarter_of_year)\n",
    "SELECT DISTINCT TO_TIMESTAMP(TO_CHAR(date_occ, 'YYYY-MM-DD HH24:00:00'), 'YYYY-MM-DD HH24:MI:SS') AS hour,\n",
    "    TO_CHAR(date_occ, 'YYYY-MM-DD') AS day, \n",
    "    CAST(TO_CHAR(date_occ, 'YYYY') AS INTEGER) AS year,\n",
    "    TO_CHAR(date_occ, 'Month') AS month_of_year_str,\n",
    "    CAST(TO_CHAR(date_occ, 'MM') AS INTEGER) AS month_of_year,\n",
    "    CAST(TO_CHAR(date_occ, 'DD') AS INTEGER) AS day_of_month,\n",
    "    TO_CHAR(date_occ, 'Day') AS day_of_week_str,\n",
    "    CAST(TO_CHAR(date_occ, 'D') AS INTEGER) AS day_of_week,\n",
    "    CASE WHEN CAST(TO_CHAR(date_occ, 'D') AS INTEGER) IN (1, 7) \n",
    "        THEN TRUE\n",
    "        ELSE FALSE\n",
    "    END AS is_weekend,\n",
    "    CASE WHEN CAST(TO_CHAR(date_occ, 'D') AS INTEGER) NOT IN (1, 7) \n",
    "        THEN TRUE\n",
    "        ELSE FALSE\n",
    "    END AS is_weekday,\n",
    "    CAST(TO_CHAR(date_occ, 'HH24') AS INTEGER) AS hour_of_day,\n",
    "    CAST(TO_CHAR(date_occ, 'Q') AS INTEGER) AS quarter_of_year\n",
    "FROM FACT_TABLE\n",
    "UNION\n",
    "SELECT DISTINCT TO_TIMESTAMP(TO_CHAR(date_rptd, 'YYYY-MM-DD HH24:00:00'), 'YYYY-MM-DD HH24:MI:SS') AS hour,\n",
    "    TO_CHAR(date_rptd, 'YYYY-MM-DD') AS day, \n",
    "    CAST(TO_CHAR(date_rptd, 'YYYY') AS INTEGER) AS year,\n",
    "    TO_CHAR(date_rptd, 'Month') AS month_of_year_str,\n",
    "    CAST(TO_CHAR(date_rptd, 'MM') AS INTEGER) AS month_of_year,\n",
    "    CAST(TO_CHAR(date_rptd, 'DD') AS INTEGER) AS day_of_month,\n",
    "    TO_CHAR(date_rptd, 'Day') AS day_of_week_str,\n",
    "    CAST(TO_CHAR(date_rptd, 'D') AS INTEGER) AS day_of_week,\n",
    "    CASE WHEN CAST(TO_CHAR(date_rptd, 'D') AS INTEGER) IN (1, 7) \n",
    "        THEN TRUE\n",
    "        ELSE FALSE\n",
    "    END AS is_weekend,\n",
    "    CASE WHEN CAST(TO_CHAR(date_rptd, 'D') AS INTEGER) NOT IN (1, 7) \n",
    "        THEN TRUE\n",
    "        ELSE FALSE\n",
    "    END AS is_weekday,\n",
    "    CAST(TO_CHAR(date_rptd, 'HH24') AS INTEGER) AS hour_of_day,\n",
    "    CAST(TO_CHAR(date_rptd, 'Q') AS INTEGER) AS quarter_of_year\n",
    "FROM FACT_TABLE;\n"
   ]
  },
  {
   "cell_type": "code",
   "execution_count": 71,
   "id": "283a92ec-8ab8-4bfc-a554-d77a8e19db84",
   "metadata": {
    "id": "283a92ec-8ab8-4bfc-a554-d77a8e19db84",
    "outputId": "d954de9c-752c-4865-b999-568ce135ff97"
   },
   "outputs": [
    {
     "name": "stdout",
     "output_type": "stream",
     "text": [
      " * postgresql://student@/group15final\n",
      "10 rows affected.\n"
     ]
    },
    {
     "data": {
      "text/html": [
       "<table>\n",
       "    <thead>\n",
       "        <tr>\n",
       "            <th>key</th>\n",
       "            <th>hour</th>\n",
       "            <th>day</th>\n",
       "            <th>year</th>\n",
       "            <th>month_of_year_str</th>\n",
       "            <th>month_of_year</th>\n",
       "            <th>day_of_month</th>\n",
       "            <th>day_of_week_str</th>\n",
       "            <th>day_of_week</th>\n",
       "            <th>is_weekend</th>\n",
       "            <th>is_weekday</th>\n",
       "            <th>hour_of_day</th>\n",
       "            <th>quarter_of_year</th>\n",
       "        </tr>\n",
       "    </thead>\n",
       "    <tbody>\n",
       "        <tr>\n",
       "            <td>1</td>\n",
       "            <td>2022-03-03 00:00:00</td>\n",
       "            <td>2022-03-03</td>\n",
       "            <td>2022</td>\n",
       "            <td>March    </td>\n",
       "            <td>3</td>\n",
       "            <td>3</td>\n",
       "            <td>Thursday </td>\n",
       "            <td>5</td>\n",
       "            <td>False</td>\n",
       "            <td>True</td>\n",
       "            <td>0</td>\n",
       "            <td>1</td>\n",
       "        </tr>\n",
       "        <tr>\n",
       "            <td>2</td>\n",
       "            <td>2020-06-28 00:00:00</td>\n",
       "            <td>2020-06-28</td>\n",
       "            <td>2020</td>\n",
       "            <td>June     </td>\n",
       "            <td>6</td>\n",
       "            <td>28</td>\n",
       "            <td>Sunday   </td>\n",
       "            <td>1</td>\n",
       "            <td>True</td>\n",
       "            <td>False</td>\n",
       "            <td>0</td>\n",
       "            <td>2</td>\n",
       "        </tr>\n",
       "        <tr>\n",
       "            <td>3</td>\n",
       "            <td>2023-07-11 00:00:00</td>\n",
       "            <td>2023-07-11</td>\n",
       "            <td>2023</td>\n",
       "            <td>July     </td>\n",
       "            <td>7</td>\n",
       "            <td>11</td>\n",
       "            <td>Tuesday  </td>\n",
       "            <td>3</td>\n",
       "            <td>False</td>\n",
       "            <td>True</td>\n",
       "            <td>0</td>\n",
       "            <td>3</td>\n",
       "        </tr>\n",
       "        <tr>\n",
       "            <td>4</td>\n",
       "            <td>2021-03-03 00:00:00</td>\n",
       "            <td>2021-03-03</td>\n",
       "            <td>2021</td>\n",
       "            <td>March    </td>\n",
       "            <td>3</td>\n",
       "            <td>3</td>\n",
       "            <td>Wednesday</td>\n",
       "            <td>4</td>\n",
       "            <td>False</td>\n",
       "            <td>True</td>\n",
       "            <td>0</td>\n",
       "            <td>1</td>\n",
       "        </tr>\n",
       "        <tr>\n",
       "            <td>5</td>\n",
       "            <td>2022-12-13 00:00:00</td>\n",
       "            <td>2022-12-13</td>\n",
       "            <td>2022</td>\n",
       "            <td>December </td>\n",
       "            <td>12</td>\n",
       "            <td>13</td>\n",
       "            <td>Tuesday  </td>\n",
       "            <td>3</td>\n",
       "            <td>False</td>\n",
       "            <td>True</td>\n",
       "            <td>0</td>\n",
       "            <td>4</td>\n",
       "        </tr>\n",
       "        <tr>\n",
       "            <td>6</td>\n",
       "            <td>2023-09-24 00:00:00</td>\n",
       "            <td>2023-09-24</td>\n",
       "            <td>2023</td>\n",
       "            <td>September</td>\n",
       "            <td>9</td>\n",
       "            <td>24</td>\n",
       "            <td>Sunday   </td>\n",
       "            <td>1</td>\n",
       "            <td>True</td>\n",
       "            <td>False</td>\n",
       "            <td>0</td>\n",
       "            <td>3</td>\n",
       "        </tr>\n",
       "        <tr>\n",
       "            <td>7</td>\n",
       "            <td>2022-01-19 00:00:00</td>\n",
       "            <td>2022-01-19</td>\n",
       "            <td>2022</td>\n",
       "            <td>January  </td>\n",
       "            <td>1</td>\n",
       "            <td>19</td>\n",
       "            <td>Wednesday</td>\n",
       "            <td>4</td>\n",
       "            <td>False</td>\n",
       "            <td>True</td>\n",
       "            <td>0</td>\n",
       "            <td>1</td>\n",
       "        </tr>\n",
       "        <tr>\n",
       "            <td>8</td>\n",
       "            <td>2023-05-03 00:00:00</td>\n",
       "            <td>2023-05-03</td>\n",
       "            <td>2023</td>\n",
       "            <td>May      </td>\n",
       "            <td>5</td>\n",
       "            <td>3</td>\n",
       "            <td>Wednesday</td>\n",
       "            <td>4</td>\n",
       "            <td>False</td>\n",
       "            <td>True</td>\n",
       "            <td>0</td>\n",
       "            <td>2</td>\n",
       "        </tr>\n",
       "        <tr>\n",
       "            <td>9</td>\n",
       "            <td>2022-02-20 00:00:00</td>\n",
       "            <td>2022-02-20</td>\n",
       "            <td>2022</td>\n",
       "            <td>February </td>\n",
       "            <td>2</td>\n",
       "            <td>20</td>\n",
       "            <td>Sunday   </td>\n",
       "            <td>1</td>\n",
       "            <td>True</td>\n",
       "            <td>False</td>\n",
       "            <td>0</td>\n",
       "            <td>1</td>\n",
       "        </tr>\n",
       "        <tr>\n",
       "            <td>10</td>\n",
       "            <td>2021-03-16 00:00:00</td>\n",
       "            <td>2021-03-16</td>\n",
       "            <td>2021</td>\n",
       "            <td>March    </td>\n",
       "            <td>3</td>\n",
       "            <td>16</td>\n",
       "            <td>Tuesday  </td>\n",
       "            <td>3</td>\n",
       "            <td>False</td>\n",
       "            <td>True</td>\n",
       "            <td>0</td>\n",
       "            <td>1</td>\n",
       "        </tr>\n",
       "    </tbody>\n",
       "</table>"
      ],
      "text/plain": [
       "[(1, datetime.datetime(2022, 3, 3, 0, 0), '2022-03-03', 2022, 'March    ', 3, 3, 'Thursday ', 5, False, True, 0, 1),\n",
       " (2, datetime.datetime(2020, 6, 28, 0, 0), '2020-06-28', 2020, 'June     ', 6, 28, 'Sunday   ', 1, True, False, 0, 2),\n",
       " (3, datetime.datetime(2023, 7, 11, 0, 0), '2023-07-11', 2023, 'July     ', 7, 11, 'Tuesday  ', 3, False, True, 0, 3),\n",
       " (4, datetime.datetime(2021, 3, 3, 0, 0), '2021-03-03', 2021, 'March    ', 3, 3, 'Wednesday', 4, False, True, 0, 1),\n",
       " (5, datetime.datetime(2022, 12, 13, 0, 0), '2022-12-13', 2022, 'December ', 12, 13, 'Tuesday  ', 3, False, True, 0, 4),\n",
       " (6, datetime.datetime(2023, 9, 24, 0, 0), '2023-09-24', 2023, 'September', 9, 24, 'Sunday   ', 1, True, False, 0, 3),\n",
       " (7, datetime.datetime(2022, 1, 19, 0, 0), '2022-01-19', 2022, 'January  ', 1, 19, 'Wednesday', 4, False, True, 0, 1),\n",
       " (8, datetime.datetime(2023, 5, 3, 0, 0), '2023-05-03', 2023, 'May      ', 5, 3, 'Wednesday', 4, False, True, 0, 2),\n",
       " (9, datetime.datetime(2022, 2, 20, 0, 0), '2022-02-20', 2022, 'February ', 2, 20, 'Sunday   ', 1, True, False, 0, 1),\n",
       " (10, datetime.datetime(2021, 3, 16, 0, 0), '2021-03-16', 2021, 'March    ', 3, 16, 'Tuesday  ', 3, False, True, 0, 1)]"
      ]
     },
     "execution_count": 71,
     "metadata": {},
     "output_type": "execute_result"
    }
   ],
   "source": [
    "%%sql\n",
    "SELECT * FROM DATE\n",
    "LIMIT 10;"
   ]
  },
  {
   "cell_type": "code",
   "execution_count": 72,
   "id": "10cb4df4-d5f1-47a1-aa41-2bad76340e2a",
   "metadata": {},
   "outputs": [
    {
     "name": "stdout",
     "output_type": "stream",
     "text": [
      " * postgresql://student@/group15final\n",
      "Done.\n",
      "Done.\n",
      "Done.\n"
     ]
    },
    {
     "data": {
      "text/plain": [
       "[]"
      ]
     },
     "execution_count": 72,
     "metadata": {},
     "output_type": "execute_result"
    }
   ],
   "source": [
    "%%sql\n",
    "\n",
    "ALTER TABLE FACT_TABLE\n",
    "ADD COLUMN DATE_OCC_Key INTEGER,\n",
    "ADD COLUMN DATE_RPTD_Key INTEGER;\n",
    "\n",
    "\n",
    "ALTER TABLE FACT_TABLE\n",
    "ADD CONSTRAINT fk_hour_occ\n",
    "    FOREIGN KEY (DATE_OCC_Key)\n",
    "    REFERENCES DATE(Key);\n",
    "\n",
    "ALTER TABLE FACT_TABLE\n",
    "ADD CONSTRAINT fk_hour_rptd\n",
    "    FOREIGN KEY (DATE_RPTD_Key)\n",
    "    REFERENCES DATE(Key);\n"
   ]
  },
  {
   "cell_type": "code",
   "execution_count": 73,
   "id": "6837a05e-2547-43b2-9cc1-27dedc756832",
   "metadata": {},
   "outputs": [
    {
     "name": "stdout",
     "output_type": "stream",
     "text": [
      " * postgresql://student@/group15final\n",
      "843514 rows affected.\n"
     ]
    },
    {
     "data": {
      "text/plain": [
       "[]"
      ]
     },
     "execution_count": 73,
     "metadata": {},
     "output_type": "execute_result"
    }
   ],
   "source": [
    "%%sql\n",
    "UPDATE FACT_TABLE AS F\n",
    "SET DATE_OCC_Key = D.Key\n",
    "FROM DATE AS D\n",
    "WHERE TO_CHAR(F.DATE_OCC, 'YYYY-MM-DD HH24:MI:SS') = TO_CHAR(D.hour, 'YYYY-MM-DD HH24:MI:SS');\n"
   ]
  },
  {
   "cell_type": "code",
   "execution_count": 74,
   "id": "1047d8a6-59ec-4917-9f97-045ac0885b51",
   "metadata": {},
   "outputs": [
    {
     "name": "stdout",
     "output_type": "stream",
     "text": [
      " * postgresql://student@/group15final\n",
      "843514 rows affected.\n"
     ]
    },
    {
     "data": {
      "text/plain": [
       "[]"
      ]
     },
     "execution_count": 74,
     "metadata": {},
     "output_type": "execute_result"
    }
   ],
   "source": [
    "%%sql\n",
    "UPDATE FACT_TABLE AS F\n",
    "SET DATE_RPTD_Key = D.Key\n",
    "FROM DATE AS D\n",
    "WHERE TO_CHAR(F.DATE_RPTD, 'YYYY-MM-DD HH24:MI:SS') = TO_CHAR(D.hour, 'YYYY-MM-DD HH24:MI:SS');"
   ]
  },
  {
   "cell_type": "code",
   "execution_count": null,
   "id": "f677d920-c407-4f44-99bd-3b4f3cc2922d",
   "metadata": {},
   "outputs": [],
   "source": []
  },
  {
   "cell_type": "code",
   "execution_count": null,
   "id": "39c0fe80-1026-473d-829e-c097af5ff95a",
   "metadata": {
    "id": "39c0fe80-1026-473d-829e-c097af5ff95a",
    "outputId": "2fbdba31-3097-4dd4-84c2-1dac77b9c65e"
   },
   "outputs": [
    {
     "name": "stdout",
     "output_type": "stream",
     "text": [
      " * postgresql://student@/group15final\n"
     ]
    }
   ],
   "source": [
    "%%sql\n",
    "ALTER TABLE FACT_TABLE add FOREIGN KEY (VICTIM_KEY) references Victim_Table(victim_KEY);\n",
    "ALTER TABLE FACT_TABLE add FOREIGN KEY (LOCATION_KEY) references Location_Table(location_KEY);\n",
    "ALTER TABLE FACT_TABLE add FOREIGN KEY (CRIME_KEY) references Crime_table(CRIME_KEY);\n",
    "ALTER TABLE FACT_TABLE add FOREIGN KEY (PREMIS_KEY) references Premis_Table(Premis_KEY);\n",
    "ALTER TABLE FACT_TABLE add FOREIGN KEY (WEAPON_KEY) references Weapon_Table(WEAPON_KEY);\n",
    "ALTER TABLE FACT_TABLE add FOREIGN KEY (Status_KEY) references Status_Table(Status_KEY);\n",
    "ALTER TABLE FACT_TABLE add FOREIGN KEY (DATE_OCC_KEY) references DATE(KEY);\n",
    "ALTER TABLE FACT_TABLE add FOREIGN KEY (DATE_RPTD_KEY) references DATE(KEY);"
   ]
  },
  {
   "cell_type": "code",
   "execution_count": null,
   "id": "621df470-1763-48a0-8956-647e1625b3db",
   "metadata": {},
   "outputs": [],
   "source": [
    "%%sql\n",
    "ALTER TABLE FACT_TABLE\n",
    "DROP COLUMN DATE_RPTD,\n",
    "DROP COLUMN DATE_OCC,\n",
    "DROP COLUMN TIME_OCC,\n",
    "DROP COLUMN AREA,\n",
    "DROP COLUMN RPT_DIST_NO,\n",
    "DROP COLUMN CRM_CD,\n",
    "DROP COLUMN VICT_AGE,\n",
    "DROP COLUMN VICT_SEX,\n",
    "DROP COLUMN VICT_DESCENT,\n",
    "DROP COLUMN PREMIS_CD,\n",
    "DROP COLUMN WEAPON_USED_CD,\n",
    "DROP COLUMN STATUS,\n",
    "DROP COLUMN LOCATION,\n",
    "DROP COLUMN CROSS_STREET,\n",
    "DROP COLUMN LAT,\n",
    "DROP COLUMN LON;"
   ]
  },
  {
   "cell_type": "code",
   "execution_count": null,
   "id": "904af39b-ba1c-4c22-b2cb-5ce7504ff16a",
   "metadata": {},
   "outputs": [],
   "source": []
  },
  {
   "cell_type": "markdown",
   "id": "251baa29-e33f-48c7-83d9-22f40e10e3fd",
   "metadata": {
    "id": "251baa29-e33f-48c7-83d9-22f40e10e3fd"
   },
   "source": [
    "View fact table again now with additional fields"
   ]
  },
  {
   "cell_type": "code",
   "execution_count": 109,
   "id": "6f2bd157-48ae-4fad-85cd-4973babf4301",
   "metadata": {
    "id": "6f2bd157-48ae-4fad-85cd-4973babf4301",
    "outputId": "7da15c3a-659e-4da4-950a-933967e23670"
   },
   "outputs": [
    {
     "name": "stdout",
     "output_type": "stream",
     "text": [
      " * postgresql://student@/group15final\n",
      "10 rows affected.\n"
     ]
    },
    {
     "data": {
      "text/html": [
       "<table>\n",
       "    <thead>\n",
       "        <tr>\n",
       "            <th>dr_no</th>\n",
       "            <th>crime_key</th>\n",
       "            <th>location_key</th>\n",
       "            <th>victim_key</th>\n",
       "            <th>premis_key</th>\n",
       "            <th>weapon_key</th>\n",
       "            <th>status_key</th>\n",
       "            <th>date_occ_key</th>\n",
       "            <th>date_rptd_key</th>\n",
       "        </tr>\n",
       "    </thead>\n",
       "    <tbody>\n",
       "        <tr>\n",
       "            <td>200518295</td>\n",
       "            <td>57</td>\n",
       "            <td>141545</td>\n",
       "            <td>None</td>\n",
       "            <td>1</td>\n",
       "            <td>None</td>\n",
       "            <td>2</td>\n",
       "            <td>88</td>\n",
       "            <td>88</td>\n",
       "        </tr>\n",
       "        <tr>\n",
       "            <td>200607573</td>\n",
       "            <td>57</td>\n",
       "            <td>152673</td>\n",
       "            <td>None</td>\n",
       "            <td>1</td>\n",
       "            <td>None</td>\n",
       "            <td>6</td>\n",
       "            <td>820</td>\n",
       "            <td>820</td>\n",
       "        </tr>\n",
       "        <tr>\n",
       "            <td>200610488</td>\n",
       "            <td>57</td>\n",
       "            <td>153210</td>\n",
       "            <td>None</td>\n",
       "            <td>167</td>\n",
       "            <td>None</td>\n",
       "            <td>5</td>\n",
       "            <td>1217</td>\n",
       "            <td>1217</td>\n",
       "        </tr>\n",
       "        <tr>\n",
       "            <td>200611471</td>\n",
       "            <td>80</td>\n",
       "            <td>148920</td>\n",
       "            <td>None</td>\n",
       "            <td>8</td>\n",
       "            <td>None</td>\n",
       "            <td>2</td>\n",
       "            <td>318</td>\n",
       "            <td>687</td>\n",
       "        </tr>\n",
       "        <tr>\n",
       "            <td>200612251</td>\n",
       "            <td>57</td>\n",
       "            <td>147658</td>\n",
       "            <td>None</td>\n",
       "            <td>1</td>\n",
       "            <td>None</td>\n",
       "            <td>2</td>\n",
       "            <td>1108</td>\n",
       "            <td>993</td>\n",
       "        </tr>\n",
       "        <tr>\n",
       "            <td>200614504</td>\n",
       "            <td>57</td>\n",
       "            <td>152021</td>\n",
       "            <td>None</td>\n",
       "            <td>1</td>\n",
       "            <td>None</td>\n",
       "            <td>2</td>\n",
       "            <td>1414</td>\n",
       "            <td>1266</td>\n",
       "        </tr>\n",
       "        <tr>\n",
       "            <td>200617829</td>\n",
       "            <td>57</td>\n",
       "            <td>149249</td>\n",
       "            <td>None</td>\n",
       "            <td>1</td>\n",
       "            <td>None</td>\n",
       "            <td>2</td>\n",
       "            <td>642</td>\n",
       "            <td>1224</td>\n",
       "        </tr>\n",
       "        <tr>\n",
       "            <td>200618218</td>\n",
       "            <td>57</td>\n",
       "            <td>152669</td>\n",
       "            <td>None</td>\n",
       "            <td>4</td>\n",
       "            <td>None</td>\n",
       "            <td>2</td>\n",
       "            <td>218</td>\n",
       "            <td>218</td>\n",
       "        </tr>\n",
       "        <tr>\n",
       "            <td>200700673</td>\n",
       "            <td>80</td>\n",
       "            <td>153677</td>\n",
       "            <td>None</td>\n",
       "            <td>55</td>\n",
       "            <td>None</td>\n",
       "            <td>2</td>\n",
       "            <td>827</td>\n",
       "            <td>827</td>\n",
       "        </tr>\n",
       "        <tr>\n",
       "            <td>200710617</td>\n",
       "            <td>57</td>\n",
       "            <td>158515</td>\n",
       "            <td>None</td>\n",
       "            <td>1</td>\n",
       "            <td>None</td>\n",
       "            <td>2</td>\n",
       "            <td>1367</td>\n",
       "            <td>1367</td>\n",
       "        </tr>\n",
       "    </tbody>\n",
       "</table>"
      ],
      "text/plain": [
       "[(200518295, 57, 141545, None, 1, None, 2, 88, 88),\n",
       " (200607573, 57, 152673, None, 1, None, 6, 820, 820),\n",
       " (200610488, 57, 153210, None, 167, None, 5, 1217, 1217),\n",
       " (200611471, 80, 148920, None, 8, None, 2, 318, 687),\n",
       " (200612251, 57, 147658, None, 1, None, 2, 1108, 993),\n",
       " (200614504, 57, 152021, None, 1, None, 2, 1414, 1266),\n",
       " (200617829, 57, 149249, None, 1, None, 2, 642, 1224),\n",
       " (200618218, 57, 152669, None, 4, None, 2, 218, 218),\n",
       " (200700673, 80, 153677, None, 55, None, 2, 827, 827),\n",
       " (200710617, 57, 158515, None, 1, None, 2, 1367, 1367)]"
      ]
     },
     "execution_count": 109,
     "metadata": {},
     "output_type": "execute_result"
    }
   ],
   "source": [
    "%%sql\n",
    "SELECT * FROM FACT_TABLE\n",
    "LIMIT 10;"
   ]
  },
  {
   "cell_type": "code",
   "execution_count": null,
   "id": "813be40e-c7c3-47a8-bb18-28b090e42df2",
   "metadata": {
    "id": "813be40e-c7c3-47a8-bb18-28b090e42df2"
   },
   "outputs": [],
   "source": []
  },
  {
   "cell_type": "markdown",
   "id": "6f6f420b-c777-4649-9b82-710ff9177723",
   "metadata": {},
   "source": [
    "### How has the overall crime rate in the city evolved over the past few years?\n"
   ]
  },
  {
   "cell_type": "markdown",
   "id": "23666b55-e004-4527-9f08-70d0b4820501",
   "metadata": {},
   "source": [
    "Total Number of Crimes Till Date:\n",
    "\n"
   ]
  },
  {
   "cell_type": "code",
   "execution_count": 95,
   "id": "287a04fe-bc80-4bde-897e-36e2655e5533",
   "metadata": {},
   "outputs": [
    {
     "name": "stdout",
     "output_type": "stream",
     "text": [
      " * postgresql://student@/group15final\n",
      "1 rows affected.\n"
     ]
    },
    {
     "data": {
      "text/html": [
       "<table>\n",
       "    <thead>\n",
       "        <tr>\n",
       "            <th>total_crimes</th>\n",
       "        </tr>\n",
       "    </thead>\n",
       "    <tbody>\n",
       "        <tr>\n",
       "            <td>843514</td>\n",
       "        </tr>\n",
       "    </tbody>\n",
       "</table>"
      ],
      "text/plain": [
       "[(843514,)]"
      ]
     },
     "execution_count": 95,
     "metadata": {},
     "output_type": "execute_result"
    }
   ],
   "source": [
    "%%sql\n",
    "SELECT\n",
    "    COUNT(crime_key) AS total_crimes\n",
    "FROM\n",
    "    fact_table;\n"
   ]
  },
  {
   "cell_type": "markdown",
   "id": "e2e35d3e-2b96-4403-a0dd-4faea2fb9d23",
   "metadata": {},
   "source": [
    "Total Number of Crimes with Respect to Each Year:"
   ]
  },
  {
   "cell_type": "code",
   "execution_count": 96,
   "id": "bb387eab-a87f-403a-9ab6-c59d52dde809",
   "metadata": {},
   "outputs": [
    {
     "name": "stdout",
     "output_type": "stream",
     "text": [
      " * postgresql://student@/group15final\n",
      "4 rows affected.\n"
     ]
    },
    {
     "data": {
      "text/html": [
       "<table>\n",
       "    <thead>\n",
       "        <tr>\n",
       "            <th>year</th>\n",
       "            <th>total_crimes</th>\n",
       "        </tr>\n",
       "    </thead>\n",
       "    <tbody>\n",
       "        <tr>\n",
       "            <td>2020</td>\n",
       "            <td>199457</td>\n",
       "        </tr>\n",
       "        <tr>\n",
       "            <td>2021</td>\n",
       "            <td>209426</td>\n",
       "        </tr>\n",
       "        <tr>\n",
       "            <td>2022</td>\n",
       "            <td>234375</td>\n",
       "        </tr>\n",
       "        <tr>\n",
       "            <td>2023</td>\n",
       "            <td>200256</td>\n",
       "        </tr>\n",
       "    </tbody>\n",
       "</table>"
      ],
      "text/plain": [
       "[(2020, 199457), (2021, 209426), (2022, 234375), (2023, 200256)]"
      ]
     },
     "execution_count": 96,
     "metadata": {},
     "output_type": "execute_result"
    }
   ],
   "source": [
    "%%sql\n",
    "SELECT\n",
    "    date.year,\n",
    "    COUNT(ft.crime_key) AS total_crimes\n",
    "FROM\n",
    "    fact_table ft\n",
    "JOIN\n",
    "    date ON ft.date_occ_key = date.key\n",
    "GROUP BY\n",
    "    date.year;\n"
   ]
  },
  {
   "cell_type": "code",
   "execution_count": 16,
   "id": "23155699",
   "metadata": {},
   "outputs": [
    {
     "data": {
      "image/png": "[encoded data removed]",
      "text/plain": [
       "<Figure size 720x432 with 1 Axes>"
      ]
     },
     "metadata": {
      "needs_background": "light"
     },
     "output_type": "display_data"
    }
   ],
   "source": [
    "import matplotlib.pyplot as plt\n",
    "\n",
    "# data from the results of above question\n",
    "years = [2020, 2021, 2022, 2023]\n",
    "total_crimes = [199457, 209426, 234375, 200256]\n",
    "\n",
    "plt.figure(figsize=(10, 6))\n",
    "\n",
    "#plotting a line plot with dot mamarkers \n",
    "plt.plot([str(year) for year in years], total_crimes, marker='o', linestyle='-')\n",
    "\n",
    "#adding labels to the plot\n",
    "plt.xlabel('Year')\n",
    "plt.ylabel('Total Crimes')\n",
    "plt.title('Total Crimes Over the Years')\n",
    "\n",
    "plt.show()"
   ]
  },
  {
   "cell_type": "markdown",
   "id": "2e16c61e-a7bd-4f20-b66e-df0c0d521b52",
   "metadata": {},
   "source": [
    "Total Number of Crimes with Respect to Each Quarter "
   ]
  },
  {
   "cell_type": "code",
   "execution_count": 100,
   "id": "d3eaf4cb-ed66-4259-9954-dfc73e1cb405",
   "metadata": {},
   "outputs": [
    {
     "name": "stdout",
     "output_type": "stream",
     "text": [
      " * postgresql://student@/group15final\n",
      "16 rows affected.\n"
     ]
    },
    {
     "data": {
      "text/html": [
       "<table>\n",
       "    <thead>\n",
       "        <tr>\n",
       "            <th>year</th>\n",
       "            <th>quarter_of_year</th>\n",
       "            <th>total_crimes</th>\n",
       "        </tr>\n",
       "    </thead>\n",
       "    <tbody>\n",
       "        <tr>\n",
       "            <td>2020</td>\n",
       "            <td>1</td>\n",
       "            <td>51910</td>\n",
       "        </tr>\n",
       "        <tr>\n",
       "            <td>2020</td>\n",
       "            <td>2</td>\n",
       "            <td>49917</td>\n",
       "        </tr>\n",
       "        <tr>\n",
       "            <td>2020</td>\n",
       "            <td>3</td>\n",
       "            <td>49626</td>\n",
       "        </tr>\n",
       "        <tr>\n",
       "            <td>2020</td>\n",
       "            <td>4</td>\n",
       "            <td>48004</td>\n",
       "        </tr>\n",
       "        <tr>\n",
       "            <td>2021</td>\n",
       "            <td>1</td>\n",
       "            <td>48278</td>\n",
       "        </tr>\n",
       "        <tr>\n",
       "            <td>2021</td>\n",
       "            <td>2</td>\n",
       "            <td>50197</td>\n",
       "        </tr>\n",
       "        <tr>\n",
       "            <td>2021</td>\n",
       "            <td>3</td>\n",
       "            <td>55390</td>\n",
       "        </tr>\n",
       "        <tr>\n",
       "            <td>2021</td>\n",
       "            <td>4</td>\n",
       "            <td>55561</td>\n",
       "        </tr>\n",
       "        <tr>\n",
       "            <td>2022</td>\n",
       "            <td>1</td>\n",
       "            <td>55826</td>\n",
       "        </tr>\n",
       "        <tr>\n",
       "            <td>2022</td>\n",
       "            <td>2</td>\n",
       "            <td>60394</td>\n",
       "        </tr>\n",
       "        <tr>\n",
       "            <td>2022</td>\n",
       "            <td>3</td>\n",
       "            <td>59301</td>\n",
       "        </tr>\n",
       "        <tr>\n",
       "            <td>2022</td>\n",
       "            <td>4</td>\n",
       "            <td>58854</td>\n",
       "        </tr>\n",
       "        <tr>\n",
       "            <td>2023</td>\n",
       "            <td>1</td>\n",
       "            <td>56945</td>\n",
       "        </tr>\n",
       "        <tr>\n",
       "            <td>2023</td>\n",
       "            <td>2</td>\n",
       "            <td>55968</td>\n",
       "        </tr>\n",
       "        <tr>\n",
       "            <td>2023</td>\n",
       "            <td>3</td>\n",
       "            <td>58083</td>\n",
       "        </tr>\n",
       "        <tr>\n",
       "            <td>2023</td>\n",
       "            <td>4</td>\n",
       "            <td>29260</td>\n",
       "        </tr>\n",
       "    </tbody>\n",
       "</table>"
      ],
      "text/plain": [
       "[(2020, 1, 51910),\n",
       " (2020, 2, 49917),\n",
       " (2020, 3, 49626),\n",
       " (2020, 4, 48004),\n",
       " (2021, 1, 48278),\n",
       " (2021, 2, 50197),\n",
       " (2021, 3, 55390),\n",
       " (2021, 4, 55561),\n",
       " (2022, 1, 55826),\n",
       " (2022, 2, 60394),\n",
       " (2022, 3, 59301),\n",
       " (2022, 4, 58854),\n",
       " (2023, 1, 56945),\n",
       " (2023, 2, 55968),\n",
       " (2023, 3, 58083),\n",
       " (2023, 4, 29260)]"
      ]
     },
     "execution_count": 100,
     "metadata": {},
     "output_type": "execute_result"
    }
   ],
   "source": [
    "%%sql\n",
    "SELECT\n",
    "    date.year,\n",
    "    date.quarter_of_year,\n",
    "    COUNT(fact_table.crime_key) AS total_crimes\n",
    "FROM\n",
    "    fact_table\n",
    "JOIN\n",
    "    date ON fact_table.date_occ_key = date.key\n",
    "GROUP BY\n",
    "    date.year, date.quarter_of_year\n",
    "ORDER BY\n",
    "    date.year, date.quarter_of_year;\n"
   ]
  },
  {
   "cell_type": "code",
   "execution_count": 15,
   "id": "9cae32c6",
   "metadata": {},
   "outputs": [
    {
     "data": {
      "image/png": "[encoded data removed]",
      "text/plain": [
       "<Figure size 720x432 with 1 Axes>"
      ]
     },
     "metadata": {
      "needs_background": "light"
     },
     "output_type": "display_data"
    }
   ],
   "source": [
    "\n",
    "years = [2020, 2020, 2020, 2020, 2021, 2021, 2021, 2021, 2022,\n",
    "         2022, 2022, 2022, 2023, 2023, 2023, 2023]\n",
    "quarters = [1, 2, 3, 4, 1, 2, 3, 4, 1, 2, 3, 4, 1, 2, 3, 4]\n",
    "total_crimes = [51910, 49917, 49626, 48004, 48278, 50197, 55390, 55561,\n",
    "                55826, 60394, 59301, 58854, 56945, 55968, 58083, 29260]\n",
    "\n",
    "#we can combine the year and quarter year information into one varibale to show them on x lable\n",
    "x_labels = [f\"{year} Q{quarter}\" for year, quarter in zip(years, quarters)]\n",
    "\n",
    "plt.figure(figsize=(10, 6))\n",
    "#creat line plot for each quarter year of year.\n",
    "plt.plot(x_labels, total_crimes, marker='o', linestyle='-')\n",
    "\n",
    "#adding lables to the plot\n",
    "plt.xlabel('Year and Quarter')\n",
    "plt.ylabel('Total Crimes')\n",
    "plt.title('Total Crimes Over the Years and Quarters')\n",
    "\n",
    "# rotating x lables so it will be easy to read. \n",
    "plt.xticks(rotation=45, ha='right')\n",
    "\n",
    "plt.show()"
   ]
  },
  {
   "cell_type": "markdown",
   "id": "1fcb0a70-8c26-40a3-ad6d-62d28ca8c28d",
   "metadata": {},
   "source": [
    "Total Number of Crimes with Respect to Each Month"
   ]
  },
  {
   "cell_type": "code",
   "execution_count": 102,
   "id": "02f1b338-75d9-4dce-9ae8-64b2bb81b1be",
   "metadata": {},
   "outputs": [
    {
     "name": "stdout",
     "output_type": "stream",
     "text": [
      " * postgresql://student@/group15final\n",
      "7 rows affected.\n"
     ]
    },
    {
     "data": {
      "text/html": [
       "<table>\n",
       "    <thead>\n",
       "        <tr>\n",
       "            <th>year</th>\n",
       "            <th>month_of_year_str</th>\n",
       "            <th>total_crimes</th>\n",
       "        </tr>\n",
       "    </thead>\n",
       "    <tbody>\n",
       "        <tr>\n",
       "            <td>2022</td>\n",
       "            <td>May      </td>\n",
       "            <td>20413</td>\n",
       "        </tr>\n",
       "        <tr>\n",
       "            <td>2022</td>\n",
       "            <td>October  </td>\n",
       "            <td>20263</td>\n",
       "        </tr>\n",
       "        <tr>\n",
       "            <td>2022</td>\n",
       "            <td>June     </td>\n",
       "            <td>20197</td>\n",
       "        </tr>\n",
       "        <tr>\n",
       "            <td>2022</td>\n",
       "            <td>August   </td>\n",
       "            <td>20077</td>\n",
       "        </tr>\n",
       "        <tr>\n",
       "            <td>2022</td>\n",
       "            <td>July     </td>\n",
       "            <td>19948</td>\n",
       "        </tr>\n",
       "        <tr>\n",
       "            <td>2022</td>\n",
       "            <td>December </td>\n",
       "            <td>19912</td>\n",
       "        </tr>\n",
       "        <tr>\n",
       "            <td>2022</td>\n",
       "            <td>April    </td>\n",
       "            <td>19784</td>\n",
       "        </tr>\n",
       "    </tbody>\n",
       "</table>"
      ],
      "text/plain": [
       "[(2022, 'May      ', 20413),\n",
       " (2022, 'October  ', 20263),\n",
       " (2022, 'June     ', 20197),\n",
       " (2022, 'August   ', 20077),\n",
       " (2022, 'July     ', 19948),\n",
       " (2022, 'December ', 19912),\n",
       " (2022, 'April    ', 19784)]"
      ]
     },
     "execution_count": 102,
     "metadata": {},
     "output_type": "execute_result"
    }
   ],
   "source": [
    "%%sql\n",
    "SELECT\n",
    "    date.year,\n",
    "    date.month_of_year_str,\n",
    "    COUNT(ft.crime_key) AS total_crimes\n",
    "FROM\n",
    "    fact_table ft\n",
    "JOIN\n",
    "    date ON ft.date_occ_key = date.key\n",
    "GROUP BY\n",
    "    date.year, date.month_of_year_str\n",
    "ORDER BY\n",
    "    total_crimes desc limit 7;\n"
   ]
  },
  {
   "cell_type": "code",
   "execution_count": 14,
   "id": "e9c4ba55",
   "metadata": {},
   "outputs": [
    {
     "data": {
      "image/png": "[encoded data removed]",
      "text/plain": [
       "<Figure size 720x432 with 1 Axes>"
      ]
     },
     "metadata": {
      "needs_background": "light"
     },
     "output_type": "display_data"
    }
   ],
   "source": [
    "months = ['May', 'October', 'June', 'August', 'July', 'December', 'April']\n",
    "total_crimes = [20413, 20263, 20197, 20077, 19948, 19912, 19784]\n",
    "\n",
    "plt.figure(figsize=(10, 6))\n",
    "plt.plot(months, total_crimes, marker='o', linestyle='-')\n",
    "\n",
    "plt.xlabel('Month')\n",
    "plt.ylabel('Total Crimes')\n",
    "plt.title('Total Crimes Over months of 2022')\n",
    "\n",
    "plt.xticks(rotation=45, ha='right')\n",
    "\n",
    "plt.show()"
   ]
  },
  {
   "cell_type": "markdown",
   "id": "b06ce5cb-9bd2-4261-89e5-5a8a5f1ded49",
   "metadata": {},
   "source": [
    "### Which areas or neighborhoods have the highest and lowest crime rates?"
   ]
  },
  {
   "cell_type": "markdown",
   "id": "c07029cc-02bb-49fc-a137-bf259d29dfca",
   "metadata": {},
   "source": [
    "Crime Distribution with Respect to the Area:"
   ]
  },
  {
   "cell_type": "markdown",
   "id": "48a96d07-1ff2-468d-832b-85304c841352",
   "metadata": {},
   "source": [
    "Top Crime 7 Areas:"
   ]
  },
  {
   "cell_type": "code",
   "execution_count": 103,
   "id": "484b95b6-c6c9-45e0-b86d-c7761d948eb3",
   "metadata": {},
   "outputs": [
    {
     "name": "stdout",
     "output_type": "stream",
     "text": [
      " * postgresql://student@/group15final\n",
      "7 rows affected.\n"
     ]
    },
    {
     "data": {
      "text/html": [
       "<table>\n",
       "    <thead>\n",
       "        <tr>\n",
       "            <th>area_name</th>\n",
       "            <th>total_crimes</th>\n",
       "        </tr>\n",
       "    </thead>\n",
       "    <tbody>\n",
       "        <tr>\n",
       "            <td>Central                                                                                                                                                                                                                                                        </td>\n",
       "            <td>56942</td>\n",
       "        </tr>\n",
       "        <tr>\n",
       "            <td>77th Street                                                                                                                                                                                                                                                    </td>\n",
       "            <td>53096</td>\n",
       "        </tr>\n",
       "        <tr>\n",
       "            <td>Pacific                                                                                                                                                                                                                                                        </td>\n",
       "            <td>49307</td>\n",
       "        </tr>\n",
       "        <tr>\n",
       "            <td>Southwest                                                                                                                                                                                                                                                      </td>\n",
       "            <td>47355</td>\n",
       "        </tr>\n",
       "        <tr>\n",
       "            <td>Hollywood                                                                                                                                                                                                                                                      </td>\n",
       "            <td>44636</td>\n",
       "        </tr>\n",
       "        <tr>\n",
       "            <td>Southeast                                                                                                                                                                                                                                                      </td>\n",
       "            <td>42906</td>\n",
       "        </tr>\n",
       "        <tr>\n",
       "            <td>Olympic                                                                                                                                                                                                                                                        </td>\n",
       "            <td>42540</td>\n",
       "        </tr>\n",
       "    </tbody>\n",
       "</table>"
      ],
      "text/plain": [
       "[('Central                                                                                                                                                                                                                                                        ', 56942),\n",
       " ('77th Street                                                                                                                                                                                                                                                    ', 53096),\n",
       " ('Pacific                                                                                                                                                                                                                                                        ', 49307),\n",
       " ('Southwest                                                                                                                                                                                                                                                      ', 47355),\n",
       " ('Hollywood                                                                                                                                                                                                                                                      ', 44636),\n",
       " ('Southeast                                                                                                                                                                                                                                                      ', 42906),\n",
       " ('Olympic                                                                                                                                                                                                                                                        ', 42540)]"
      ]
     },
     "execution_count": 103,
     "metadata": {},
     "output_type": "execute_result"
    }
   ],
   "source": [
    "%%sql\n",
    "SELECT\n",
    "    lt.area_name,\n",
    "    COUNT(ft.crime_key) AS total_crimes\n",
    "FROM\n",
    "    fact_table ft\n",
    "JOIN\n",
    "    location_table lt ON ft.location_key = lt.location_key\n",
    "GROUP BY\n",
    "    lt.area_name\n",
    "ORDER BY\n",
    "    total_crimes DESC LIMIT 7;\n"
   ]
  },
  {
   "cell_type": "code",
   "execution_count": 17,
   "id": "37548e64",
   "metadata": {},
   "outputs": [
    {
     "data": {
      "image/png": "[encoded data removed]",
      "text/plain": [
       "<Figure size 720x432 with 1 Axes>"
      ]
     },
     "metadata": {
      "needs_background": "light"
     },
     "output_type": "display_data"
    }
   ],
   "source": [
    "areas = ['Central', '77th Street', 'Pacific', 'Southwest', \n",
    "         'Hollywood', 'Southeast', 'Olympic']\n",
    "total_crimes = [56942, 53096, 49307, 47355, 44636, 42906, 42540]\n",
    "\n",
    "#ploting bar chart\n",
    "plt.figure(figsize=(10, 6))\n",
    "plt.bar(areas, total_crimes, color='skyblue')\n",
    "\n",
    "#adding title and lables\n",
    "plt.xlabel('Areas or Neighborhoods')\n",
    "plt.ylabel('Total Crimes')\n",
    "plt.title('Total Crimes by Area or Neighborhood')\n",
    "\n",
    "\n",
    "plt.xticks(rotation=45, ha='right')\n",
    "plt.show()"
   ]
  },
  {
   "cell_type": "markdown",
   "id": "474414ff-4d7b-425b-bae4-cf2fac170608",
   "metadata": {},
   "source": [
    "Bottom 7 Crime Areas:"
   ]
  },
  {
   "cell_type": "code",
   "execution_count": 106,
   "id": "ccddc165-38c3-432d-83aa-8c153bd7bf68",
   "metadata": {},
   "outputs": [
    {
     "name": "stdout",
     "output_type": "stream",
     "text": [
      " * postgresql://student@/group15final\n",
      "7 rows affected.\n"
     ]
    },
    {
     "data": {
      "text/html": [
       "<table>\n",
       "    <thead>\n",
       "        <tr>\n",
       "            <th>area_name</th>\n",
       "            <th>total_crimes</th>\n",
       "        </tr>\n",
       "    </thead>\n",
       "    <tbody>\n",
       "        <tr>\n",
       "            <td>Foothill                                                                                                                                                                                                                                                       </td>\n",
       "            <td>28075</td>\n",
       "        </tr>\n",
       "        <tr>\n",
       "            <td>Hollenbeck                                                                                                                                                                                                                                                     </td>\n",
       "            <td>31608</td>\n",
       "        </tr>\n",
       "        <tr>\n",
       "            <td>Mission                                                                                                                                                                                                                                                        </td>\n",
       "            <td>33592</td>\n",
       "        </tr>\n",
       "        <tr>\n",
       "            <td>Devonshire                                                                                                                                                                                                                                                     </td>\n",
       "            <td>34198</td>\n",
       "        </tr>\n",
       "        <tr>\n",
       "            <td>Topanga                                                                                                                                                                                                                                                        </td>\n",
       "            <td>34325</td>\n",
       "        </tr>\n",
       "        <tr>\n",
       "            <td>Harbor                                                                                                                                                                                                                                                         </td>\n",
       "            <td>34795</td>\n",
       "        </tr>\n",
       "        <tr>\n",
       "            <td>West Valley                                                                                                                                                                                                                                                    </td>\n",
       "            <td>35305</td>\n",
       "        </tr>\n",
       "    </tbody>\n",
       "</table>"
      ],
      "text/plain": [
       "[('Foothill                                                                                                                                                                                                                                                       ', 28075),\n",
       " ('Hollenbeck                                                                                                                                                                                                                                                     ', 31608),\n",
       " ('Mission                                                                                                                                                                                                                                                        ', 33592),\n",
       " ('Devonshire                                                                                                                                                                                                                                                     ', 34198),\n",
       " ('Topanga                                                                                                                                                                                                                                                        ', 34325),\n",
       " ('Harbor                                                                                                                                                                                                                                                         ', 34795),\n",
       " ('West Valley                                                                                                                                                                                                                                                    ', 35305)]"
      ]
     },
     "execution_count": 106,
     "metadata": {},
     "output_type": "execute_result"
    }
   ],
   "source": [
    "%%sql\n",
    "SELECT\n",
    "    lt.area_name,\n",
    "    COUNT(ft.crime_key) AS total_crimes\n",
    "FROM\n",
    "    fact_table ft\n",
    "JOIN\n",
    "    location_table lt ON ft.location_key = lt.location_key\n",
    "GROUP BY\n",
    "    lt.area_name\n",
    "ORDER BY\n",
    "    total_crimes ASC LIMIT 7;"
   ]
  },
  {
   "cell_type": "markdown",
   "id": "9039dcbf-6a05-499a-8d24-68aec61de08d",
   "metadata": {},
   "source": [
    "Number of Crimes for Top 5 Areas with respect to the years\n",
    "\n"
   ]
  },
  {
   "cell_type": "code",
   "execution_count": 105,
   "id": "4c9e9d7e-c637-4918-9b6b-df2f5791b79c",
   "metadata": {},
   "outputs": [
    {
     "name": "stdout",
     "output_type": "stream",
     "text": [
      " * postgresql://student@/group15final\n",
      "16 rows affected.\n"
     ]
    },
    {
     "data": {
      "text/html": [
       "<table>\n",
       "    <thead>\n",
       "        <tr>\n",
       "            <th>area_name</th>\n",
       "            <th>year</th>\n",
       "            <th>total_crimes</th>\n",
       "        </tr>\n",
       "    </thead>\n",
       "    <tbody>\n",
       "        <tr>\n",
       "            <td>77th Street                                                                                                                                                                                                                                                    </td>\n",
       "            <td>2020</td>\n",
       "            <td>13303</td>\n",
       "        </tr>\n",
       "        <tr>\n",
       "            <td>Central                                                                                                                                                                                                                                                        </td>\n",
       "            <td>2020</td>\n",
       "            <td>11589</td>\n",
       "        </tr>\n",
       "        <tr>\n",
       "            <td>Pacific                                                                                                                                                                                                                                                        </td>\n",
       "            <td>2020</td>\n",
       "            <td>11559</td>\n",
       "        </tr>\n",
       "        <tr>\n",
       "            <td>Southwest                                                                                                                                                                                                                                                      </td>\n",
       "            <td>2020</td>\n",
       "            <td>11155</td>\n",
       "        </tr>\n",
       "        <tr>\n",
       "            <td>Central                                                                                                                                                                                                                                                        </td>\n",
       "            <td>2021</td>\n",
       "            <td>13153</td>\n",
       "        </tr>\n",
       "        <tr>\n",
       "            <td>77th Street                                                                                                                                                                                                                                                    </td>\n",
       "            <td>2021</td>\n",
       "            <td>13074</td>\n",
       "        </tr>\n",
       "        <tr>\n",
       "            <td>Pacific                                                                                                                                                                                                                                                        </td>\n",
       "            <td>2021</td>\n",
       "            <td>12916</td>\n",
       "        </tr>\n",
       "        <tr>\n",
       "            <td>Southwest                                                                                                                                                                                                                                                      </td>\n",
       "            <td>2021</td>\n",
       "            <td>11390</td>\n",
       "        </tr>\n",
       "        <tr>\n",
       "            <td>Central                                                                                                                                                                                                                                                        </td>\n",
       "            <td>2022</td>\n",
       "            <td>17671</td>\n",
       "        </tr>\n",
       "        <tr>\n",
       "            <td>77th Street                                                                                                                                                                                                                                                    </td>\n",
       "            <td>2022</td>\n",
       "            <td>14530</td>\n",
       "        </tr>\n",
       "        <tr>\n",
       "            <td>Southwest                                                                                                                                                                                                                                                      </td>\n",
       "            <td>2022</td>\n",
       "            <td>13366</td>\n",
       "        </tr>\n",
       "        <tr>\n",
       "            <td>Pacific                                                                                                                                                                                                                                                        </td>\n",
       "            <td>2022</td>\n",
       "            <td>13010</td>\n",
       "        </tr>\n",
       "        <tr>\n",
       "            <td>Central                                                                                                                                                                                                                                                        </td>\n",
       "            <td>2023</td>\n",
       "            <td>14529</td>\n",
       "        </tr>\n",
       "        <tr>\n",
       "            <td>77th Street                                                                                                                                                                                                                                                    </td>\n",
       "            <td>2023</td>\n",
       "            <td>12189</td>\n",
       "        </tr>\n",
       "        <tr>\n",
       "            <td>Pacific                                                                                                                                                                                                                                                        </td>\n",
       "            <td>2023</td>\n",
       "            <td>11822</td>\n",
       "        </tr>\n",
       "        <tr>\n",
       "            <td>Southwest                                                                                                                                                                                                                                                      </td>\n",
       "            <td>2023</td>\n",
       "            <td>11444</td>\n",
       "        </tr>\n",
       "    </tbody>\n",
       "</table>"
      ],
      "text/plain": [
       "[('77th Street                                                                                                                                                                                                                                                    ', 2020, 13303),\n",
       " ('Central                                                                                                                                                                                                                                                        ', 2020, 11589),\n",
       " ('Pacific                                                                                                                                                                                                                                                        ', 2020, 11559),\n",
       " ('Southwest                                                                                                                                                                                                                                                      ', 2020, 11155),\n",
       " ('Central                                                                                                                                                                                                                                                        ', 2021, 13153),\n",
       " ('77th Street                                                                                                                                                                                                                                                    ', 2021, 13074),\n",
       " ('Pacific                                                                                                                                                                                                                                                        ', 2021, 12916),\n",
       " ('Southwest                                                                                                                                                                                                                                                      ', 2021, 11390),\n",
       " ('Central                                                                                                                                                                                                                                                        ', 2022, 17671),\n",
       " ('77th Street                                                                                                                                                                                                                                                    ', 2022, 14530),\n",
       " ('Southwest                                                                                                                                                                                                                                                      ', 2022, 13366),\n",
       " ('Pacific                                                                                                                                                                                                                                                        ', 2022, 13010),\n",
       " ('Central                                                                                                                                                                                                                                                        ', 2023, 14529),\n",
       " ('77th Street                                                                                                                                                                                                                                                    ', 2023, 12189),\n",
       " ('Pacific                                                                                                                                                                                                                                                        ', 2023, 11822),\n",
       " ('Southwest                                                                                                                                                                                                                                                      ', 2023, 11444)]"
      ]
     },
     "execution_count": 105,
     "metadata": {},
     "output_type": "execute_result"
    }
   ],
   "source": [
    "%%sql\n",
    "WITH TopAreas AS (\n",
    "    SELECT\n",
    "        lt.area_name,\n",
    "        COUNT(ft.crime_key) AS total_crimes\n",
    "    FROM\n",
    "        fact_table ft\n",
    "    JOIN\n",
    "        location_table lt ON ft.location_key = lt.location_key\n",
    "    GROUP BY\n",
    "        lt.area_name\n",
    "    ORDER BY\n",
    "        total_crimes DESC\n",
    "    LIMIT 4\n",
    ")\n",
    "\n",
    "SELECT\n",
    "    ta.area_name,\n",
    "    date.year,\n",
    "    COUNT(ft.crime_key) AS total_crimes\n",
    "FROM\n",
    "    fact_table ft\n",
    "JOIN\n",
    "    location_table lt ON ft.location_key = lt.location_key\n",
    "JOIN\n",
    "    date ON ft.date_occ_key = date.key\n",
    "JOIN\n",
    "    TopAreas ta ON lt.area_name = ta.area_name\n",
    "GROUP BY\n",
    "    ta.area_name, date.year\n",
    "ORDER BY\n",
    "     date.year, total_crimes desc;\n"
   ]
  },
  {
   "cell_type": "code",
   "execution_count": 32,
   "id": "64822010",
   "metadata": {},
   "outputs": [
    {
     "name": "stdout",
     "output_type": "stream",
     "text": [
      "[0 1 2 3]\n"
     ]
    },
    {
     "data": {
      "image/png": "[encoded data removed]",
      "text/plain": [
       "<Figure size 720x432 with 1 Axes>"
      ]
     },
     "metadata": {
      "needs_background": "light"
     },
     "output_type": "display_data"
    }
   ],
   "source": [
    "import numpy as np\n",
    "\n",
    "areas = ['77th Street', 'Central', 'Pacific', 'Southwest']\n",
    "years = [2020, 2021, 2022, 2023]\n",
    "\n",
    "total_crimes_data = np.array([\n",
    "    [13303, 11589, 11559, 11155],\n",
    "    [13074, 13153, 12916, 11390],\n",
    "    [14530, 17671, 13010, 11822],\n",
    "    [12189, 14529, 11822, 11444]\n",
    "])\n",
    "\n",
    "bar_width = 0.2\n",
    "bar_positions = np.arange(len(areas))\n",
    "\n",
    "\n",
    "fig, ax = plt.subplots(figsize=(10, 6))\n",
    "\n",
    "for i, year in enumerate(years):\n",
    "    ax.bar(bar_positions + i * bar_width, total_crimes_data[i], bar_width, label=f'Year {year}')\n",
    "\n",
    "ax.set_xlabel('Areas or Neighborhoods')\n",
    "ax.set_ylabel('Total Crimes')\n",
    "ax.set_title('Total Crimes by Area and Year')\n",
    "ax.set_xticks(bar_positions + (len(years) - 1) * bar_width / 2)\n",
    "ax.set_xticklabels(areas)\n",
    "ax.legend()\n",
    "\n",
    "plt.show()\n"
   ]
  },
  {
   "cell_type": "markdown",
   "id": "8dcd820f-bfa6-446b-97d6-cd09caf6a18b",
   "metadata": {},
   "source": [
    "Crime Type Dominance by Area"
   ]
  },
  {
   "cell_type": "code",
   "execution_count": 111,
   "id": "27a5ba63-2741-482b-b759-5208a5e08601",
   "metadata": {},
   "outputs": [
    {
     "name": "stdout",
     "output_type": "stream",
     "text": [
      " * postgresql://student@/group15final\n",
      "21 rows affected.\n"
     ]
    },
    {
     "data": {
      "text/html": [
       "<table>\n",
       "    <thead>\n",
       "        <tr>\n",
       "            <th>area_name</th>\n",
       "            <th>highest_crime_type</th>\n",
       "            <th>total_crimes</th>\n",
       "        </tr>\n",
       "    </thead>\n",
       "    <tbody>\n",
       "        <tr>\n",
       "            <td>77th Street                                                                                                                                                                                                                                                    </td>\n",
       "            <td>VEHICLE - STOLEN                                                                                                                                                                                        </td>\n",
       "            <td>6961</td>\n",
       "        </tr>\n",
       "        <tr>\n",
       "            <td>Central                                                                                                                                                                                                                                                        </td>\n",
       "            <td>BURGLARY FROM VEHICLE                                                                                                                                                                                   </td>\n",
       "            <td>7960</td>\n",
       "        </tr>\n",
       "        <tr>\n",
       "            <td>Devonshire                                                                                                                                                                                                                                                     </td>\n",
       "            <td>VEHICLE - STOLEN                                                                                                                                                                                        </td>\n",
       "            <td>3124</td>\n",
       "        </tr>\n",
       "        <tr>\n",
       "            <td>Foothill                                                                                                                                                                                                                                                       </td>\n",
       "            <td>VEHICLE - STOLEN                                                                                                                                                                                        </td>\n",
       "            <td>3537</td>\n",
       "        </tr>\n",
       "        <tr>\n",
       "            <td>Harbor                                                                                                                                                                                                                                                         </td>\n",
       "            <td>VEHICLE - STOLEN                                                                                                                                                                                        </td>\n",
       "            <td>4846</td>\n",
       "        </tr>\n",
       "        <tr>\n",
       "            <td>Hollenbeck                                                                                                                                                                                                                                                     </td>\n",
       "            <td>VEHICLE - STOLEN                                                                                                                                                                                        </td>\n",
       "            <td>4997</td>\n",
       "        </tr>\n",
       "        <tr>\n",
       "            <td>Hollywood                                                                                                                                                                                                                                                      </td>\n",
       "            <td>BATTERY - SIMPLE ASSAULT                                                                                                                                                                                </td>\n",
       "            <td>4060</td>\n",
       "        </tr>\n",
       "        <tr>\n",
       "            <td>Mission                                                                                                                                                                                                                                                        </td>\n",
       "            <td>VEHICLE - STOLEN                                                                                                                                                                                        </td>\n",
       "            <td>4599</td>\n",
       "        </tr>\n",
       "        <tr>\n",
       "            <td>N Hollywood                                                                                                                                                                                                                                                    </td>\n",
       "            <td>VEHICLE - STOLEN                                                                                                                                                                                        </td>\n",
       "            <td>3904</td>\n",
       "        </tr>\n",
       "        <tr>\n",
       "            <td>Newton                                                                                                                                                                                                                                                         </td>\n",
       "            <td>VEHICLE - STOLEN                                                                                                                                                                                        </td>\n",
       "            <td>6626</td>\n",
       "        </tr>\n",
       "        <tr>\n",
       "            <td>Northeast                                                                                                                                                                                                                                                      </td>\n",
       "            <td>VEHICLE - STOLEN                                                                                                                                                                                        </td>\n",
       "            <td>4290</td>\n",
       "        </tr>\n",
       "        <tr>\n",
       "            <td>Olympic                                                                                                                                                                                                                                                        </td>\n",
       "            <td>VEHICLE - STOLEN                                                                                                                                                                                        </td>\n",
       "            <td>4588</td>\n",
       "        </tr>\n",
       "        <tr>\n",
       "            <td>Pacific                                                                                                                                                                                                                                                        </td>\n",
       "            <td>VEHICLE - STOLEN                                                                                                                                                                                        </td>\n",
       "            <td>5177</td>\n",
       "        </tr>\n",
       "        <tr>\n",
       "            <td>Rampart                                                                                                                                                                                                                                                        </td>\n",
       "            <td>VEHICLE - STOLEN                                                                                                                                                                                        </td>\n",
       "            <td>4313</td>\n",
       "        </tr>\n",
       "        <tr>\n",
       "            <td>Southeast                                                                                                                                                                                                                                                      </td>\n",
       "            <td>VEHICLE - STOLEN                                                                                                                                                                                        </td>\n",
       "            <td>5763</td>\n",
       "        </tr>\n",
       "        <tr>\n",
       "            <td>Southwest                                                                                                                                                                                                                                                      </td>\n",
       "            <td>VEHICLE - STOLEN                                                                                                                                                                                        </td>\n",
       "            <td>5138</td>\n",
       "        </tr>\n",
       "        <tr>\n",
       "            <td>Topanga                                                                                                                                                                                                                                                        </td>\n",
       "            <td>BURGLARY                                                                                                                                                                                                </td>\n",
       "            <td>2828</td>\n",
       "        </tr>\n",
       "        <tr>\n",
       "            <td>Van Nuys                                                                                                                                                                                                                                                       </td>\n",
       "            <td>VEHICLE - STOLEN                                                                                                                                                                                        </td>\n",
       "            <td>3600</td>\n",
       "        </tr>\n",
       "        <tr>\n",
       "            <td>West LA                                                                                                                                                                                                                                                        </td>\n",
       "            <td>BURGLARY                                                                                                                                                                                                </td>\n",
       "            <td>3970</td>\n",
       "        </tr>\n",
       "        <tr>\n",
       "            <td>West Valley                                                                                                                                                                                                                                                    </td>\n",
       "            <td>VEHICLE - STOLEN                                                                                                                                                                                        </td>\n",
       "            <td>3345</td>\n",
       "        </tr>\n",
       "        <tr>\n",
       "            <td>Wilshire                                                                                                                                                                                                                                                       </td>\n",
       "            <td>VEHICLE - STOLEN                                                                                                                                                                                        </td>\n",
       "            <td>3299</td>\n",
       "        </tr>\n",
       "    </tbody>\n",
       "</table>"
      ],
      "text/plain": [
       "[('77th Street                                                                                                                                                                                                                                                    ', 'VEHICLE - STOLEN                                                                                                                                                                                        ', 6961),\n",
       " ('Central                                                                                                                                                                                                                                                        ', 'BURGLARY FROM VEHICLE                                                                                                                                                                                   ', 7960),\n",
       " ('Devonshire                                                                                                                                                                                                                                                     ', 'VEHICLE - STOLEN                                                                                                                                                                                        ', 3124),\n",
       " ('Foothill                                                                                                                                                                                                                                                       ', 'VEHICLE - STOLEN                                                                                                                                                                                        ', 3537),\n",
       " ('Harbor                                                                                                                                                                                                                                                         ', 'VEHICLE - STOLEN                                                                                                                                                                                        ', 4846),\n",
       " ('Hollenbeck                                                                                                                                                                                                                                                     ', 'VEHICLE - STOLEN                                                                                                                                                                                        ', 4997),\n",
       " ('Hollywood                                                                                                                                                                                                                                                      ', 'BATTERY - SIMPLE ASSAULT                                                                                                                                                                                ', 4060),\n",
       " ('Mission                                                                                                                                                                                                                                                        ', 'VEHICLE - STOLEN                                                                                                                                                                                        ', 4599),\n",
       " ('N Hollywood                                                                                                                                                                                                                                                    ', 'VEHICLE - STOLEN                                                                                                                                                                                        ', 3904),\n",
       " ('Newton                                                                                                                                                                                                                                                         ', 'VEHICLE - STOLEN                                                                                                                                                                                        ', 6626),\n",
       " ('Northeast                                                                                                                                                                                                                                                      ', 'VEHICLE - STOLEN                                                                                                                                                                                        ', 4290),\n",
       " ('Olympic                                                                                                                                                                                                                                                        ', 'VEHICLE - STOLEN                                                                                                                                                                                        ', 4588),\n",
       " ('Pacific                                                                                                                                                                                                                                                        ', 'VEHICLE - STOLEN                                                                                                                                                                                        ', 5177),\n",
       " ('Rampart                                                                                                                                                                                                                                                        ', 'VEHICLE - STOLEN                                                                                                                                                                                        ', 4313),\n",
       " ('Southeast                                                                                                                                                                                                                                                      ', 'VEHICLE - STOLEN                                                                                                                                                                                        ', 5763),\n",
       " ('Southwest                                                                                                                                                                                                                                                      ', 'VEHICLE - STOLEN                                                                                                                                                                                        ', 5138),\n",
       " ('Topanga                                                                                                                                                                                                                                                        ', 'BURGLARY                                                                                                                                                                                                ', 2828),\n",
       " ('Van Nuys                                                                                                                                                                                                                                                       ', 'VEHICLE - STOLEN                                                                                                                                                                                        ', 3600),\n",
       " ('West LA                                                                                                                                                                                                                                                        ', 'BURGLARY                                                                                                                                                                                                ', 3970),\n",
       " ('West Valley                                                                                                                                                                                                                                                    ', 'VEHICLE - STOLEN                                                                                                                                                                                        ', 3345),\n",
       " ('Wilshire                                                                                                                                                                                                                                                       ', 'VEHICLE - STOLEN                                                                                                                                                                                        ', 3299)]"
      ]
     },
     "execution_count": 111,
     "metadata": {},
     "output_type": "execute_result"
    }
   ],
   "source": [
    "%%sql\n",
    "WITH RankedCrimes AS (\n",
    "    SELECT\n",
    "        location_table.area_name,\n",
    "        crime_table.crm_cd_desc,\n",
    "        COUNT(fact_table.crime_key) AS total_crimes,\n",
    "        ROW_NUMBER() OVER (PARTITION BY location_table.area_name ORDER BY COUNT(fact_table.crime_key) DESC) AS crime_rank\n",
    "    FROM\n",
    "        fact_table\n",
    "    JOIN\n",
    "        location_table ON fact_table.location_key = location_table.location_key\n",
    "    JOIN\n",
    "        crime_table ON fact_table.crime_key = crime_table.crime_key\n",
    "    GROUP BY\n",
    "        location_table.area_name, crime_table.crm_cd_desc\n",
    ")\n",
    "\n",
    "SELECT\n",
    "    area_name,\n",
    "    crm_cd_desc AS highest_crime_type,\n",
    "    total_crimes\n",
    "FROM\n",
    "    RankedCrimes\n",
    "WHERE\n",
    "    crime_rank = 1;\n"
   ]
  },
  {
   "cell_type": "code",
   "execution_count": 27,
   "id": "be0eee08",
   "metadata": {},
   "outputs": [
    {
     "data": {
      "image/png": "[encoded data removed]",
      "text/plain": [
       "<Figure size 864x576 with 1 Axes>"
      ]
     },
     "metadata": {
      "needs_background": "light"
     },
     "output_type": "display_data"
    }
   ],
   "source": [
    "import matplotlib.pyplot as plt\n",
    "\n",
    "# results from above\n",
    "areas = ['77th Street', 'Central', 'Devonshire', 'Foothill', 'Harbor', 'Hollenbeck',\n",
    "         'Hollywood', 'Mission', 'N Hollywood', 'Newton', 'Northeast', 'Olympic',\n",
    "         'Pacific', 'Rampart', 'Southeast', 'Southwest', 'Topanga', 'Van Nuys',\n",
    "         'West LA', 'West Valley', 'Wilshire']\n",
    "\n",
    "highest_crime_types = ['VEHICLE - STOLEN', 'BURGLARY FROM VEHICLE', 'VEHICLE - STOLEN',\n",
    "                        'VEHICLE - STOLEN', 'VEHICLE - STOLEN', 'VEHICLE - STOLEN',\n",
    "                        'BATTERY - SIMPLE ASSAULT', 'VEHICLE - STOLEN', 'VEHICLE - STOLEN',\n",
    "                        'VEHICLE - STOLEN', 'VEHICLE - STOLEN', 'VEHICLE - STOLEN',\n",
    "                        'VEHICLE - STOLEN', 'VEHICLE - STOLEN', 'VEHICLE - STOLEN',\n",
    "                        'VEHICLE - STOLEN', 'BURGLARY', 'VEHICLE - STOLEN', 'BURGLARY',\n",
    "                        'VEHICLE - STOLEN', 'VEHICLE - STOLEN']\n",
    "\n",
    "\n",
    "total_crimes = [6961, 7960, 3124, 3537, 4846, 4997, 4060, 4599, 3904, 6626, 4290, 4588,\n",
    "                5177, 4313, 5763, 5138, 2828, 3600, 3970, 3345, 3299]\n",
    "\n",
    "# plot horizontal bar\n",
    "plt.figure(figsize=(12, 8))\n",
    "bars = plt.barh(areas, total_crimes, color='skyblue', edgecolor='black')\n",
    "\n",
    "# Annotating each bar with highest crime types value\n",
    "for bar, crime_type in zip(bars, highest_crime_types):\n",
    "    plt.text(bar.get_width() + 50, bar.get_y() + bar.get_height() / 2, crime_type,\n",
    "             ha='left', va='center', color='black', fontsize=8)\n",
    "\n",
    "\n",
    "# titles and lables\n",
    "plt.xlabel('Total Crimes')\n",
    "plt.ylabel('Areas or Neighborhoods')\n",
    "plt.title('Total Crimes by Area and Highest Crime Type')\n",
    "\n",
    "plt.gca().spines['top'].set_visible(False)\n",
    "plt.gca().spines['right'].set_visible(False)\n",
    "\n",
    "plt.show()"
   ]
  },
  {
   "cell_type": "markdown",
   "id": "ee925d6e-4ae1-4017-9db7-4c39aa287986",
   "metadata": {},
   "source": [
    "### What are the most common types of crimes, and how do they vary across different areas?"
   ]
  },
  {
   "cell_type": "code",
   "execution_count": 116,
   "id": "999846a5-b029-4f67-a64a-fcac1b9a2ecf",
   "metadata": {},
   "outputs": [
    {
     "name": "stdout",
     "output_type": "stream",
     "text": [
      " * postgresql://student@/group15final\n",
      "7 rows affected.\n"
     ]
    },
    {
     "data": {
      "text/html": [
       "<table>\n",
       "    <thead>\n",
       "        <tr>\n",
       "            <th>crm_cd_desc</th>\n",
       "            <th>total_crimes</th>\n",
       "        </tr>\n",
       "    </thead>\n",
       "    <tbody>\n",
       "        <tr>\n",
       "            <td>VEHICLE - STOLEN                                                                                                                                                                                        </td>\n",
       "            <td>90464</td>\n",
       "        </tr>\n",
       "        <tr>\n",
       "            <td>BATTERY - SIMPLE ASSAULT                                                                                                                                                                                </td>\n",
       "            <td>67300</td>\n",
       "        </tr>\n",
       "        <tr>\n",
       "            <td>THEFT OF IDENTITY                                                                                                                                                                                       </td>\n",
       "            <td>53026</td>\n",
       "        </tr>\n",
       "        <tr>\n",
       "            <td>BURGLARY FROM VEHICLE                                                                                                                                                                                   </td>\n",
       "            <td>51906</td>\n",
       "        </tr>\n",
       "        <tr>\n",
       "            <td>BURGLARY                                                                                                                                                                                                </td>\n",
       "            <td>51363</td>\n",
       "        </tr>\n",
       "        <tr>\n",
       "            <td>VANDALISM - FELONY ($400 &amp; OVER, ALL CHURCH VANDALISMS)                                                                                                                                                 </td>\n",
       "            <td>51318</td>\n",
       "        </tr>\n",
       "        <tr>\n",
       "            <td>ASSAULT WITH DEADLY WEAPON, AGGRAVATED ASSAULT                                                                                                                                                          </td>\n",
       "            <td>48470</td>\n",
       "        </tr>\n",
       "    </tbody>\n",
       "</table>"
      ],
      "text/plain": [
       "[('VEHICLE - STOLEN                                                                                                                                                                                        ', 90464),\n",
       " ('BATTERY - SIMPLE ASSAULT                                                                                                                                                                                ', 67300),\n",
       " ('THEFT OF IDENTITY                                                                                                                                                                                       ', 53026),\n",
       " ('BURGLARY FROM VEHICLE                                                                                                                                                                                   ', 51906),\n",
       " ('BURGLARY                                                                                                                                                                                                ', 51363),\n",
       " ('VANDALISM - FELONY ($400 & OVER, ALL CHURCH VANDALISMS)                                                                                                                                                 ', 51318),\n",
       " ('ASSAULT WITH DEADLY WEAPON, AGGRAVATED ASSAULT                                                                                                                                                          ', 48470)]"
      ]
     },
     "execution_count": 116,
     "metadata": {},
     "output_type": "execute_result"
    }
   ],
   "source": [
    "%%sql\n",
    "SELECT\n",
    "    crime_table.crm_cd_desc,\n",
    "    COUNT(fact_table.crime_key) AS total_crimes\n",
    "FROM\n",
    "    fact_table\n",
    "JOIN\n",
    "    crime_table ON fact_table.crime_key = crime_table.crime_key\n",
    "GROUP BY\n",
    "    crime_table.crm_cd_desc\n",
    "ORDER BY\n",
    "    total_crimes DESC LIMIT 7;\n"
   ]
  },
  {
   "cell_type": "code",
   "execution_count": 31,
   "id": "82699445",
   "metadata": {},
   "outputs": [
    {
     "data": {
      "image/png": "[encoded data removed]",
      "text/plain": [
       "<Figure size 864x576 with 1 Axes>"
      ]
     },
     "metadata": {
      "needs_background": "light"
     },
     "output_type": "display_data"
    }
   ],
   "source": [
    "#results\n",
    "crime_types = ['VEHICLE - STOLEN', 'BATTERY - SIMPLE ASSAULT', 'THEFT OF IDENTITY',\n",
    "               'BURGLARY FROM VEHICLE', 'BURGLARY',\n",
    "               'VANDALISM - FELONY \\n($400 & OVER, ALL CHURCH VANDALISMS)',\n",
    "               'ASSAULT WITH DEADLY WEAPON,\\n AGGRAVATED ASSAULT']\n",
    "\n",
    "total_crimes = [90464, 67300, 53026, 51906, 51363, 51318, 48470]\n",
    "\n",
    "#bar plots\n",
    "plt.figure(figsize=(12, 8))\n",
    "bars = plt.barh(crime_types, total_crimes, color='skyblue', edgecolor='black')\n",
    "\n",
    "# annotating the bars\n",
    "for bar, total in zip(bars, total_crimes):\n",
    "    plt.text(bar.get_width() + 500, bar.get_y() + bar.get_height() / 2, f'{total}',\n",
    "             ha='left', va='center', color='black', fontsize=8)\n",
    "\n",
    "#labels and title\n",
    "plt.xlabel('Total Crimes')\n",
    "plt.ylabel('Crime Types')\n",
    "plt.title('Total Crimes by Crime Type of Crime')\n",
    "\n",
    "\n",
    "plt.gca().spines['top'].set_visible(False)\n",
    "plt.gca().spines['right'].set_visible(False)\n",
    "\n",
    "plt.show()"
   ]
  },
  {
   "cell_type": "markdown",
   "id": "0b3acc11-8447-406f-a52b-9efe15bdaa41",
   "metadata": {},
   "source": [
    "Crime Association by Premises Analysis"
   ]
  },
  {
   "cell_type": "code",
   "execution_count": 118,
   "id": "ac6254da-fd72-4e76-b581-297e6bacacbc",
   "metadata": {},
   "outputs": [
    {
     "name": "stdout",
     "output_type": "stream",
     "text": [
      " * postgresql://student@/group15final\n",
      "(psycopg2.errors.DiskFull) could not write to file \"base/pgsql_tmp/pgsql_tmp6605.0\": No space left on device\n",
      "\n",
      "[SQL: WITH RankedCrimes AS (\n",
      "    SELECT\n",
      "        premis_table.premis_desc,\n",
      "        crime_table.crm_cd_desc,\n",
      "        COUNT(fact_table.crime_key) AS total_crimes,\n",
      "        ROW_NUMBER() OVER (PARTITION BY premis_table.premis_desc ORDER BY COUNT(fact_table.crime_key) DESC) AS crime_rank\n",
      "    FROM\n",
      "        fact_table\n",
      "    JOIN\n",
      "        premis_table ON fact_table.premis_key = premis_table.premis_key\n",
      "    JOIN\n",
      "        crime_table ON fact_table.crime_key = crime_table.crime_key\n",
      "    GROUP BY\n",
      "        premis_table.premis_desc, crime_table.crm_cd_desc\n",
      ")\n",
      "\n",
      "SELECT\n",
      "    premis_desc,\n",
      "    crm_cd_desc AS most_associated_crime,\n",
      "    total_crimes\n",
      "FROM\n",
      "    RankedCrimes\n",
      "WHERE\n",
      "    crime_rank = 1;]\n",
      "(Background on this error at: https://sqlalche.me/e/14/e3q8)\n"
     ]
    }
   ],
   "source": [
    "%%sql\n",
    "WITH RankedCrimes AS (\n",
    "    SELECT\n",
    "        premis_table.premis_desc,\n",
    "        crime_table.crm_cd_desc,\n",
    "        COUNT(fact_table.crime_key) AS total_crimes,\n",
    "        ROW_NUMBER() OVER (PARTITION BY premis_table.premis_desc ORDER BY COUNT(fact_table.crime_key) DESC) AS crime_rank\n",
    "    FROM\n",
    "        fact_table\n",
    "    JOIN\n",
    "        premis_table ON fact_table.premis_key = premis_table.premis_key\n",
    "    JOIN\n",
    "        crime_table ON fact_table.crime_key = crime_table.crime_key\n",
    "    GROUP BY\n",
    "        premis_table.premis_desc, crime_table.crm_cd_desc\n",
    ")\n",
    "\n",
    "SELECT\n",
    "    premis_desc,\n",
    "    crm_cd_desc AS most_associated_crime,\n",
    "    total_crimes\n",
    "FROM\n",
    "    RankedCrimes\n",
    "WHERE\n",
    "    crime_rank = 1;\n"
   ]
  },
  {
   "cell_type": "code",
   "execution_count": null,
   "id": "eb985b2f-64a4-4499-90bb-1fdde1ab34cf",
   "metadata": {},
   "outputs": [],
   "source": []
  }
 ],
 "metadata": {
  "colab": {
   "provenance": []
  },
  "kernelspec": {
   "display_name": "Python 3 (ipykernel)",
   "language": "python",
   "name": "python3"
  },
  "language_info": {
   "codemirror_mode": {
    "name": "ipython",
    "version": 3
   },
   "file_extension": ".py",
   "mimetype": "text/x-python",
   "name": "python",
   "nbconvert_exporter": "python",
   "pygments_lexer": "ipython3",
   "version": "3.9.7"
  }
 },
 "nbformat": 4,
 "nbformat_minor": 5
}
